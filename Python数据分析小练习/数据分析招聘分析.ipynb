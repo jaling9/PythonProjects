{
 "cells": [
  {
   "cell_type": "code",
   "execution_count": 1,
   "metadata": {},
   "outputs": [],
   "source": [
    "import pandas as pd"
   ]
  },
  {
   "cell_type": "code",
   "execution_count": 2,
   "metadata": {},
   "outputs": [
    {
     "data": {
      "text/html": [
       "<div>\n",
       "<style scoped>\n",
       "    .dataframe tbody tr th:only-of-type {\n",
       "        vertical-align: middle;\n",
       "    }\n",
       "\n",
       "    .dataframe tbody tr th {\n",
       "        vertical-align: top;\n",
       "    }\n",
       "\n",
       "    .dataframe thead th {\n",
       "        text-align: right;\n",
       "    }\n",
       "</style>\n",
       "<table border=\"1\" class=\"dataframe\">\n",
       "  <thead>\n",
       "    <tr style=\"text-align: right;\">\n",
       "      <th></th>\n",
       "      <th>职位名称</th>\n",
       "      <th>薪资范围</th>\n",
       "      <th>地点</th>\n",
       "      <th>工作经验</th>\n",
       "      <th>学历要求</th>\n",
       "      <th>岗位标签</th>\n",
       "      <th>公司名称</th>\n",
       "      <th>公司类型</th>\n",
       "      <th>公司规模</th>\n",
       "    </tr>\n",
       "  </thead>\n",
       "  <tbody>\n",
       "    <tr>\n",
       "      <th>0</th>\n",
       "      <td>数据分析师</td>\n",
       "      <td>1万-2万</td>\n",
       "      <td>上海</td>\n",
       "      <td>不限</td>\n",
       "      <td>硕士</td>\n",
       "      <td>['数据分析', '数据挖掘', '数据建模', 'SQL', 'Python']</td>\n",
       "      <td>好人生(上海)健康科技有限公司</td>\n",
       "      <td>民营</td>\n",
       "      <td>20-99人</td>\n",
       "    </tr>\n",
       "    <tr>\n",
       "      <th>1</th>\n",
       "      <td>数据分析师</td>\n",
       "      <td>1.2万-1.7万</td>\n",
       "      <td>上海-徐汇区</td>\n",
       "      <td>1-3年</td>\n",
       "      <td>本科</td>\n",
       "      <td>['Python', 'Tableau', '描述统计', 'R', 'Excel', 'P...</td>\n",
       "      <td>西安万兴服务外包有限责任公司</td>\n",
       "      <td></td>\n",
       "      <td>20-99人</td>\n",
       "    </tr>\n",
       "    <tr>\n",
       "      <th>2</th>\n",
       "      <td>数据分析专员</td>\n",
       "      <td>7千-9千</td>\n",
       "      <td>上海</td>\n",
       "      <td>1-3年</td>\n",
       "      <td>本科</td>\n",
       "      <td>['数据分析']</td>\n",
       "      <td>上海乔治白实业有限公司</td>\n",
       "      <td>上市公司</td>\n",
       "      <td>100-299人</td>\n",
       "    </tr>\n",
       "    <tr>\n",
       "      <th>3</th>\n",
       "      <td>数据分析师</td>\n",
       "      <td>2万-3万</td>\n",
       "      <td>上海-杨浦区</td>\n",
       "      <td>不限</td>\n",
       "      <td>本科</td>\n",
       "      <td>['Python', 'SQL', '回归分析', '方差分析']</td>\n",
       "      <td>上海八客信息科技有限公司</td>\n",
       "      <td>民营</td>\n",
       "      <td>1000-9999人</td>\n",
       "    </tr>\n",
       "    <tr>\n",
       "      <th>4</th>\n",
       "      <td>数据分析师</td>\n",
       "      <td>1.4万-2万</td>\n",
       "      <td>上海-宝山区</td>\n",
       "      <td>1-3年</td>\n",
       "      <td>本科</td>\n",
       "      <td>['SQL', 'Python', 'Pandas', '决策树', 'SVM RNN', ...</td>\n",
       "      <td>成都奋途商贸有限公司</td>\n",
       "      <td>民营</td>\n",
       "      <td>100-299人</td>\n",
       "    </tr>\n",
       "  </tbody>\n",
       "</table>\n",
       "</div>"
      ],
      "text/plain": [
       "     职位名称       薪资范围      地点  工作经验 学历要求  \\\n",
       "0   数据分析师      1万-2万      上海    不限   硕士   \n",
       "1   数据分析师  1.2万-1.7万  上海-徐汇区  1-3年   本科   \n",
       "2  数据分析专员      7千-9千      上海  1-3年   本科   \n",
       "3   数据分析师      2万-3万  上海-杨浦区    不限   本科   \n",
       "4   数据分析师    1.4万-2万  上海-宝山区  1-3年   本科   \n",
       "\n",
       "                                                岗位标签             公司名称   公司类型  \\\n",
       "0          ['数据分析', '数据挖掘', '数据建模', 'SQL', 'Python']  好人生(上海)健康科技有限公司    民营    \n",
       "1  ['Python', 'Tableau', '描述统计', 'R', 'Excel', 'P...   西安万兴服务外包有限责任公司          \n",
       "2                                           ['数据分析']      上海乔治白实业有限公司  上市公司    \n",
       "3                  ['Python', 'SQL', '回归分析', '方差分析']     上海八客信息科技有限公司    民营    \n",
       "4  ['SQL', 'Python', 'Pandas', '决策树', 'SVM RNN', ...       成都奋途商贸有限公司    民营    \n",
       "\n",
       "          公司规模  \n",
       "0      20-99人   \n",
       "1      20-99人   \n",
       "2    100-299人   \n",
       "3  1000-9999人   \n",
       "4    100-299人   "
      ]
     },
     "execution_count": 2,
     "metadata": {},
     "output_type": "execute_result"
    }
   ],
   "source": [
    "data = pd.read_csv('2022年数据分析岗招聘数据.csv')\n",
    "data.head()"
   ]
  },
  {
   "cell_type": "code",
   "execution_count": 4,
   "metadata": {},
   "outputs": [
    {
     "data": {
      "text/plain": [
       "(6593, 9)"
      ]
     },
     "execution_count": 4,
     "metadata": {},
     "output_type": "execute_result"
    }
   ],
   "source": [
    "data.shape"
   ]
  },
  {
   "cell_type": "code",
   "execution_count": 3,
   "metadata": {},
   "outputs": [
    {
     "name": "stdout",
     "output_type": "stream",
     "text": [
      "<class 'pandas.core.frame.DataFrame'>\n",
      "RangeIndex: 6593 entries, 0 to 6592\n",
      "Data columns (total 9 columns):\n",
      " #   Column  Non-Null Count  Dtype \n",
      "---  ------  --------------  ----- \n",
      " 0   职位名称    6593 non-null   object\n",
      " 1   薪资范围    6593 non-null   object\n",
      " 2   地点      6593 non-null   object\n",
      " 3   工作经验    6593 non-null   object\n",
      " 4   学历要求    6593 non-null   object\n",
      " 5   岗位标签    6593 non-null   object\n",
      " 6   公司名称    6593 non-null   object\n",
      " 7   公司类型    6593 non-null   object\n",
      " 8   公司规模    6512 non-null   object\n",
      "dtypes: object(9)\n",
      "memory usage: 463.7+ KB\n"
     ]
    }
   ],
   "source": [
    "data.info()"
   ]
  },
  {
   "cell_type": "code",
   "execution_count": null,
   "metadata": {},
   "outputs": [],
   "source": []
  }
 ],
 "metadata": {
  "kernelspec": {
   "display_name": "Python 3.10.5 64-bit (windows store)",
   "language": "python",
   "name": "python3"
  },
  "language_info": {
   "codemirror_mode": {
    "name": "ipython",
    "version": 3
   },
   "file_extension": ".py",
   "mimetype": "text/x-python",
   "name": "python",
   "nbconvert_exporter": "python",
   "pygments_lexer": "ipython3",
   "version": "3.10.6"
  },
  "orig_nbformat": 4,
  "vscode": {
   "interpreter": {
    "hash": "825850a1542703e8330eb48918fb3db9db9b2154f7cb48e5f7ab1215ef3a88b8"
   }
  }
 },
 "nbformat": 4,
 "nbformat_minor": 2
}
