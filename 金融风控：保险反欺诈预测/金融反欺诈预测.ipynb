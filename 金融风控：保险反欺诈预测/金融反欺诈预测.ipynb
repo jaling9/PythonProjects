{
 "cells": [
  {
   "cell_type": "code",
   "execution_count": 14,
   "metadata": {},
   "outputs": [],
   "source": [
    "import pandas as pd\n",
    "import datetime\n",
    "import warnings\n",
    "warnings.filterwarnings('ignore')\n",
    "from sklearn.model_selection import StratifiedKFold\n",
    "#warnings.filterwarnings('ignore')\n",
    "#%matplotlib inline\n",
    "from sklearn.metrics import roc_auc_score\n",
    "## 数据降维处理的\n",
    "from sklearn.model_selection import train_test_split  \n",
    "from catboost import CatBoostClassifier\n",
    "from sklearn.preprocessing import LabelEncoder"
   ]
  },
  {
   "cell_type": "code",
   "execution_count": 15,
   "metadata": {},
   "outputs": [
    {
     "data": {
      "text/html": [
       "<div>\n",
       "<style scoped>\n",
       "    .dataframe tbody tr th:only-of-type {\n",
       "        vertical-align: middle;\n",
       "    }\n",
       "\n",
       "    .dataframe tbody tr th {\n",
       "        vertical-align: top;\n",
       "    }\n",
       "\n",
       "    .dataframe thead th {\n",
       "        text-align: right;\n",
       "    }\n",
       "</style>\n",
       "<table border=\"1\" class=\"dataframe\">\n",
       "  <thead>\n",
       "    <tr style=\"text-align: right;\">\n",
       "      <th></th>\n",
       "      <th>policy_id</th>\n",
       "      <th>age</th>\n",
       "      <th>customer_months</th>\n",
       "      <th>policy_bind_date</th>\n",
       "      <th>policy_state</th>\n",
       "      <th>policy_csl</th>\n",
       "      <th>policy_deductable</th>\n",
       "      <th>policy_annual_premium</th>\n",
       "      <th>umbrella_limit</th>\n",
       "      <th>insured_zip</th>\n",
       "      <th>...</th>\n",
       "      <th>witnesses</th>\n",
       "      <th>police_report_available</th>\n",
       "      <th>total_claim_amount</th>\n",
       "      <th>injury_claim</th>\n",
       "      <th>property_claim</th>\n",
       "      <th>vehicle_claim</th>\n",
       "      <th>auto_make</th>\n",
       "      <th>auto_model</th>\n",
       "      <th>auto_year</th>\n",
       "      <th>fraud</th>\n",
       "    </tr>\n",
       "  </thead>\n",
       "  <tbody>\n",
       "    <tr>\n",
       "      <th>0</th>\n",
       "      <td>122576</td>\n",
       "      <td>37</td>\n",
       "      <td>189</td>\n",
       "      <td>2013-08-21</td>\n",
       "      <td>C</td>\n",
       "      <td>500/1000</td>\n",
       "      <td>1000</td>\n",
       "      <td>1465.71</td>\n",
       "      <td>5000000</td>\n",
       "      <td>455456</td>\n",
       "      <td>...</td>\n",
       "      <td>3</td>\n",
       "      <td>?</td>\n",
       "      <td>54930</td>\n",
       "      <td>6029</td>\n",
       "      <td>5752</td>\n",
       "      <td>44452</td>\n",
       "      <td>Nissan</td>\n",
       "      <td>Maxima</td>\n",
       "      <td>2000</td>\n",
       "      <td>0</td>\n",
       "    </tr>\n",
       "    <tr>\n",
       "      <th>1</th>\n",
       "      <td>937713</td>\n",
       "      <td>44</td>\n",
       "      <td>234</td>\n",
       "      <td>1998-01-04</td>\n",
       "      <td>B</td>\n",
       "      <td>250/500</td>\n",
       "      <td>500</td>\n",
       "      <td>821.24</td>\n",
       "      <td>0</td>\n",
       "      <td>591805</td>\n",
       "      <td>...</td>\n",
       "      <td>1</td>\n",
       "      <td>YES</td>\n",
       "      <td>50680</td>\n",
       "      <td>5376</td>\n",
       "      <td>10156</td>\n",
       "      <td>37347</td>\n",
       "      <td>Honda</td>\n",
       "      <td>Civic</td>\n",
       "      <td>1996</td>\n",
       "      <td>0</td>\n",
       "    </tr>\n",
       "    <tr>\n",
       "      <th>2</th>\n",
       "      <td>680237</td>\n",
       "      <td>33</td>\n",
       "      <td>23</td>\n",
       "      <td>1996-02-06</td>\n",
       "      <td>B</td>\n",
       "      <td>500/1000</td>\n",
       "      <td>1000</td>\n",
       "      <td>1844.00</td>\n",
       "      <td>0</td>\n",
       "      <td>442490</td>\n",
       "      <td>...</td>\n",
       "      <td>1</td>\n",
       "      <td>NO</td>\n",
       "      <td>47829</td>\n",
       "      <td>4460</td>\n",
       "      <td>9247</td>\n",
       "      <td>33644</td>\n",
       "      <td>Jeep</td>\n",
       "      <td>Wrangler</td>\n",
       "      <td>2002</td>\n",
       "      <td>0</td>\n",
       "    </tr>\n",
       "    <tr>\n",
       "      <th>3</th>\n",
       "      <td>513080</td>\n",
       "      <td>42</td>\n",
       "      <td>210</td>\n",
       "      <td>2008-11-14</td>\n",
       "      <td>A</td>\n",
       "      <td>500/1000</td>\n",
       "      <td>500</td>\n",
       "      <td>1867.29</td>\n",
       "      <td>0</td>\n",
       "      <td>439408</td>\n",
       "      <td>...</td>\n",
       "      <td>2</td>\n",
       "      <td>YES</td>\n",
       "      <td>68862</td>\n",
       "      <td>11043</td>\n",
       "      <td>5955</td>\n",
       "      <td>53548</td>\n",
       "      <td>Suburu</td>\n",
       "      <td>Legacy</td>\n",
       "      <td>2003</td>\n",
       "      <td>1</td>\n",
       "    </tr>\n",
       "    <tr>\n",
       "      <th>4</th>\n",
       "      <td>192875</td>\n",
       "      <td>29</td>\n",
       "      <td>81</td>\n",
       "      <td>2002-01-08</td>\n",
       "      <td>A</td>\n",
       "      <td>100/300</td>\n",
       "      <td>1000</td>\n",
       "      <td>816.25</td>\n",
       "      <td>0</td>\n",
       "      <td>640575</td>\n",
       "      <td>...</td>\n",
       "      <td>1</td>\n",
       "      <td>YES</td>\n",
       "      <td>59726</td>\n",
       "      <td>5617</td>\n",
       "      <td>10301</td>\n",
       "      <td>41550</td>\n",
       "      <td>Ford</td>\n",
       "      <td>F150</td>\n",
       "      <td>2004</td>\n",
       "      <td>0</td>\n",
       "    </tr>\n",
       "    <tr>\n",
       "      <th>...</th>\n",
       "      <td>...</td>\n",
       "      <td>...</td>\n",
       "      <td>...</td>\n",
       "      <td>...</td>\n",
       "      <td>...</td>\n",
       "      <td>...</td>\n",
       "      <td>...</td>\n",
       "      <td>...</td>\n",
       "      <td>...</td>\n",
       "      <td>...</td>\n",
       "      <td>...</td>\n",
       "      <td>...</td>\n",
       "      <td>...</td>\n",
       "      <td>...</td>\n",
       "      <td>...</td>\n",
       "      <td>...</td>\n",
       "      <td>...</td>\n",
       "      <td>...</td>\n",
       "      <td>...</td>\n",
       "      <td>...</td>\n",
       "      <td>...</td>\n",
       "    </tr>\n",
       "    <tr>\n",
       "      <th>695</th>\n",
       "      <td>1008425</td>\n",
       "      <td>37</td>\n",
       "      <td>196</td>\n",
       "      <td>1997-06-29</td>\n",
       "      <td>C</td>\n",
       "      <td>250/500</td>\n",
       "      <td>500</td>\n",
       "      <td>1301.20</td>\n",
       "      <td>0</td>\n",
       "      <td>474615</td>\n",
       "      <td>...</td>\n",
       "      <td>3</td>\n",
       "      <td>NO</td>\n",
       "      <td>61433</td>\n",
       "      <td>10436</td>\n",
       "      <td>11432</td>\n",
       "      <td>39745</td>\n",
       "      <td>Nissan</td>\n",
       "      <td>Pathfinder</td>\n",
       "      <td>2011</td>\n",
       "      <td>1</td>\n",
       "    </tr>\n",
       "    <tr>\n",
       "      <th>696</th>\n",
       "      <td>770702</td>\n",
       "      <td>43</td>\n",
       "      <td>229</td>\n",
       "      <td>2001-05-29</td>\n",
       "      <td>A</td>\n",
       "      <td>250/500</td>\n",
       "      <td>500</td>\n",
       "      <td>1434.94</td>\n",
       "      <td>8000000</td>\n",
       "      <td>444476</td>\n",
       "      <td>...</td>\n",
       "      <td>1</td>\n",
       "      <td>?</td>\n",
       "      <td>68623</td>\n",
       "      <td>6798</td>\n",
       "      <td>14557</td>\n",
       "      <td>50606</td>\n",
       "      <td>Volkswagen</td>\n",
       "      <td>Passat</td>\n",
       "      <td>2013</td>\n",
       "      <td>1</td>\n",
       "    </tr>\n",
       "    <tr>\n",
       "      <th>697</th>\n",
       "      <td>755099</td>\n",
       "      <td>35</td>\n",
       "      <td>209</td>\n",
       "      <td>2003-01-11</td>\n",
       "      <td>C</td>\n",
       "      <td>100/300</td>\n",
       "      <td>500</td>\n",
       "      <td>1639.46</td>\n",
       "      <td>0</td>\n",
       "      <td>639608</td>\n",
       "      <td>...</td>\n",
       "      <td>0</td>\n",
       "      <td>YES</td>\n",
       "      <td>58033</td>\n",
       "      <td>9129</td>\n",
       "      <td>4598</td>\n",
       "      <td>40740</td>\n",
       "      <td>Mercedes</td>\n",
       "      <td>C300</td>\n",
       "      <td>2002</td>\n",
       "      <td>0</td>\n",
       "    </tr>\n",
       "    <tr>\n",
       "      <th>698</th>\n",
       "      <td>693804</td>\n",
       "      <td>44</td>\n",
       "      <td>275</td>\n",
       "      <td>2003-07-22</td>\n",
       "      <td>B</td>\n",
       "      <td>500/1000</td>\n",
       "      <td>2000</td>\n",
       "      <td>1042.29</td>\n",
       "      <td>0</td>\n",
       "      <td>432061</td>\n",
       "      <td>...</td>\n",
       "      <td>0</td>\n",
       "      <td>NO</td>\n",
       "      <td>35253</td>\n",
       "      <td>7359</td>\n",
       "      <td>3464</td>\n",
       "      <td>24677</td>\n",
       "      <td>Audi</td>\n",
       "      <td>A3</td>\n",
       "      <td>2007</td>\n",
       "      <td>1</td>\n",
       "    </tr>\n",
       "    <tr>\n",
       "      <th>699</th>\n",
       "      <td>598086</td>\n",
       "      <td>47</td>\n",
       "      <td>263</td>\n",
       "      <td>1996-08-15</td>\n",
       "      <td>C</td>\n",
       "      <td>500/1000</td>\n",
       "      <td>500</td>\n",
       "      <td>1282.56</td>\n",
       "      <td>0</td>\n",
       "      <td>433809</td>\n",
       "      <td>...</td>\n",
       "      <td>0</td>\n",
       "      <td>NO</td>\n",
       "      <td>24320</td>\n",
       "      <td>2250</td>\n",
       "      <td>4285</td>\n",
       "      <td>18092</td>\n",
       "      <td>Suburu</td>\n",
       "      <td>Forrestor</td>\n",
       "      <td>2008</td>\n",
       "      <td>0</td>\n",
       "    </tr>\n",
       "  </tbody>\n",
       "</table>\n",
       "<p>700 rows × 38 columns</p>\n",
       "</div>"
      ],
      "text/plain": [
       "     policy_id  age  customer_months policy_bind_date policy_state policy_csl  \\\n",
       "0       122576   37              189       2013-08-21            C   500/1000   \n",
       "1       937713   44              234       1998-01-04            B    250/500   \n",
       "2       680237   33               23       1996-02-06            B   500/1000   \n",
       "3       513080   42              210       2008-11-14            A   500/1000   \n",
       "4       192875   29               81       2002-01-08            A    100/300   \n",
       "..         ...  ...              ...              ...          ...        ...   \n",
       "695    1008425   37              196       1997-06-29            C    250/500   \n",
       "696     770702   43              229       2001-05-29            A    250/500   \n",
       "697     755099   35              209       2003-01-11            C    100/300   \n",
       "698     693804   44              275       2003-07-22            B   500/1000   \n",
       "699     598086   47              263       1996-08-15            C   500/1000   \n",
       "\n",
       "     policy_deductable  policy_annual_premium  umbrella_limit  insured_zip  \\\n",
       "0                 1000                1465.71         5000000       455456   \n",
       "1                  500                 821.24               0       591805   \n",
       "2                 1000                1844.00               0       442490   \n",
       "3                  500                1867.29               0       439408   \n",
       "4                 1000                 816.25               0       640575   \n",
       "..                 ...                    ...             ...          ...   \n",
       "695                500                1301.20               0       474615   \n",
       "696                500                1434.94         8000000       444476   \n",
       "697                500                1639.46               0       639608   \n",
       "698               2000                1042.29               0       432061   \n",
       "699                500                1282.56               0       433809   \n",
       "\n",
       "     ... witnesses police_report_available total_claim_amount injury_claim  \\\n",
       "0    ...         3                       ?              54930         6029   \n",
       "1    ...         1                     YES              50680         5376   \n",
       "2    ...         1                      NO              47829         4460   \n",
       "3    ...         2                     YES              68862        11043   \n",
       "4    ...         1                     YES              59726         5617   \n",
       "..   ...       ...                     ...                ...          ...   \n",
       "695  ...         3                      NO              61433        10436   \n",
       "696  ...         1                       ?              68623         6798   \n",
       "697  ...         0                     YES              58033         9129   \n",
       "698  ...         0                      NO              35253         7359   \n",
       "699  ...         0                      NO              24320         2250   \n",
       "\n",
       "    property_claim  vehicle_claim   auto_make  auto_model auto_year fraud  \n",
       "0             5752          44452      Nissan      Maxima      2000     0  \n",
       "1            10156          37347       Honda       Civic      1996     0  \n",
       "2             9247          33644        Jeep    Wrangler      2002     0  \n",
       "3             5955          53548      Suburu      Legacy      2003     1  \n",
       "4            10301          41550        Ford        F150      2004     0  \n",
       "..             ...            ...         ...         ...       ...   ...  \n",
       "695          11432          39745      Nissan  Pathfinder      2011     1  \n",
       "696          14557          50606  Volkswagen      Passat      2013     1  \n",
       "697           4598          40740    Mercedes        C300      2002     0  \n",
       "698           3464          24677        Audi          A3      2007     1  \n",
       "699           4285          18092      Suburu   Forrestor      2008     0  \n",
       "\n",
       "[700 rows x 38 columns]"
      ]
     },
     "execution_count": 15,
     "metadata": {},
     "output_type": "execute_result"
    }
   ],
   "source": [
    "train=pd.read_csv(\"train.csv\")\n",
    "test=pd.read_csv(\"test.csv\")\n",
    "sub=pd.read_csv(\"submission.csv\")\n",
    "train"
   ]
  },
  {
   "cell_type": "code",
   "execution_count": 16,
   "metadata": {},
   "outputs": [
    {
     "data": {
      "text/plain": [
       "0      2014-12-22\n",
       "1      2015-02-18\n",
       "2      2015-01-18\n",
       "3      2015-02-02\n",
       "4      2015-02-09\n",
       "          ...    \n",
       "295    2015-01-14\n",
       "296    2015-02-09\n",
       "297    2014-12-21\n",
       "298    2015-01-27\n",
       "299    2015-01-29\n",
       "Name: incident_date, Length: 1000, dtype: object"
      ]
     },
     "execution_count": 16,
     "metadata": {},
     "output_type": "execute_result"
    }
   ],
   "source": [
    "data=pd.concat([train,test])\n",
    "data['incident_date']"
   ]
  },
  {
   "cell_type": "code",
   "execution_count": 17,
   "metadata": {},
   "outputs": [
    {
     "data": {
      "text/plain": [
       "0     2014-12-22\n",
       "1     2015-02-18\n",
       "2     2015-01-18\n",
       "3     2015-02-02\n",
       "4     2015-02-09\n",
       "         ...    \n",
       "295   2015-01-14\n",
       "296   2015-02-09\n",
       "297   2014-12-21\n",
       "298   2015-01-27\n",
       "299   2015-01-29\n",
       "Name: incident_date, Length: 1000, dtype: datetime64[ns]"
      ]
     },
     "execution_count": 17,
     "metadata": {},
     "output_type": "execute_result"
    }
   ],
   "source": [
    "data['incident_date'] = pd.to_datetime(data['incident_date'],format='%Y-%m-%d')\n",
    "data['incident_date']"
   ]
  },
  {
   "cell_type": "code",
   "execution_count": 18,
   "metadata": {},
   "outputs": [
    {
     "data": {
      "text/plain": [
       "datetime.datetime(2022, 6, 30, 0, 0)"
      ]
     },
     "execution_count": 18,
     "metadata": {},
     "output_type": "execute_result"
    }
   ],
   "source": [
    "startdate = datetime.datetime.strptime('2022-06-30', '%Y-%m-%d')\n",
    "startdate"
   ]
  },
  {
   "cell_type": "code",
   "execution_count": 19,
   "metadata": {},
   "outputs": [
    {
     "data": {
      "text/plain": [
       "0      2747\n",
       "1      2689\n",
       "2      2720\n",
       "3      2705\n",
       "4      2698\n",
       "       ... \n",
       "295    2724\n",
       "296    2698\n",
       "297    2748\n",
       "298    2711\n",
       "299    2709\n",
       "Name: time, Length: 1000, dtype: int64"
      ]
     },
     "execution_count": 19,
     "metadata": {},
     "output_type": "execute_result"
    }
   ],
   "source": [
    "data['time'] = data['incident_date'].apply(lambda x: startdate-x).dt.days\n",
    "data['time']"
   ]
  },
  {
   "cell_type": "code",
   "execution_count": 20,
   "metadata": {},
   "outputs": [
    {
     "name": "stdout",
     "output_type": "stream",
     "text": [
      "数据预处理完成!\n"
     ]
    }
   ],
   "source": [
    "#Encoder\n",
    "numerical_fea = list(data.select_dtypes(include=['object']).columns)\n",
    "division_le = LabelEncoder()\n",
    "for fea in numerical_fea:\n",
    "    division_le.fit(data[fea].values)\n",
    "    data[fea] = division_le.transform(data[fea].values) \n",
    "print(\"数据预处理完成!\")\n"
   ]
  },
  {
   "cell_type": "code",
   "execution_count": null,
   "metadata": {},
   "outputs": [],
   "source": [
    "testA=data[data['fraud'].isnull()].drop(['policy_id','incident_date','fraud'],axis=1)\n",
    "trainA=data[data['fraud'].notnull()]\n",
    "data_x=trainA.drop(['policy_id','incident_date','fraud'],axis=1)\n",
    "data_y=train[['fraud']].copy()\n",
    "col=['policy_state','insured_sex','insured_education_level','incident_type','collision_type','incident_severity','authorities_contacted','incident_state',\n",
    "     'incident_city','police_report_available','auto_make','auto_model']\n",
    "for i in data_x.columns:\n",
    "    if i in col:\n",
    "        data_x[i] = data_x[i].astype('str')\n",
    "for i in testA.columns:\n",
    "    if i in col:\n",
    "        testA[i] = testA[i].astype('str')     "
   ]
  },
  {
   "cell_type": "code",
   "execution_count": 22,
   "metadata": {},
   "outputs": [
    {
     "name": "stderr",
     "output_type": "stream",
     "text": [
      "Default metric period is 5 because AUC is/are not implemented for GPU\n"
     ]
    },
    {
     "name": "stdout",
     "output_type": "stream",
     "text": [
      "0:\ttest: 0.7612180\tbest: 0.7612180 (0)\ttotal: 106ms\tremaining: 17m 44s\n",
      "bestTest = 0.8269231021\n",
      "bestIteration = 3\n",
      "Shrink model to first 4 iterations.\n",
      "cat验证的auc:0.766025641025641\n"
     ]
    },
    {
     "name": "stderr",
     "output_type": "stream",
     "text": [
      "Default metric period is 5 because AUC is/are not implemented for GPU\n"
     ]
    },
    {
     "name": "stdout",
     "output_type": "stream",
     "text": [
      "0:\ttest: 0.7179487\tbest: 0.7179487 (0)\ttotal: 67.2ms\tremaining: 11m 12s\n",
      "bestTest = 0.8653846383\n",
      "bestIteration = 24\n",
      "Shrink model to first 25 iterations.\n",
      "cat验证的auc:0.8760683760683761\n"
     ]
    },
    {
     "name": "stderr",
     "output_type": "stream",
     "text": [
      "Default metric period is 5 because AUC is/are not implemented for GPU\n"
     ]
    },
    {
     "name": "stdout",
     "output_type": "stream",
     "text": [
      "0:\ttest: 0.8648504\tbest: 0.8648504 (0)\ttotal: 71.6ms\tremaining: 11m 55s\n",
      "bestTest = 0.8899572492\n",
      "bestIteration = 41\n",
      "Shrink model to first 42 iterations.\n",
      "cat验证的auc:0.8963675213675213\n"
     ]
    },
    {
     "name": "stderr",
     "output_type": "stream",
     "text": [
      "Default metric period is 5 because AUC is/are not implemented for GPU\n"
     ]
    },
    {
     "name": "stdout",
     "output_type": "stream",
     "text": [
      "0:\ttest: 0.7500000\tbest: 0.7500000 (0)\ttotal: 65.4ms\tremaining: 10m 54s\n",
      "bestTest = 0.8675213456\n",
      "bestIteration = 46\n",
      "Shrink model to first 47 iterations.\n",
      "cat验证的auc:0.7938034188034189\n"
     ]
    },
    {
     "name": "stderr",
     "output_type": "stream",
     "text": [
      "Default metric period is 5 because AUC is/are not implemented for GPU\n"
     ]
    },
    {
     "name": "stdout",
     "output_type": "stream",
     "text": [
      "0:\ttest: 0.6949786\tbest: 0.6949786 (0)\ttotal: 65.9ms\tremaining: 10m 58s\n",
      "bestTest = 0.8632478714\n",
      "bestIteration = 53\n",
      "Shrink model to first 54 iterations.\n",
      "cat验证的auc:0.719017094017094\n"
     ]
    },
    {
     "name": "stderr",
     "output_type": "stream",
     "text": [
      "Default metric period is 5 because AUC is/are not implemented for GPU\n"
     ]
    },
    {
     "name": "stdout",
     "output_type": "stream",
     "text": [
      "0:\ttest: 0.8397436\tbest: 0.8397436 (0)\ttotal: 71.3ms\tremaining: 11m 53s\n",
      "bestTest = 0.8760683537\n",
      "bestIteration = 24\n",
      "Shrink model to first 25 iterations.\n",
      "cat验证的auc:0.8215811965811967\n"
     ]
    },
    {
     "name": "stderr",
     "output_type": "stream",
     "text": [
      "Default metric period is 5 because AUC is/are not implemented for GPU\n"
     ]
    },
    {
     "name": "stdout",
     "output_type": "stream",
     "text": [
      "0:\ttest: 0.7686966\tbest: 0.7686966 (0)\ttotal: 70.6ms\tremaining: 11m 46s\n",
      "bestTest = 0.9337607026\n",
      "bestIteration = 128\n",
      "Shrink model to first 129 iterations.\n",
      "cat验证的auc:0.8408119658119657\n"
     ]
    },
    {
     "name": "stderr",
     "output_type": "stream",
     "text": [
      "Default metric period is 5 because AUC is/are not implemented for GPU\n"
     ]
    },
    {
     "name": "stdout",
     "output_type": "stream",
     "text": [
      "0:\ttest: 0.7179487\tbest: 0.7179487 (0)\ttotal: 66.1ms\tremaining: 11m 1s\n",
      "bestTest = 0.8338675201\n",
      "bestIteration = 7\n",
      "Shrink model to first 8 iterations.\n",
      "cat验证的auc:0.7104700854700855\n"
     ]
    },
    {
     "name": "stderr",
     "output_type": "stream",
     "text": [
      "Default metric period is 5 because AUC is/are not implemented for GPU\n"
     ]
    },
    {
     "name": "stdout",
     "output_type": "stream",
     "text": [
      "0:\ttest: 0.7313034\tbest: 0.7313034 (0)\ttotal: 71.5ms\tremaining: 11m 54s\n",
      "bestTest = 0.855769217\n",
      "bestIteration = 4\n",
      "Shrink model to first 5 iterations.\n",
      "cat验证的auc:0.7745726495726496\n"
     ]
    },
    {
     "name": "stderr",
     "output_type": "stream",
     "text": [
      "Default metric period is 5 because AUC is/are not implemented for GPU\n"
     ]
    },
    {
     "name": "stdout",
     "output_type": "stream",
     "text": [
      "0:\ttest: 0.7177503\tbest: 0.7177503 (0)\ttotal: 63.9ms\tremaining: 10m 38s\n",
      "500:\ttest: 0.8926728\tbest: 0.8957688 (376)\ttotal: 34.6s\tremaining: 10m 55s\n",
      "bestTest = 0.8957688212\n",
      "bestIteration = 376\n",
      "Shrink model to first 377 iterations.\n",
      "cat验证的auc:0.7435500515995872\n",
      "10折平均Auc:0.7942268000317537\n"
     ]
    }
   ],
   "source": [
    "  \n",
    "model=CatBoostClassifier(\n",
    "            loss_function=\"Logloss\",\n",
    "            eval_metric=\"AUC\",\n",
    "            task_type=\"GPU\",\n",
    "            learning_rate=0.1,\n",
    "            iterations=10000,\n",
    "            random_seed=2020,\n",
    "            od_type=\"Iter\",\n",
    "            depth=7,\n",
    "            early_stopping_rounds=300)\n",
    "            \n",
    "answers = []\n",
    "mean_score = 0\n",
    "n_folds = 10\n",
    "sk = StratifiedKFold(n_splits=n_folds, shuffle=True, random_state=2019)\n",
    "for train, test in sk.split(data_x, data_y):\n",
    "    x_train = data_x.iloc[train]\n",
    "    y_train = data_y.iloc[train]\n",
    "    x_test = data_x.iloc[test]\n",
    "    y_test = data_y.iloc[test]\n",
    "    clf = model.fit(x_train,y_train, eval_set=(x_test,y_test),verbose=500,cat_features=col)\n",
    "    yy_pred_valid=clf.predict(x_test)\n",
    "    print('cat验证的auc:{}'.format(roc_auc_score(y_test, yy_pred_valid)))\n",
    "    mean_score += roc_auc_score(y_test, yy_pred_valid) / n_folds\n",
    "    y_pred_valid = clf.predict(testA,prediction_type='Probability')[:,-1]\n",
    "    answers.append(y_pred_valid)\n",
    "print('10折平均Auc:{}'.format(mean_score))\n",
    "lgb_pre=sum(answers)/n_folds\n",
    "sub['fraud']=lgb_pre\n",
    "sub.to_csv('金融2预测.csv',index=False) "
   ]
  }
 ],
 "metadata": {
  "kernelspec": {
   "display_name": "Python 3.10.6 64-bit (windows store)",
   "language": "python",
   "name": "python3"
  },
  "language_info": {
   "codemirror_mode": {
    "name": "ipython",
    "version": 3
   },
   "file_extension": ".py",
   "mimetype": "text/x-python",
   "name": "python",
   "nbconvert_exporter": "python",
   "pygments_lexer": "ipython3",
   "version": "3.10.6"
  },
  "orig_nbformat": 4,
  "vscode": {
   "interpreter": {
    "hash": "825850a1542703e8330eb48918fb3db9db9b2154f7cb48e5f7ab1215ef3a88b8"
   }
  }
 },
 "nbformat": 4,
 "nbformat_minor": 2
}
