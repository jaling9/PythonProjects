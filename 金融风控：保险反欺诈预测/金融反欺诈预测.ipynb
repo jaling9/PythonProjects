{
 "cells": [
  {
   "cell_type": "code",
   "execution_count": 1,
   "metadata": {},
   "outputs": [],
   "source": [
    "import pandas as pd\n",
    "import datetime\n",
    "import warnings\n",
    "warnings.filterwarnings('ignore')\n",
    "from sklearn.model_selection import StratifiedKFold\n",
    "#warnings.filterwarnings('ignore')\n",
    "#%matplotlib inline\n",
    "from sklearn.metrics import roc_auc_score\n",
    "## 数据降维处理的\n",
    "from sklearn.model_selection import train_test_split  \n",
    "from catboost import CatBoostClassifier\n",
    "from sklearn.preprocessing import LabelEncoder\n"
   ]
  },
  {
   "cell_type": "code",
   "execution_count": 2,
   "metadata": {},
   "outputs": [],
   "source": [
    "train=pd.read_csv(\"train.csv\")\n",
    "test=pd.read_csv(\"test.csv\")\n",
    "sub=pd.read_csv(\"submission.csv\")\n"
   ]
  },
  {
   "cell_type": "code",
   "execution_count": 3,
   "metadata": {},
   "outputs": [],
   "source": [
    "data=pd.concat([train,test])\n",
    "data['incident_date'] = pd.to_datetime(data['incident_date'],format='%Y-%m-%d')\n",
    "startdate = datetime.datetime.strptime('2022-06-30', '%Y-%m-%d')\n",
    "data['time'] = data['incident_date'].apply(lambda x: startdate-x).dt.days\n"
   ]
  },
  {
   "cell_type": "code",
   "execution_count": 4,
   "metadata": {},
   "outputs": [
    {
     "name": "stdout",
     "output_type": "stream",
     "text": [
      "数据预处理完成!\n"
     ]
    }
   ],
   "source": [
    "#Encoder\n",
    "numerical_fea = list(data.select_dtypes(include=['object']).columns)\n",
    "division_le = LabelEncoder()\n",
    "for fea in numerical_fea:\n",
    "    division_le.fit(data[fea].values)\n",
    "    data[fea] = division_le.transform(data[fea].values) \n",
    "print(\"数据预处理完成!\")\n",
    "testA=data[data['fraud'].isnull()].drop(['policy_id','incident_date','fraud'],axis=1)\n",
    "trainA=data[data['fraud'].notnull()]\n",
    "data_x=trainA.drop(['policy_id','incident_date','fraud'],axis=1)\n",
    "data_y=train[['fraud']].copy()\n",
    "col=['policy_state','insured_sex','insured_education_level','incident_type','collision_type','incident_severity','authorities_contacted','incident_state',\n",
    "     'incident_city','police_report_available','auto_make','auto_model']\n",
    "for i in data_x.columns:\n",
    "    if i in col:\n",
    "        data_x[i] = data_x[i].astype('str')\n",
    "for i in testA.columns:\n",
    "    if i in col:\n",
    "        testA[i] = testA[i].astype('str')     "
   ]
  },
  {
   "cell_type": "code",
   "execution_count": 5,
   "metadata": {},
   "outputs": [
    {
     "name": "stdout",
     "output_type": "stream",
     "text": [
      "0:\ttest: 0.7564103\tbest: 0.7564103 (0)\ttotal: 207ms\tremaining: 34m 32s\n",
      "Stopped by overfitting detector  (300 iterations wait)\n",
      "\n",
      "bestTest = 0.8563034188\n",
      "bestIteration = 2\n",
      "\n",
      "Shrink model to first 3 iterations.\n",
      "cat验证的auc:0.7008547008547008\n",
      "0:\ttest: 0.6997863\tbest: 0.6997863 (0)\ttotal: 50.5ms\tremaining: 8m 25s\n",
      "500:\ttest: 0.8514957\tbest: 0.8696581 (266)\ttotal: 43.1s\tremaining: 13m 38s\n",
      "Stopped by overfitting detector  (300 iterations wait)\n",
      "\n",
      "bestTest = 0.8696581197\n",
      "bestIteration = 266\n",
      "\n",
      "Shrink model to first 267 iterations.\n",
      "cat验证的auc:0.764957264957265\n",
      "0:\ttest: 0.8782051\tbest: 0.8782051 (0)\ttotal: 71.2ms\tremaining: 11m 51s\n",
      "Stopped by overfitting detector  (300 iterations wait)\n",
      "\n",
      "bestTest = 0.9476495726\n",
      "bestIteration = 29\n",
      "\n",
      "Shrink model to first 30 iterations.\n",
      "cat验证的auc:0.8226495726495727\n",
      "0:\ttest: 0.7467949\tbest: 0.7467949 (0)\ttotal: 77ms\tremaining: 12m 50s\n",
      "Stopped by overfitting detector  (300 iterations wait)\n",
      "\n",
      "bestTest = 0.8397435897\n",
      "bestIteration = 5\n",
      "\n",
      "Shrink model to first 6 iterations.\n",
      "cat验证的auc:0.7286324786324787\n",
      "0:\ttest: 0.7190171\tbest: 0.7190171 (0)\ttotal: 89.8ms\tremaining: 14m 57s\n",
      "Stopped by overfitting detector  (300 iterations wait)\n",
      "\n",
      "bestTest = 0.8568376068\n",
      "bestIteration = 51\n",
      "\n",
      "Shrink model to first 52 iterations.\n",
      "cat验证的auc:0.719017094017094\n",
      "0:\ttest: 0.8215812\tbest: 0.8215812 (0)\ttotal: 48.4ms\tremaining: 8m 4s\n",
      "Stopped by overfitting detector  (300 iterations wait)\n",
      "\n",
      "bestTest = 0.8771367521\n",
      "bestIteration = 10\n",
      "\n",
      "Shrink model to first 11 iterations.\n",
      "cat验证的auc:0.8215811965811967\n",
      "0:\ttest: 0.6826923\tbest: 0.6826923 (0)\ttotal: 74.4ms\tremaining: 12m 24s\n",
      "Stopped by overfitting detector  (300 iterations wait)\n",
      "\n",
      "bestTest = 0.9444444444\n",
      "bestIteration = 164\n",
      "\n",
      "Shrink model to first 165 iterations.\n",
      "cat验证的auc:0.7767094017094017\n",
      "0:\ttest: 0.7660256\tbest: 0.7660256 (0)\ttotal: 89.3ms\tremaining: 14m 52s\n",
      "Stopped by overfitting detector  (300 iterations wait)\n",
      "\n",
      "bestTest = 0.8568376068\n",
      "bestIteration = 38\n",
      "\n",
      "Shrink model to first 39 iterations.\n",
      "cat验证的auc:0.7393162393162394\n",
      "0:\ttest: 0.7371795\tbest: 0.7371795 (0)\ttotal: 76.8ms\tremaining: 12m 48s\n",
      "Stopped by overfitting detector  (300 iterations wait)\n",
      "\n",
      "bestTest = 0.8536324786\n",
      "bestIteration = 124\n",
      "\n",
      "Shrink model to first 125 iterations.\n",
      "cat验证的auc:0.6816239316239316\n",
      "0:\ttest: 0.7373581\tbest: 0.7373581 (0)\ttotal: 77.1ms\tremaining: 12m 50s\n",
      "500:\ttest: 0.8359133\tbest: 0.8462332 (213)\ttotal: 46.3s\tremaining: 14m 37s\n",
      "Stopped by overfitting detector  (300 iterations wait)\n",
      "\n",
      "bestTest = 0.8462332301\n",
      "bestIteration = 213\n",
      "\n",
      "Shrink model to first 214 iterations.\n",
      "cat验证的auc:0.7043343653250773\n",
      "10折平均Auc:0.7459676245666959\n"
     ]
    }
   ],
   "source": [
    "  \n",
    "model=CatBoostClassifier(\n",
    "            loss_function=\"Logloss\",\n",
    "            eval_metric=\"AUC\",\n",
    "            task_type=\"CPU\",\n",
    "            learning_rate=0.1,\n",
    "            iterations=10000,\n",
    "            random_seed=2020,\n",
    "            od_type=\"Iter\",\n",
    "            depth=7,\n",
    "            early_stopping_rounds=300)\n",
    "answers = []\n",
    "mean_score = 0\n",
    "n_folds = 10\n",
    "sk = StratifiedKFold(n_splits=n_folds, shuffle=True, random_state=2019)\n",
    "for train, test in sk.split(data_x, data_y):\n",
    "    x_train = data_x.iloc[train]\n",
    "    y_train = data_y.iloc[train]\n",
    "    x_test = data_x.iloc[test]\n",
    "    y_test = data_y.iloc[test]\n",
    "    clf = model.fit(x_train,y_train, eval_set=(x_test,y_test),verbose=500,cat_features=col)\n",
    "    yy_pred_valid=clf.predict(x_test)\n",
    "    print('cat验证的auc:{}'.format(roc_auc_score(y_test, yy_pred_valid)))\n",
    "    mean_score += roc_auc_score(y_test, yy_pred_valid) / n_folds\n",
    "    y_pred_valid = clf.predict(testA,prediction_type='Probability')[:,-1]\n",
    "    answers.append(y_pred_valid)\n",
    "print('10折平均Auc:{}'.format(mean_score))\n",
    "lgb_pre=sum(answers)/n_folds\n",
    "sub['fraud']=lgb_pre\n",
    "sub.to_csv('金融2预测.csv',index=False) "
   ]
  }
 ],
 "metadata": {
  "kernelspec": {
   "display_name": "Python 3.10.6 64-bit (windows store)",
   "language": "python",
   "name": "python3"
  },
  "language_info": {
   "codemirror_mode": {
    "name": "ipython",
    "version": 3
   },
   "file_extension": ".py",
   "mimetype": "text/x-python",
   "name": "python",
   "nbconvert_exporter": "python",
   "pygments_lexer": "ipython3",
   "version": "3.10.6"
  },
  "orig_nbformat": 4,
  "vscode": {
   "interpreter": {
    "hash": "825850a1542703e8330eb48918fb3db9db9b2154f7cb48e5f7ab1215ef3a88b8"
   }
  }
 },
 "nbformat": 4,
 "nbformat_minor": 2
}
