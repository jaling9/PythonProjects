{
 "cells": [
  {
   "cell_type": "markdown",
   "metadata": {},
   "source": [
    "赛题主页:https://www.kaggle.com/competitions/GiveMeSomeCredit/overview  \n",
    "本赛题是一个预测用户是否违约的二分类问题，在此过程中增加制作用户信用评分卡的部分。"
   ]
  },
  {
   "cell_type": "markdown",
   "metadata": {},
   "source": [
    "# 导入所需的库"
   ]
  },
  {
   "cell_type": "code",
   "execution_count": null,
   "metadata": {},
   "outputs": [],
   "source": [
    "import pandas as pd\n",
    "import numpy as np\n",
    "import matplotlib.pyplot as plt\n",
    "from sklearn.linear_model import LogisticRegression"
   ]
  },
  {
   "cell_type": "markdown",
   "metadata": {},
   "source": [
    "# 导入数据"
   ]
  },
  {
   "cell_type": "code",
   "execution_count": 162,
   "metadata": {},
   "outputs": [],
   "source": [
    "#导入数据\n",
    "train_data = pd.read_csv('cs-training.csv')\n",
    "test_data=pd.read_csv('cs-test.csv')"
   ]
  },
  {
   "cell_type": "code",
   "execution_count": 163,
   "metadata": {},
   "outputs": [
    {
     "name": "stdout",
     "output_type": "stream",
     "text": [
      "(150000, 12)\n",
      "(101503, 12)\n",
      "--------------------------------------------------\n",
      "<class 'pandas.core.frame.DataFrame'>\n",
      "RangeIndex: 150000 entries, 0 to 149999\n",
      "Data columns (total 12 columns):\n",
      " #   Column                                Non-Null Count   Dtype  \n",
      "---  ------                                --------------   -----  \n",
      " 0   Unnamed: 0                            150000 non-null  int64  \n",
      " 1   SeriousDlqin2yrs                      150000 non-null  int64  \n",
      " 2   RevolvingUtilizationOfUnsecuredLines  150000 non-null  float64\n",
      " 3   age                                   150000 non-null  int64  \n",
      " 4   NumberOfTime30-59DaysPastDueNotWorse  150000 non-null  int64  \n",
      " 5   DebtRatio                             150000 non-null  float64\n",
      " 6   MonthlyIncome                         120269 non-null  float64\n",
      " 7   NumberOfOpenCreditLinesAndLoans       150000 non-null  int64  \n",
      " 8   NumberOfTimes90DaysLate               150000 non-null  int64  \n",
      " 9   NumberRealEstateLoansOrLines          150000 non-null  int64  \n",
      " 10  NumberOfTime60-89DaysPastDueNotWorse  150000 non-null  int64  \n",
      " 11  NumberOfDependents                    146076 non-null  float64\n",
      "dtypes: float64(4), int64(8)\n",
      "memory usage: 13.7 MB\n",
      "None\n",
      "<class 'pandas.core.frame.DataFrame'>\n",
      "RangeIndex: 101503 entries, 0 to 101502\n",
      "Data columns (total 12 columns):\n",
      " #   Column                                Non-Null Count   Dtype  \n",
      "---  ------                                --------------   -----  \n",
      " 0   Unnamed: 0                            101503 non-null  int64  \n",
      " 1   SeriousDlqin2yrs                      0 non-null       float64\n",
      " 2   RevolvingUtilizationOfUnsecuredLines  101503 non-null  float64\n",
      " 3   age                                   101503 non-null  int64  \n",
      " 4   NumberOfTime30-59DaysPastDueNotWorse  101503 non-null  int64  \n",
      " 5   DebtRatio                             101503 non-null  float64\n",
      " 6   MonthlyIncome                         81400 non-null   float64\n",
      " 7   NumberOfOpenCreditLinesAndLoans       101503 non-null  int64  \n",
      " 8   NumberOfTimes90DaysLate               101503 non-null  int64  \n",
      " 9   NumberRealEstateLoansOrLines          101503 non-null  int64  \n",
      " 10  NumberOfTime60-89DaysPastDueNotWorse  101503 non-null  int64  \n",
      " 11  NumberOfDependents                    98877 non-null   float64\n",
      "dtypes: float64(5), int64(7)\n",
      "memory usage: 9.3 MB\n",
      "None\n"
     ]
    }
   ],
   "source": [
    "print(train_data.shape)\n",
    "print(test_data.shape)\n",
    "print('-'*50)\n",
    "print(train_data.info())\n",
    "print(test_data.info())"
   ]
  },
  {
   "cell_type": "code",
   "execution_count": 164,
   "metadata": {},
   "outputs": [
    {
     "data": {
      "text/html": [
       "<div>\n",
       "<style scoped>\n",
       "    .dataframe tbody tr th:only-of-type {\n",
       "        vertical-align: middle;\n",
       "    }\n",
       "\n",
       "    .dataframe tbody tr th {\n",
       "        vertical-align: top;\n",
       "    }\n",
       "\n",
       "    .dataframe thead th {\n",
       "        text-align: right;\n",
       "    }\n",
       "</style>\n",
       "<table border=\"1\" class=\"dataframe\">\n",
       "  <thead>\n",
       "    <tr style=\"text-align: right;\">\n",
       "      <th></th>\n",
       "      <th>Unnamed: 0</th>\n",
       "      <th>SeriousDlqin2yrs</th>\n",
       "      <th>RevolvingUtilizationOfUnsecuredLines</th>\n",
       "      <th>age</th>\n",
       "      <th>NumberOfTime30-59DaysPastDueNotWorse</th>\n",
       "      <th>DebtRatio</th>\n",
       "      <th>MonthlyIncome</th>\n",
       "      <th>NumberOfOpenCreditLinesAndLoans</th>\n",
       "      <th>NumberOfTimes90DaysLate</th>\n",
       "      <th>NumberRealEstateLoansOrLines</th>\n",
       "      <th>NumberOfTime60-89DaysPastDueNotWorse</th>\n",
       "      <th>NumberOfDependents</th>\n",
       "    </tr>\n",
       "  </thead>\n",
       "  <tbody>\n",
       "    <tr>\n",
       "      <th>0</th>\n",
       "      <td>1</td>\n",
       "      <td>1</td>\n",
       "      <td>0.766127</td>\n",
       "      <td>45</td>\n",
       "      <td>2</td>\n",
       "      <td>0.802982</td>\n",
       "      <td>9120.0</td>\n",
       "      <td>13</td>\n",
       "      <td>0</td>\n",
       "      <td>6</td>\n",
       "      <td>0</td>\n",
       "      <td>2.0</td>\n",
       "    </tr>\n",
       "    <tr>\n",
       "      <th>1</th>\n",
       "      <td>2</td>\n",
       "      <td>0</td>\n",
       "      <td>0.957151</td>\n",
       "      <td>40</td>\n",
       "      <td>0</td>\n",
       "      <td>0.121876</td>\n",
       "      <td>2600.0</td>\n",
       "      <td>4</td>\n",
       "      <td>0</td>\n",
       "      <td>0</td>\n",
       "      <td>0</td>\n",
       "      <td>1.0</td>\n",
       "    </tr>\n",
       "    <tr>\n",
       "      <th>2</th>\n",
       "      <td>3</td>\n",
       "      <td>0</td>\n",
       "      <td>0.658180</td>\n",
       "      <td>38</td>\n",
       "      <td>1</td>\n",
       "      <td>0.085113</td>\n",
       "      <td>3042.0</td>\n",
       "      <td>2</td>\n",
       "      <td>1</td>\n",
       "      <td>0</td>\n",
       "      <td>0</td>\n",
       "      <td>0.0</td>\n",
       "    </tr>\n",
       "    <tr>\n",
       "      <th>3</th>\n",
       "      <td>4</td>\n",
       "      <td>0</td>\n",
       "      <td>0.233810</td>\n",
       "      <td>30</td>\n",
       "      <td>0</td>\n",
       "      <td>0.036050</td>\n",
       "      <td>3300.0</td>\n",
       "      <td>5</td>\n",
       "      <td>0</td>\n",
       "      <td>0</td>\n",
       "      <td>0</td>\n",
       "      <td>0.0</td>\n",
       "    </tr>\n",
       "    <tr>\n",
       "      <th>4</th>\n",
       "      <td>5</td>\n",
       "      <td>0</td>\n",
       "      <td>0.907239</td>\n",
       "      <td>49</td>\n",
       "      <td>1</td>\n",
       "      <td>0.024926</td>\n",
       "      <td>63588.0</td>\n",
       "      <td>7</td>\n",
       "      <td>0</td>\n",
       "      <td>1</td>\n",
       "      <td>0</td>\n",
       "      <td>0.0</td>\n",
       "    </tr>\n",
       "    <tr>\n",
       "      <th>...</th>\n",
       "      <td>...</td>\n",
       "      <td>...</td>\n",
       "      <td>...</td>\n",
       "      <td>...</td>\n",
       "      <td>...</td>\n",
       "      <td>...</td>\n",
       "      <td>...</td>\n",
       "      <td>...</td>\n",
       "      <td>...</td>\n",
       "      <td>...</td>\n",
       "      <td>...</td>\n",
       "      <td>...</td>\n",
       "    </tr>\n",
       "    <tr>\n",
       "      <th>149995</th>\n",
       "      <td>149996</td>\n",
       "      <td>0</td>\n",
       "      <td>0.040674</td>\n",
       "      <td>74</td>\n",
       "      <td>0</td>\n",
       "      <td>0.225131</td>\n",
       "      <td>2100.0</td>\n",
       "      <td>4</td>\n",
       "      <td>0</td>\n",
       "      <td>1</td>\n",
       "      <td>0</td>\n",
       "      <td>0.0</td>\n",
       "    </tr>\n",
       "    <tr>\n",
       "      <th>149996</th>\n",
       "      <td>149997</td>\n",
       "      <td>0</td>\n",
       "      <td>0.299745</td>\n",
       "      <td>44</td>\n",
       "      <td>0</td>\n",
       "      <td>0.716562</td>\n",
       "      <td>5584.0</td>\n",
       "      <td>4</td>\n",
       "      <td>0</td>\n",
       "      <td>1</td>\n",
       "      <td>0</td>\n",
       "      <td>2.0</td>\n",
       "    </tr>\n",
       "    <tr>\n",
       "      <th>149997</th>\n",
       "      <td>149998</td>\n",
       "      <td>0</td>\n",
       "      <td>0.246044</td>\n",
       "      <td>58</td>\n",
       "      <td>0</td>\n",
       "      <td>3870.000000</td>\n",
       "      <td>NaN</td>\n",
       "      <td>18</td>\n",
       "      <td>0</td>\n",
       "      <td>1</td>\n",
       "      <td>0</td>\n",
       "      <td>0.0</td>\n",
       "    </tr>\n",
       "    <tr>\n",
       "      <th>149998</th>\n",
       "      <td>149999</td>\n",
       "      <td>0</td>\n",
       "      <td>0.000000</td>\n",
       "      <td>30</td>\n",
       "      <td>0</td>\n",
       "      <td>0.000000</td>\n",
       "      <td>5716.0</td>\n",
       "      <td>4</td>\n",
       "      <td>0</td>\n",
       "      <td>0</td>\n",
       "      <td>0</td>\n",
       "      <td>0.0</td>\n",
       "    </tr>\n",
       "    <tr>\n",
       "      <th>149999</th>\n",
       "      <td>150000</td>\n",
       "      <td>0</td>\n",
       "      <td>0.850283</td>\n",
       "      <td>64</td>\n",
       "      <td>0</td>\n",
       "      <td>0.249908</td>\n",
       "      <td>8158.0</td>\n",
       "      <td>8</td>\n",
       "      <td>0</td>\n",
       "      <td>2</td>\n",
       "      <td>0</td>\n",
       "      <td>0.0</td>\n",
       "    </tr>\n",
       "  </tbody>\n",
       "</table>\n",
       "<p>150000 rows × 12 columns</p>\n",
       "</div>"
      ],
      "text/plain": [
       "        Unnamed: 0  SeriousDlqin2yrs  RevolvingUtilizationOfUnsecuredLines  \\\n",
       "0                1                 1                              0.766127   \n",
       "1                2                 0                              0.957151   \n",
       "2                3                 0                              0.658180   \n",
       "3                4                 0                              0.233810   \n",
       "4                5                 0                              0.907239   \n",
       "...            ...               ...                                   ...   \n",
       "149995      149996                 0                              0.040674   \n",
       "149996      149997                 0                              0.299745   \n",
       "149997      149998                 0                              0.246044   \n",
       "149998      149999                 0                              0.000000   \n",
       "149999      150000                 0                              0.850283   \n",
       "\n",
       "        age  NumberOfTime30-59DaysPastDueNotWorse    DebtRatio  MonthlyIncome  \\\n",
       "0        45                                     2     0.802982         9120.0   \n",
       "1        40                                     0     0.121876         2600.0   \n",
       "2        38                                     1     0.085113         3042.0   \n",
       "3        30                                     0     0.036050         3300.0   \n",
       "4        49                                     1     0.024926        63588.0   \n",
       "...     ...                                   ...          ...            ...   \n",
       "149995   74                                     0     0.225131         2100.0   \n",
       "149996   44                                     0     0.716562         5584.0   \n",
       "149997   58                                     0  3870.000000            NaN   \n",
       "149998   30                                     0     0.000000         5716.0   \n",
       "149999   64                                     0     0.249908         8158.0   \n",
       "\n",
       "        NumberOfOpenCreditLinesAndLoans  NumberOfTimes90DaysLate  \\\n",
       "0                                    13                        0   \n",
       "1                                     4                        0   \n",
       "2                                     2                        1   \n",
       "3                                     5                        0   \n",
       "4                                     7                        0   \n",
       "...                                 ...                      ...   \n",
       "149995                                4                        0   \n",
       "149996                                4                        0   \n",
       "149997                               18                        0   \n",
       "149998                                4                        0   \n",
       "149999                                8                        0   \n",
       "\n",
       "        NumberRealEstateLoansOrLines  NumberOfTime60-89DaysPastDueNotWorse  \\\n",
       "0                                  6                                     0   \n",
       "1                                  0                                     0   \n",
       "2                                  0                                     0   \n",
       "3                                  0                                     0   \n",
       "4                                  1                                     0   \n",
       "...                              ...                                   ...   \n",
       "149995                             1                                     0   \n",
       "149996                             1                                     0   \n",
       "149997                             1                                     0   \n",
       "149998                             0                                     0   \n",
       "149999                             2                                     0   \n",
       "\n",
       "        NumberOfDependents  \n",
       "0                      2.0  \n",
       "1                      1.0  \n",
       "2                      0.0  \n",
       "3                      0.0  \n",
       "4                      0.0  \n",
       "...                    ...  \n",
       "149995                 0.0  \n",
       "149996                 2.0  \n",
       "149997                 0.0  \n",
       "149998                 0.0  \n",
       "149999                 0.0  \n",
       "\n",
       "[150000 rows x 12 columns]"
      ]
     },
     "execution_count": 164,
     "metadata": {},
     "output_type": "execute_result"
    }
   ],
   "source": [
    "train_data"
   ]
  },
  {
   "cell_type": "markdown",
   "metadata": {},
   "source": [
    "# 查看字段标签的含义"
   ]
  },
  {
   "cell_type": "code",
   "execution_count": 165,
   "metadata": {},
   "outputs": [],
   "source": [
    "# 探索字段标签含义\n",
    "\"\"\"\n",
    "特征                                    标签含义\n",
    "SeriousDlqin2yrs                        出现 90 天或更长时间的逾期行为（即定义好坏客户）\n",
    "RevolvingUtilizationOfUnsecuredLines    贷款以及信用卡可用额度与总额度比例\n",
    "age                                     借款人借款年龄\n",
    "NumberOfTime30-59DaysPastDueNotWorse    过去两年内出现35-59天逾期但是没有发展得更坏的次数\n",
    "DebtRatio                               每月偿还债务，赡养费，生活费用除以月总收入\n",
    "MonthlyIncome                           月收入\n",
    "NumberOfOpenCreditLinesAndLoans         开放式贷款和信贷数量\n",
    "NumberOfTimes90DaysLate                 过去两年内出现90天逾期或更坏的次数\n",
    "NumberRealEstateLoansOrLines            抵押贷款和房地产贷款数量，包括房屋净值信贷额度\n",
    "NumberOfTime60-89DaysPastDueNotWorse    过去两年内出现60-89天逾期但是没有发展得更坏的次数\n",
    "NumberOfDependents                      家庭中不包括自身的家属人数（配偶，子女等）\n",
    "\"\"\";"
   ]
  },
  {
   "cell_type": "markdown",
   "metadata": {},
   "source": [
    "# 数据清洗"
   ]
  },
  {
   "cell_type": "markdown",
   "metadata": {},
   "source": [
    "重复值"
   ]
  },
  {
   "cell_type": "code",
   "execution_count": 166,
   "metadata": {},
   "outputs": [
    {
     "name": "stdout",
     "output_type": "stream",
     "text": [
      "0\n",
      "0\n"
     ]
    }
   ],
   "source": [
    "# 查看重复值 \n",
    "print(train_data.duplicated().sum())\n",
    "print(test_data.duplicated().sum())"
   ]
  },
  {
   "cell_type": "code",
   "execution_count": 167,
   "metadata": {},
   "outputs": [
    {
     "name": "stdout",
     "output_type": "stream",
     "text": [
      "(150000, 12)\n",
      "(101503, 12)\n"
     ]
    }
   ],
   "source": [
    "# 删除重复值\n",
    "train_data.drop_duplicates(inplace=True)\n",
    "test_data.drop_duplicates(inplace=True)\n",
    "print(train_data.shape)\n",
    "print(test_data.shape)"
   ]
  },
  {
   "cell_type": "markdown",
   "metadata": {},
   "source": [
    "缺失值"
   ]
  },
  {
   "cell_type": "code",
   "execution_count": 168,
   "metadata": {},
   "outputs": [
    {
     "data": {
      "text/plain": [
       "Unnamed: 0                              0.000000\n",
       "SeriousDlqin2yrs                        0.000000\n",
       "RevolvingUtilizationOfUnsecuredLines    0.000000\n",
       "age                                     0.000000\n",
       "NumberOfTime30-59DaysPastDueNotWorse    0.000000\n",
       "DebtRatio                               0.000000\n",
       "MonthlyIncome                           0.198207\n",
       "NumberOfOpenCreditLinesAndLoans         0.000000\n",
       "NumberOfTimes90DaysLate                 0.000000\n",
       "NumberRealEstateLoansOrLines            0.000000\n",
       "NumberOfTime60-89DaysPastDueNotWorse    0.000000\n",
       "NumberOfDependents                      0.026160\n",
       "dtype: float64"
      ]
     },
     "execution_count": 168,
     "metadata": {},
     "output_type": "execute_result"
    }
   ],
   "source": [
    "# 对缺失值进行处理\n",
    "train_data.isnull().mean()"
   ]
  },
  {
   "cell_type": "code",
   "execution_count": 169,
   "metadata": {},
   "outputs": [
    {
     "data": {
      "text/plain": [
       "Unnamed: 0                              0.000000\n",
       "SeriousDlqin2yrs                        1.000000\n",
       "RevolvingUtilizationOfUnsecuredLines    0.000000\n",
       "age                                     0.000000\n",
       "NumberOfTime30-59DaysPastDueNotWorse    0.000000\n",
       "DebtRatio                               0.000000\n",
       "MonthlyIncome                           0.198053\n",
       "NumberOfOpenCreditLinesAndLoans         0.000000\n",
       "NumberOfTimes90DaysLate                 0.000000\n",
       "NumberRealEstateLoansOrLines            0.000000\n",
       "NumberOfTime60-89DaysPastDueNotWorse    0.000000\n",
       "NumberOfDependents                      0.025871\n",
       "dtype: float64"
      ]
     },
     "execution_count": 169,
     "metadata": {},
     "output_type": "execute_result"
    }
   ],
   "source": [
    "test_data.isnull().mean()"
   ]
  },
  {
   "cell_type": "code",
   "execution_count": 170,
   "metadata": {},
   "outputs": [],
   "source": [
    "# 使用均值填充家庭成员\n",
    "train_data['NumberOfDependents'].fillna(int(train_data[\"NumberOfDependents\"].mean()),inplace=True)\n",
    "test_data['NumberOfDependents'].fillna(int(test_data[\"NumberOfDependents\"].mean()),inplace=True)"
   ]
  },
  {
   "cell_type": "code",
   "execution_count": 171,
   "metadata": {},
   "outputs": [
    {
     "data": {
      "text/html": [
       "<div>\n",
       "<style scoped>\n",
       "    .dataframe tbody tr th:only-of-type {\n",
       "        vertical-align: middle;\n",
       "    }\n",
       "\n",
       "    .dataframe tbody tr th {\n",
       "        vertical-align: top;\n",
       "    }\n",
       "\n",
       "    .dataframe thead th {\n",
       "        text-align: right;\n",
       "    }\n",
       "</style>\n",
       "<table border=\"1\" class=\"dataframe\">\n",
       "  <thead>\n",
       "    <tr style=\"text-align: right;\">\n",
       "      <th></th>\n",
       "      <th>Unnamed: 0</th>\n",
       "      <th>SeriousDlqin2yrs</th>\n",
       "      <th>RevolvingUtilizationOfUnsecuredLines</th>\n",
       "      <th>age</th>\n",
       "      <th>NumberOfTime30-59DaysPastDueNotWorse</th>\n",
       "      <th>DebtRatio</th>\n",
       "      <th>MonthlyIncome</th>\n",
       "      <th>NumberOfOpenCreditLinesAndLoans</th>\n",
       "      <th>NumberOfTimes90DaysLate</th>\n",
       "      <th>NumberRealEstateLoansOrLines</th>\n",
       "      <th>NumberOfTime60-89DaysPastDueNotWorse</th>\n",
       "      <th>NumberOfDependents</th>\n",
       "    </tr>\n",
       "  </thead>\n",
       "  <tbody>\n",
       "    <tr>\n",
       "      <th>64889</th>\n",
       "      <td>64890</td>\n",
       "      <td>0</td>\n",
       "      <td>0.171584</td>\n",
       "      <td>56</td>\n",
       "      <td>0</td>\n",
       "      <td>1292.000000</td>\n",
       "      <td>NaN</td>\n",
       "      <td>14</td>\n",
       "      <td>0</td>\n",
       "      <td>1</td>\n",
       "      <td>0</td>\n",
       "      <td>0.0</td>\n",
       "    </tr>\n",
       "    <tr>\n",
       "      <th>55768</th>\n",
       "      <td>55769</td>\n",
       "      <td>0</td>\n",
       "      <td>0.000000</td>\n",
       "      <td>58</td>\n",
       "      <td>0</td>\n",
       "      <td>0.152404</td>\n",
       "      <td>13916.0</td>\n",
       "      <td>10</td>\n",
       "      <td>0</td>\n",
       "      <td>2</td>\n",
       "      <td>0</td>\n",
       "      <td>0.0</td>\n",
       "    </tr>\n",
       "    <tr>\n",
       "      <th>5188</th>\n",
       "      <td>5189</td>\n",
       "      <td>0</td>\n",
       "      <td>0.497515</td>\n",
       "      <td>52</td>\n",
       "      <td>0</td>\n",
       "      <td>0.445096</td>\n",
       "      <td>5800.0</td>\n",
       "      <td>7</td>\n",
       "      <td>0</td>\n",
       "      <td>2</td>\n",
       "      <td>0</td>\n",
       "      <td>0.0</td>\n",
       "    </tr>\n",
       "    <tr>\n",
       "      <th>846</th>\n",
       "      <td>847</td>\n",
       "      <td>0</td>\n",
       "      <td>0.511240</td>\n",
       "      <td>58</td>\n",
       "      <td>0</td>\n",
       "      <td>0.963084</td>\n",
       "      <td>9453.0</td>\n",
       "      <td>13</td>\n",
       "      <td>0</td>\n",
       "      <td>3</td>\n",
       "      <td>0</td>\n",
       "      <td>1.0</td>\n",
       "    </tr>\n",
       "    <tr>\n",
       "      <th>85606</th>\n",
       "      <td>85607</td>\n",
       "      <td>0</td>\n",
       "      <td>0.545044</td>\n",
       "      <td>60</td>\n",
       "      <td>0</td>\n",
       "      <td>0.317187</td>\n",
       "      <td>13666.0</td>\n",
       "      <td>12</td>\n",
       "      <td>0</td>\n",
       "      <td>1</td>\n",
       "      <td>0</td>\n",
       "      <td>0.0</td>\n",
       "    </tr>\n",
       "  </tbody>\n",
       "</table>\n",
       "</div>"
      ],
      "text/plain": [
       "       Unnamed: 0  SeriousDlqin2yrs  RevolvingUtilizationOfUnsecuredLines  \\\n",
       "64889       64890                 0                              0.171584   \n",
       "55768       55769                 0                              0.000000   \n",
       "5188         5189                 0                              0.497515   \n",
       "846           847                 0                              0.511240   \n",
       "85606       85607                 0                              0.545044   \n",
       "\n",
       "       age  NumberOfTime30-59DaysPastDueNotWorse    DebtRatio  MonthlyIncome  \\\n",
       "64889   56                                     0  1292.000000            NaN   \n",
       "55768   58                                     0     0.152404        13916.0   \n",
       "5188    52                                     0     0.445096         5800.0   \n",
       "846     58                                     0     0.963084         9453.0   \n",
       "85606   60                                     0     0.317187        13666.0   \n",
       "\n",
       "       NumberOfOpenCreditLinesAndLoans  NumberOfTimes90DaysLate  \\\n",
       "64889                               14                        0   \n",
       "55768                               10                        0   \n",
       "5188                                 7                        0   \n",
       "846                                 13                        0   \n",
       "85606                               12                        0   \n",
       "\n",
       "       NumberRealEstateLoansOrLines  NumberOfTime60-89DaysPastDueNotWorse  \\\n",
       "64889                             1                                     0   \n",
       "55768                             2                                     0   \n",
       "5188                              2                                     0   \n",
       "846                               3                                     0   \n",
       "85606                             1                                     0   \n",
       "\n",
       "       NumberOfDependents  \n",
       "64889                 0.0  \n",
       "55768                 0.0  \n",
       "5188                  0.0  \n",
       "846                   1.0  \n",
       "85606                 0.0  "
      ]
     },
     "execution_count": 171,
     "metadata": {},
     "output_type": "execute_result"
    }
   ],
   "source": [
    "train_data.sample(5)"
   ]
  },
  {
   "cell_type": "markdown",
   "metadata": {},
   "source": [
    "使用随机森林填补缺失值"
   ]
  },
  {
   "cell_type": "code",
   "execution_count": 172,
   "metadata": {},
   "outputs": [],
   "source": [
    "def rf_fill_miss(train,to_fill): \n",
    "    \"\"\"\n",
    "    train:需要填充的数据\n",
    "    to_fill:需要填充的列\n",
    "    \"\"\"\n",
    "    train = train.copy()\n",
    "    train = train[train[to_fill].notnull()]\n",
    "    test = train[train[to_fill].isnull()]\n",
    "    X = train.drop([to_fill],axis=1,inplace=False)\n",
    "    y = train[to_fill]\n",
    "    pred = test.drop(test[to_fill],axis=1,inplace=False)\n",
    "    # 使用随机森林填充月收入\n",
    "    from sklearn.ensemble import RandomForestRegressor \n",
    "    RFR = RandomForestRegressor(n_estimators=10,random_state=2022)\n",
    "    RFR = RFR.fit(X,y)\n",
    "    pred_miss = RFR.predict(pred)\n",
    "    return pred_miss"
   ]
  },
  {
   "cell_type": "code",
   "execution_count": 173,
   "metadata": {},
   "outputs": [
    {
     "name": "stdout",
     "output_type": "stream",
     "text": [
      "<class 'pandas.core.frame.DataFrame'>\n",
      "Int64Index: 150000 entries, 0 to 149999\n",
      "Data columns (total 12 columns):\n",
      " #   Column                                Non-Null Count   Dtype  \n",
      "---  ------                                --------------   -----  \n",
      " 0   Unnamed: 0                            150000 non-null  int64  \n",
      " 1   SeriousDlqin2yrs                      150000 non-null  int64  \n",
      " 2   RevolvingUtilizationOfUnsecuredLines  150000 non-null  float64\n",
      " 3   age                                   150000 non-null  int64  \n",
      " 4   NumberOfTime30-59DaysPastDueNotWorse  150000 non-null  int64  \n",
      " 5   DebtRatio                             150000 non-null  float64\n",
      " 6   MonthlyIncome                         150000 non-null  float64\n",
      " 7   NumberOfOpenCreditLinesAndLoans       150000 non-null  int64  \n",
      " 8   NumberOfTimes90DaysLate               150000 non-null  int64  \n",
      " 9   NumberRealEstateLoansOrLines          150000 non-null  int64  \n",
      " 10  NumberOfTime60-89DaysPastDueNotWorse  150000 non-null  int64  \n",
      " 11  NumberOfDependents                    150000 non-null  float64\n",
      "dtypes: float64(4), int64(8)\n",
      "memory usage: 14.9 MB\n"
     ]
    }
   ],
   "source": [
    "# 对训练集填补\n",
    "train = train_data[train_data[\"MonthlyIncome\"].notnull()]\n",
    "test = train_data[train_data[\"MonthlyIncome\"].isnull()]\n",
    "X = train.drop([\"MonthlyIncome\"],axis=1,inplace=False)\n",
    "y = train[\"MonthlyIncome\"]\n",
    "pred = test.drop([\"MonthlyIncome\"],axis=1,inplace=False)\n",
    "# 使用随机森林填充月收入\n",
    "from sklearn.ensemble import RandomForestRegressor \n",
    "RFR = RandomForestRegressor(n_estimators=100,random_state=2022)\n",
    "RFR = RFR.fit(X,y)\n",
    "pred_miss = RFR.predict(pred)\n",
    "train_data.loc[train_data.loc[:,\"MonthlyIncome\"].isnull(),\"MonthlyIncome\"] = pred_miss\n",
    "train_data.info()"
   ]
  },
  {
   "cell_type": "code",
   "execution_count": 174,
   "metadata": {},
   "outputs": [
    {
     "name": "stdout",
     "output_type": "stream",
     "text": [
      "<class 'pandas.core.frame.DataFrame'>\n",
      "Int64Index: 101503 entries, 0 to 101502\n",
      "Data columns (total 11 columns):\n",
      " #   Column                                Non-Null Count   Dtype  \n",
      "---  ------                                --------------   -----  \n",
      " 0   Unnamed: 0                            101503 non-null  int64  \n",
      " 1   RevolvingUtilizationOfUnsecuredLines  101503 non-null  float64\n",
      " 2   age                                   101503 non-null  int64  \n",
      " 3   NumberOfTime30-59DaysPastDueNotWorse  101503 non-null  int64  \n",
      " 4   DebtRatio                             101503 non-null  float64\n",
      " 5   MonthlyIncome                         101503 non-null  float64\n",
      " 6   NumberOfOpenCreditLinesAndLoans       101503 non-null  int64  \n",
      " 7   NumberOfTimes90DaysLate               101503 non-null  int64  \n",
      " 8   NumberRealEstateLoansOrLines          101503 non-null  int64  \n",
      " 9   NumberOfTime60-89DaysPastDueNotWorse  101503 non-null  int64  \n",
      " 10  NumberOfDependents                    101503 non-null  float64\n",
      "dtypes: float64(4), int64(7)\n",
      "memory usage: 9.3 MB\n"
     ]
    }
   ],
   "source": [
    "# 对测试集填补\n",
    "test_data = test_data.drop(['SeriousDlqin2yrs'],axis=1,inplace=False)\n",
    "\n",
    "train = test_data[test_data[\"MonthlyIncome\"].notnull()]\n",
    "test = test_data[test_data[\"MonthlyIncome\"].isnull()]\n",
    "X = train.drop([\"MonthlyIncome\"],axis=1,inplace=False)\n",
    "y = train[\"MonthlyIncome\"]\n",
    "pred = test.drop([\"MonthlyIncome\"],axis=1,inplace=False)\n",
    "# 使用随机森林填充月收入\n",
    "from sklearn.ensemble import RandomForestRegressor \n",
    "RFR = RandomForestRegressor(n_estimators=100,random_state=2022)\n",
    "RFR = RFR.fit(X,y)\n",
    "pred_miss1 = RFR.predict(pred)\n",
    "test_data.loc[test_data.loc[:,\"MonthlyIncome\"].isnull(),\"MonthlyIncome\"] = pred_miss1\n",
    "test_data.info()"
   ]
  },
  {
   "cell_type": "markdown",
   "metadata": {},
   "source": [
    "异常值"
   ]
  },
  {
   "cell_type": "code",
   "execution_count": 175,
   "metadata": {},
   "outputs": [
    {
     "data": {
      "text/html": [
       "<div>\n",
       "<style scoped>\n",
       "    .dataframe tbody tr th:only-of-type {\n",
       "        vertical-align: middle;\n",
       "    }\n",
       "\n",
       "    .dataframe tbody tr th {\n",
       "        vertical-align: top;\n",
       "    }\n",
       "\n",
       "    .dataframe thead th {\n",
       "        text-align: right;\n",
       "    }\n",
       "</style>\n",
       "<table border=\"1\" class=\"dataframe\">\n",
       "  <thead>\n",
       "    <tr style=\"text-align: right;\">\n",
       "      <th></th>\n",
       "      <th>Unnamed: 0</th>\n",
       "      <th>SeriousDlqin2yrs</th>\n",
       "      <th>RevolvingUtilizationOfUnsecuredLines</th>\n",
       "      <th>age</th>\n",
       "      <th>NumberOfTime30-59DaysPastDueNotWorse</th>\n",
       "      <th>DebtRatio</th>\n",
       "      <th>MonthlyIncome</th>\n",
       "      <th>NumberOfOpenCreditLinesAndLoans</th>\n",
       "      <th>NumberOfTimes90DaysLate</th>\n",
       "      <th>NumberRealEstateLoansOrLines</th>\n",
       "      <th>NumberOfTime60-89DaysPastDueNotWorse</th>\n",
       "      <th>NumberOfDependents</th>\n",
       "    </tr>\n",
       "  </thead>\n",
       "  <tbody>\n",
       "    <tr>\n",
       "      <th>count</th>\n",
       "      <td>150000.000000</td>\n",
       "      <td>150000.000000</td>\n",
       "      <td>150000.000000</td>\n",
       "      <td>150000.000000</td>\n",
       "      <td>150000.000000</td>\n",
       "      <td>150000.000000</td>\n",
       "      <td>1.500000e+05</td>\n",
       "      <td>150000.000000</td>\n",
       "      <td>150000.000000</td>\n",
       "      <td>150000.000000</td>\n",
       "      <td>150000.000000</td>\n",
       "      <td>150000.000000</td>\n",
       "    </tr>\n",
       "    <tr>\n",
       "      <th>mean</th>\n",
       "      <td>75000.500000</td>\n",
       "      <td>0.066840</td>\n",
       "      <td>6.048438</td>\n",
       "      <td>52.295207</td>\n",
       "      <td>0.421033</td>\n",
       "      <td>353.005076</td>\n",
       "      <td>5.413461e+03</td>\n",
       "      <td>8.452760</td>\n",
       "      <td>0.265973</td>\n",
       "      <td>1.018240</td>\n",
       "      <td>0.240387</td>\n",
       "      <td>0.737413</td>\n",
       "    </tr>\n",
       "    <tr>\n",
       "      <th>std</th>\n",
       "      <td>43301.414527</td>\n",
       "      <td>0.249746</td>\n",
       "      <td>249.755371</td>\n",
       "      <td>14.771866</td>\n",
       "      <td>4.192781</td>\n",
       "      <td>2037.818523</td>\n",
       "      <td>1.314838e+04</td>\n",
       "      <td>5.145951</td>\n",
       "      <td>4.169304</td>\n",
       "      <td>1.129771</td>\n",
       "      <td>4.155179</td>\n",
       "      <td>1.107021</td>\n",
       "    </tr>\n",
       "    <tr>\n",
       "      <th>min</th>\n",
       "      <td>1.000000</td>\n",
       "      <td>0.000000</td>\n",
       "      <td>0.000000</td>\n",
       "      <td>0.000000</td>\n",
       "      <td>0.000000</td>\n",
       "      <td>0.000000</td>\n",
       "      <td>0.000000e+00</td>\n",
       "      <td>0.000000</td>\n",
       "      <td>0.000000</td>\n",
       "      <td>0.000000</td>\n",
       "      <td>0.000000</td>\n",
       "      <td>0.000000</td>\n",
       "    </tr>\n",
       "    <tr>\n",
       "      <th>25%</th>\n",
       "      <td>37500.750000</td>\n",
       "      <td>0.000000</td>\n",
       "      <td>0.029867</td>\n",
       "      <td>41.000000</td>\n",
       "      <td>0.000000</td>\n",
       "      <td>0.175074</td>\n",
       "      <td>1.800000e+03</td>\n",
       "      <td>5.000000</td>\n",
       "      <td>0.000000</td>\n",
       "      <td>0.000000</td>\n",
       "      <td>0.000000</td>\n",
       "      <td>0.000000</td>\n",
       "    </tr>\n",
       "    <tr>\n",
       "      <th>50%</th>\n",
       "      <td>75000.500000</td>\n",
       "      <td>0.000000</td>\n",
       "      <td>0.154181</td>\n",
       "      <td>52.000000</td>\n",
       "      <td>0.000000</td>\n",
       "      <td>0.366508</td>\n",
       "      <td>4.416000e+03</td>\n",
       "      <td>8.000000</td>\n",
       "      <td>0.000000</td>\n",
       "      <td>1.000000</td>\n",
       "      <td>0.000000</td>\n",
       "      <td>0.000000</td>\n",
       "    </tr>\n",
       "    <tr>\n",
       "      <th>75%</th>\n",
       "      <td>112500.250000</td>\n",
       "      <td>0.000000</td>\n",
       "      <td>0.559046</td>\n",
       "      <td>63.000000</td>\n",
       "      <td>0.000000</td>\n",
       "      <td>0.868254</td>\n",
       "      <td>7.400000e+03</td>\n",
       "      <td>11.000000</td>\n",
       "      <td>0.000000</td>\n",
       "      <td>2.000000</td>\n",
       "      <td>0.000000</td>\n",
       "      <td>1.000000</td>\n",
       "    </tr>\n",
       "    <tr>\n",
       "      <th>max</th>\n",
       "      <td>150000.000000</td>\n",
       "      <td>1.000000</td>\n",
       "      <td>50708.000000</td>\n",
       "      <td>109.000000</td>\n",
       "      <td>98.000000</td>\n",
       "      <td>329664.000000</td>\n",
       "      <td>3.008750e+06</td>\n",
       "      <td>58.000000</td>\n",
       "      <td>98.000000</td>\n",
       "      <td>54.000000</td>\n",
       "      <td>98.000000</td>\n",
       "      <td>20.000000</td>\n",
       "    </tr>\n",
       "  </tbody>\n",
       "</table>\n",
       "</div>"
      ],
      "text/plain": [
       "          Unnamed: 0  SeriousDlqin2yrs  RevolvingUtilizationOfUnsecuredLines  \\\n",
       "count  150000.000000     150000.000000                         150000.000000   \n",
       "mean    75000.500000          0.066840                              6.048438   \n",
       "std     43301.414527          0.249746                            249.755371   \n",
       "min         1.000000          0.000000                              0.000000   \n",
       "25%     37500.750000          0.000000                              0.029867   \n",
       "50%     75000.500000          0.000000                              0.154181   \n",
       "75%    112500.250000          0.000000                              0.559046   \n",
       "max    150000.000000          1.000000                          50708.000000   \n",
       "\n",
       "                 age  NumberOfTime30-59DaysPastDueNotWorse      DebtRatio  \\\n",
       "count  150000.000000                         150000.000000  150000.000000   \n",
       "mean       52.295207                              0.421033     353.005076   \n",
       "std        14.771866                              4.192781    2037.818523   \n",
       "min         0.000000                              0.000000       0.000000   \n",
       "25%        41.000000                              0.000000       0.175074   \n",
       "50%        52.000000                              0.000000       0.366508   \n",
       "75%        63.000000                              0.000000       0.868254   \n",
       "max       109.000000                             98.000000  329664.000000   \n",
       "\n",
       "       MonthlyIncome  NumberOfOpenCreditLinesAndLoans  \\\n",
       "count   1.500000e+05                    150000.000000   \n",
       "mean    5.413461e+03                         8.452760   \n",
       "std     1.314838e+04                         5.145951   \n",
       "min     0.000000e+00                         0.000000   \n",
       "25%     1.800000e+03                         5.000000   \n",
       "50%     4.416000e+03                         8.000000   \n",
       "75%     7.400000e+03                        11.000000   \n",
       "max     3.008750e+06                        58.000000   \n",
       "\n",
       "       NumberOfTimes90DaysLate  NumberRealEstateLoansOrLines  \\\n",
       "count            150000.000000                 150000.000000   \n",
       "mean                  0.265973                      1.018240   \n",
       "std                   4.169304                      1.129771   \n",
       "min                   0.000000                      0.000000   \n",
       "25%                   0.000000                      0.000000   \n",
       "50%                   0.000000                      1.000000   \n",
       "75%                   0.000000                      2.000000   \n",
       "max                  98.000000                     54.000000   \n",
       "\n",
       "       NumberOfTime60-89DaysPastDueNotWorse  NumberOfDependents  \n",
       "count                         150000.000000       150000.000000  \n",
       "mean                               0.240387            0.737413  \n",
       "std                                4.155179            1.107021  \n",
       "min                                0.000000            0.000000  \n",
       "25%                                0.000000            0.000000  \n",
       "50%                                0.000000            0.000000  \n",
       "75%                                0.000000            1.000000  \n",
       "max                               98.000000           20.000000  "
      ]
     },
     "execution_count": 175,
     "metadata": {},
     "output_type": "execute_result"
    }
   ],
   "source": [
    "# 看是否有异常值\n",
    "train_data.describe()"
   ]
  },
  {
   "cell_type": "code",
   "execution_count": 176,
   "metadata": {},
   "outputs": [
    {
     "data": {
      "text/html": [
       "<div>\n",
       "<style scoped>\n",
       "    .dataframe tbody tr th:only-of-type {\n",
       "        vertical-align: middle;\n",
       "    }\n",
       "\n",
       "    .dataframe tbody tr th {\n",
       "        vertical-align: top;\n",
       "    }\n",
       "\n",
       "    .dataframe thead th {\n",
       "        text-align: right;\n",
       "    }\n",
       "</style>\n",
       "<table border=\"1\" class=\"dataframe\">\n",
       "  <thead>\n",
       "    <tr style=\"text-align: right;\">\n",
       "      <th></th>\n",
       "      <th>Unnamed: 0</th>\n",
       "      <th>RevolvingUtilizationOfUnsecuredLines</th>\n",
       "      <th>age</th>\n",
       "      <th>NumberOfTime30-59DaysPastDueNotWorse</th>\n",
       "      <th>DebtRatio</th>\n",
       "      <th>MonthlyIncome</th>\n",
       "      <th>NumberOfOpenCreditLinesAndLoans</th>\n",
       "      <th>NumberOfTimes90DaysLate</th>\n",
       "      <th>NumberRealEstateLoansOrLines</th>\n",
       "      <th>NumberOfTime60-89DaysPastDueNotWorse</th>\n",
       "      <th>NumberOfDependents</th>\n",
       "    </tr>\n",
       "  </thead>\n",
       "  <tbody>\n",
       "    <tr>\n",
       "      <th>count</th>\n",
       "      <td>101503.000000</td>\n",
       "      <td>101503.000000</td>\n",
       "      <td>101503.000000</td>\n",
       "      <td>101503.000000</td>\n",
       "      <td>101503.000000</td>\n",
       "      <td>1.015030e+05</td>\n",
       "      <td>101503.000000</td>\n",
       "      <td>101503.000000</td>\n",
       "      <td>101503.000000</td>\n",
       "      <td>101503.000000</td>\n",
       "      <td>101503.00000</td>\n",
       "    </tr>\n",
       "    <tr>\n",
       "      <th>mean</th>\n",
       "      <td>50752.000000</td>\n",
       "      <td>5.310000</td>\n",
       "      <td>52.405436</td>\n",
       "      <td>0.453770</td>\n",
       "      <td>344.475020</td>\n",
       "      <td>5.558028e+03</td>\n",
       "      <td>8.453514</td>\n",
       "      <td>0.296691</td>\n",
       "      <td>1.013074</td>\n",
       "      <td>0.270317</td>\n",
       "      <td>0.74915</td>\n",
       "    </tr>\n",
       "    <tr>\n",
       "      <th>std</th>\n",
       "      <td>29301.536524</td>\n",
       "      <td>196.156039</td>\n",
       "      <td>14.779756</td>\n",
       "      <td>4.538487</td>\n",
       "      <td>1632.595231</td>\n",
       "      <td>3.280327e+04</td>\n",
       "      <td>5.144100</td>\n",
       "      <td>4.515859</td>\n",
       "      <td>1.110253</td>\n",
       "      <td>4.503578</td>\n",
       "      <td>1.12860</td>\n",
       "    </tr>\n",
       "    <tr>\n",
       "      <th>min</th>\n",
       "      <td>1.000000</td>\n",
       "      <td>0.000000</td>\n",
       "      <td>21.000000</td>\n",
       "      <td>0.000000</td>\n",
       "      <td>0.000000</td>\n",
       "      <td>0.000000e+00</td>\n",
       "      <td>0.000000</td>\n",
       "      <td>0.000000</td>\n",
       "      <td>0.000000</td>\n",
       "      <td>0.000000</td>\n",
       "      <td>0.00000</td>\n",
       "    </tr>\n",
       "    <tr>\n",
       "      <th>25%</th>\n",
       "      <td>25376.500000</td>\n",
       "      <td>0.030131</td>\n",
       "      <td>41.000000</td>\n",
       "      <td>0.000000</td>\n",
       "      <td>0.173423</td>\n",
       "      <td>1.815500e+03</td>\n",
       "      <td>5.000000</td>\n",
       "      <td>0.000000</td>\n",
       "      <td>0.000000</td>\n",
       "      <td>0.000000</td>\n",
       "      <td>0.00000</td>\n",
       "    </tr>\n",
       "    <tr>\n",
       "      <th>50%</th>\n",
       "      <td>50752.000000</td>\n",
       "      <td>0.152586</td>\n",
       "      <td>52.000000</td>\n",
       "      <td>0.000000</td>\n",
       "      <td>0.364260</td>\n",
       "      <td>4.416000e+03</td>\n",
       "      <td>8.000000</td>\n",
       "      <td>0.000000</td>\n",
       "      <td>1.000000</td>\n",
       "      <td>0.000000</td>\n",
       "      <td>0.00000</td>\n",
       "    </tr>\n",
       "    <tr>\n",
       "      <th>75%</th>\n",
       "      <td>76127.500000</td>\n",
       "      <td>0.564225</td>\n",
       "      <td>63.000000</td>\n",
       "      <td>0.000000</td>\n",
       "      <td>0.851619</td>\n",
       "      <td>7.398000e+03</td>\n",
       "      <td>11.000000</td>\n",
       "      <td>0.000000</td>\n",
       "      <td>2.000000</td>\n",
       "      <td>0.000000</td>\n",
       "      <td>1.00000</td>\n",
       "    </tr>\n",
       "    <tr>\n",
       "      <th>max</th>\n",
       "      <td>101503.000000</td>\n",
       "      <td>21821.000000</td>\n",
       "      <td>104.000000</td>\n",
       "      <td>98.000000</td>\n",
       "      <td>268326.000000</td>\n",
       "      <td>7.727000e+06</td>\n",
       "      <td>85.000000</td>\n",
       "      <td>98.000000</td>\n",
       "      <td>37.000000</td>\n",
       "      <td>98.000000</td>\n",
       "      <td>43.00000</td>\n",
       "    </tr>\n",
       "  </tbody>\n",
       "</table>\n",
       "</div>"
      ],
      "text/plain": [
       "          Unnamed: 0  RevolvingUtilizationOfUnsecuredLines            age  \\\n",
       "count  101503.000000                         101503.000000  101503.000000   \n",
       "mean    50752.000000                              5.310000      52.405436   \n",
       "std     29301.536524                            196.156039      14.779756   \n",
       "min         1.000000                              0.000000      21.000000   \n",
       "25%     25376.500000                              0.030131      41.000000   \n",
       "50%     50752.000000                              0.152586      52.000000   \n",
       "75%     76127.500000                              0.564225      63.000000   \n",
       "max    101503.000000                          21821.000000     104.000000   \n",
       "\n",
       "       NumberOfTime30-59DaysPastDueNotWorse      DebtRatio  MonthlyIncome  \\\n",
       "count                         101503.000000  101503.000000   1.015030e+05   \n",
       "mean                               0.453770     344.475020   5.558028e+03   \n",
       "std                                4.538487    1632.595231   3.280327e+04   \n",
       "min                                0.000000       0.000000   0.000000e+00   \n",
       "25%                                0.000000       0.173423   1.815500e+03   \n",
       "50%                                0.000000       0.364260   4.416000e+03   \n",
       "75%                                0.000000       0.851619   7.398000e+03   \n",
       "max                               98.000000  268326.000000   7.727000e+06   \n",
       "\n",
       "       NumberOfOpenCreditLinesAndLoans  NumberOfTimes90DaysLate  \\\n",
       "count                    101503.000000            101503.000000   \n",
       "mean                          8.453514                 0.296691   \n",
       "std                           5.144100                 4.515859   \n",
       "min                           0.000000                 0.000000   \n",
       "25%                           5.000000                 0.000000   \n",
       "50%                           8.000000                 0.000000   \n",
       "75%                          11.000000                 0.000000   \n",
       "max                          85.000000                98.000000   \n",
       "\n",
       "       NumberRealEstateLoansOrLines  NumberOfTime60-89DaysPastDueNotWorse  \\\n",
       "count                 101503.000000                         101503.000000   \n",
       "mean                       1.013074                              0.270317   \n",
       "std                        1.110253                              4.503578   \n",
       "min                        0.000000                              0.000000   \n",
       "25%                        0.000000                              0.000000   \n",
       "50%                        1.000000                              0.000000   \n",
       "75%                        2.000000                              0.000000   \n",
       "max                       37.000000                             98.000000   \n",
       "\n",
       "       NumberOfDependents  \n",
       "count        101503.00000  \n",
       "mean              0.74915  \n",
       "std               1.12860  \n",
       "min               0.00000  \n",
       "25%               0.00000  \n",
       "50%               0.00000  \n",
       "75%               1.00000  \n",
       "max              43.00000  "
      ]
     },
     "execution_count": 176,
     "metadata": {},
     "output_type": "execute_result"
    }
   ],
   "source": [
    "test_data.describe()"
   ]
  },
  {
   "cell_type": "markdown",
   "metadata": {},
   "source": [
    "检查数据的相关性"
   ]
  },
  {
   "cell_type": "code",
   "execution_count": 177,
   "metadata": {},
   "outputs": [
    {
     "data": {
      "text/plain": [
       "<AxesSubplot:>"
      ]
     },
     "execution_count": 177,
     "metadata": {},
     "output_type": "execute_result"
    },
    {
     "data": {
      "image/png": "[encoded data removed]",
      "text/plain": [
       "<Figure size 1368x1080 with 2 Axes>"
      ]
     },
     "metadata": {
      "needs_background": "light"
     },
     "output_type": "display_data"
    }
   ],
   "source": [
    "# 检查数据的相关性\n",
    "import seaborn as sns\n",
    "corr = train_data.corr()\n",
    "plt.figure(figsize=(19, 15))\n",
    "sns.heatmap(corr, annot=True, fmt='.2g')"
   ]
  },
  {
   "cell_type": "code",
   "execution_count": 178,
   "metadata": {},
   "outputs": [
    {
     "data": {
      "image/png": "[encoded data removed]",
      "text/plain": [
       "<Figure size 1368x864 with 1 Axes>"
      ]
     },
     "metadata": {
      "needs_background": "light"
     },
     "output_type": "display_data"
    }
   ],
   "source": [
    "plt.figure(figsize=(19, 12)) \n",
    "train_data[['NumberOfTime30-59DaysPastDueNotWorse', \n",
    "          'NumberOfTime60-89DaysPastDueNotWorse',\n",
    "          'NumberOfTimes90DaysLate']].boxplot()\n",
    "plt.show()"
   ]
  },
  {
   "cell_type": "code",
   "execution_count": 179,
   "metadata": {},
   "outputs": [
    {
     "data": {
      "text/plain": [
       "<AxesSubplot:>"
      ]
     },
     "execution_count": 179,
     "metadata": {},
     "output_type": "execute_result"
    },
    {
     "data": {
      "image/png": "[encoded data removed]",
      "text/plain": [
       "<Figure size 1368x1080 with 2 Axes>"
      ]
     },
     "metadata": {
      "needs_background": "light"
     },
     "output_type": "display_data"
    }
   ],
   "source": [
    "# 去掉98和96两个点，再查看相关性如何\n",
    "def replace98and96(column):\n",
    "    new = []\n",
    "    newval = column.median()\n",
    "    for i in column:\n",
    "        if (i == 96 or i == 98):\n",
    "            new.append(newval)\n",
    "        else:\n",
    "            new.append(i)\n",
    "    return new\n",
    "\n",
    "train_data['NumberOfTime30-59DaysPastDueNotWorse'] = replace98and96(train_data['NumberOfTime30-59DaysPastDueNotWorse'])\n",
    "train_data['NumberOfTimes90DaysLate'] = replace98and96(train_data['NumberOfTimes90DaysLate'])\n",
    "train_data['NumberOfTime60-89DaysPastDueNotWorse'] = replace98and96(train_data['NumberOfTime60-89DaysPastDueNotWorse'])\n",
    "\n",
    "test_data['NumberOfTime30-59DaysPastDueNotWorse'] = replace98and96(test_data['NumberOfTime30-59DaysPastDueNotWorse'])\n",
    "test_data['NumberOfTimes90DaysLate'] = replace98and96(test_data['NumberOfTimes90DaysLate'])\n",
    "test_data['NumberOfTime60-89DaysPastDueNotWorse'] = replace98and96(test_data['NumberOfTime60-89DaysPastDueNotWorse'])\n",
    "\n",
    "# 检查数据的相关性\n",
    "corr = train_data.corr()\n",
    "plt.figure(figsize=(19, 15))\n",
    "sns.heatmap(corr, annot=True, fmt='.2g')"
   ]
  },
  {
   "cell_type": "markdown",
   "metadata": {},
   "source": [
    "# 样本不平衡"
   ]
  },
  {
   "cell_type": "code",
   "execution_count": 180,
   "metadata": {},
   "outputs": [
    {
     "data": {
      "text/plain": [
       "<AxesSubplot:xlabel='SeriousDlqin2yrs', ylabel='count'>"
      ]
     },
     "execution_count": 180,
     "metadata": {},
     "output_type": "execute_result"
    },
    {
     "data": {
      "image/png": "[encoded data removed]",
      "text/plain": [
       "<Figure size 432x288 with 1 Axes>"
      ]
     },
     "metadata": {
      "needs_background": "light"
     },
     "output_type": "display_data"
    }
   ],
   "source": [
    "# 对分类结果SeriousDlqin2yrs查看\n",
    "sns.countplot(x=\"SeriousDlqin2yrs\",data=train_data)"
   ]
  },
  {
   "cell_type": "code",
   "execution_count": 181,
   "metadata": {},
   "outputs": [
    {
     "name": "stdout",
     "output_type": "stream",
     "text": [
      "   SeriousDlqin2yrs  Unnamed: 0  Percentage\n",
      "0                 0      139974      93.316\n",
      "1                 1       10026       6.684\n"
     ]
    }
   ],
   "source": [
    "# 可以看出分类结果是及其不平衡的，事件发生率如下\n",
    "P = train_data.groupby('SeriousDlqin2yrs')['Unnamed: 0'].count().reset_index()\n",
    "P['Percentage'] = 100 * P['Unnamed: 0'] / P['Unnamed: 0'].sum()\n",
    "print(P)"
   ]
  },
  {
   "cell_type": "code",
   "execution_count": 182,
   "metadata": {},
   "outputs": [
    {
     "name": "stdout",
     "output_type": "stream",
     "text": [
      "样本个数：150000; 1占6.68%; 0占93.32%\n"
     ]
    }
   ],
   "source": [
    "X = train_data.iloc[:,2:]\n",
    "y = train_data.loc[:,'SeriousDlqin2yrs']\n",
    "n_sample = X.shape[0]\n",
    " \n",
    "n_1_sample = y.value_counts()[1]\n",
    "n_0_sample = y.value_counts()[0]\n",
    "\n",
    "print('样本个数：{}; 1占{:.2%}; 0占{:.2%}'.format(n_sample,n_1_sample/n_sample,n_0_sample/n_sample))"
   ]
  },
  {
   "cell_type": "markdown",
   "metadata": {},
   "source": [
    "# 处理样本不平衡"
   ]
  },
  {
   "cell_type": "code",
   "execution_count": 183,
   "metadata": {},
   "outputs": [
    {
     "name": "stdout",
     "output_type": "stream",
     "text": [
      "样本个数：279948; 1占50.00%; 0占50.00%\n"
     ]
    }
   ],
   "source": [
    "import imblearn\n",
    " \n",
    "from imblearn.over_sampling import SMOTE\n",
    " \n",
    "sm = SMOTE(random_state=42) #实例化\n",
    "X,y = sm.fit_resample(X,y) # 这里应该是resample\n",
    " \n",
    "n_sample_ = X.shape[0]#278584\n",
    "\n",
    "pd.Series(y).value_counts()\n",
    " \n",
    "n_1_sample = pd.Series(y).value_counts()[1]\n",
    "n_0_sample = pd.Series(y).value_counts()[0]\n",
    " \n",
    "print('样本个数：{}; 1占{:.2%}; 0占{:.2%}'.format(n_sample_,n_1_sample/n_sample_,n_0_sample/n_sample_))\n",
    "#样本个数：278584; 1占50.00%; 0占50.00%"
   ]
  },
  {
   "cell_type": "markdown",
   "metadata": {},
   "source": [
    "# 划分训练集和测试集"
   ]
  },
  {
   "cell_type": "code",
   "execution_count": 184,
   "metadata": {},
   "outputs": [],
   "source": [
    "from sklearn.model_selection import train_test_split\n",
    "X = pd.DataFrame(X)\n",
    "y = pd.DataFrame(y)\n",
    "\n",
    "X_train, X_vali, Y_train, Y_vali = train_test_split(X,y,test_size=0.3,random_state=420)\n",
    "model_data = pd.concat([Y_train, X_train], axis=1)#训练数据构建模型\n",
    "model_data.index = range(model_data.shape[0])\n",
    "model_data.columns = train_data.drop('Unnamed: 0',axis=1).columns\n",
    " \n",
    "vali_data = pd.concat([Y_vali, X_vali], axis=1)#验证集\n",
    "vali_data.index = range(vali_data.shape[0])\n",
    "vali_data.columns = train_data.drop('Unnamed: 0',axis=1).columns\n",
    " \n",
    "model_data.to_csv(r\".\\model_data.csv\")#训练数据\n",
    "vali_data.to_csv(r\".\\vali_data.csv\")#验证数据"
   ]
  },
  {
   "cell_type": "markdown",
   "metadata": {},
   "source": [
    "# 基于卡方的分箱处理"
   ]
  },
  {
   "cell_type": "code",
   "execution_count": 185,
   "metadata": {},
   "outputs": [],
   "source": [
    "import matplotlib.pyplot as plt\n",
    "import scipy"
   ]
  },
  {
   "cell_type": "code",
   "execution_count": 186,
   "metadata": {},
   "outputs": [],
   "source": [
    "def graphforbestbin(DF, X, Y, n=5,q=20,graph=True):\n",
    "    '''\n",
    "    自动最优分箱函数，基于卡方检验的分箱\n",
    "\n",
    "    参数：\n",
    "    DF: 需要输入的数据\n",
    "    X: 需要分箱的列名\n",
    "    Y: 分箱数据对应的标签 Y 列名\n",
    "    n: 保留分箱个数\n",
    "    q: 初始分箱的个数\n",
    "    graph: 是否要画出IV图像\n",
    "\n",
    "    区间为前开后闭 (]\n",
    "\n",
    "    '''\n",
    "    \n",
    "    DF = DF[[X,Y]].copy()\n",
    "\n",
    "    DF[\"qcut\"],bins = pd.qcut(DF[X], retbins=True, q=q,duplicates=\"drop\")\n",
    "    coount_y0 = DF.loc[DF[Y]==0].groupby(by=\"qcut\").count()[Y]\n",
    "    coount_y1 = DF.loc[DF[Y]==1].groupby(by=\"qcut\").count()[Y]\n",
    "    num_bins = [*zip(bins,bins[1:],coount_y0,coount_y1)]\n",
    "\n",
    "    for i in range(q):\n",
    "        if 0 in num_bins[0][2:]:\n",
    "            num_bins[0:2] = [(\n",
    "                num_bins[0][0],\n",
    "                num_bins[1][1],\n",
    "                num_bins[0][2]+num_bins[1][2],\n",
    "                num_bins[0][3]+num_bins[1][3])]\n",
    "            continue\n",
    "\n",
    "        for i in range(len(num_bins)):\n",
    "            if 0 in num_bins[i][2:]:\n",
    "                num_bins[i-1:i+1] = [(\n",
    "                    num_bins[i-1][0],\n",
    "                    num_bins[i][1],\n",
    "                    num_bins[i-1][2]+num_bins[i][2],\n",
    "                    num_bins[i-1][3]+num_bins[i][3])]\n",
    "                break\n",
    "        else:\n",
    "            break\n",
    "\n",
    "    def get_woe(num_bins):\n",
    "        columns = [\"min\",\"max\",\"count_0\",\"count_1\"]\n",
    "        df = pd.DataFrame(num_bins,columns=columns)\n",
    "        df[\"total\"] = df.count_0 + df.count_1\n",
    "        df[\"percentage\"] = df.total / df.total.sum()\n",
    "        df[\"bad_rate\"] = df.count_1 / df.total\n",
    "        df[\"good%\"] = df.count_0/df.count_0.sum()\n",
    "        df[\"bad%\"] = df.count_1/df.count_1.sum()\n",
    "        df[\"woe\"] = np.log(df[\"good%\"] / df[\"bad%\"])\n",
    "        return df\n",
    "\n",
    "    def get_iv(df):\n",
    "        rate = df[\"good%\"] - df[\"bad%\"]\n",
    "        iv = np.sum(rate * df.woe)\n",
    "        return iv\n",
    "\n",
    "    IV = []\n",
    "    axisx = []\n",
    "    while len(num_bins) > n:\n",
    "        pvs = []\n",
    "        for i in range(len(num_bins)-1):\n",
    "            x1 = num_bins[i][2:]\n",
    "            x2 = num_bins[i+1][2:]\n",
    "            pv = scipy.stats.chi2_contingency([x1,x2])[1]\n",
    "            pvs.append(pv)\n",
    "\n",
    "        i = pvs.index(max(pvs))\n",
    "        num_bins[i:i+2] = [(\n",
    "            num_bins[i][0],\n",
    "            num_bins[i+1][1],\n",
    "            num_bins[i][2]+num_bins[i+1][2],\n",
    "            num_bins[i][3]+num_bins[i+1][3])]\n",
    "        global bins_df # 声明全局变量\n",
    "        bins_df = pd.DataFrame(get_woe(num_bins))\n",
    "        axisx.append(len(num_bins))\n",
    "        IV.append(get_iv(bins_df))\n",
    "        \n",
    "    if graph:\n",
    "        plt.figure()\n",
    "        plt.plot(axisx,IV)\n",
    "        plt.xticks(axisx)\n",
    "        plt.xlabel(\"number of box\")\n",
    "        plt.ylabel(\"IV\")\n",
    "        plt.show()\n",
    "    return bins_df"
   ]
  },
  {
   "cell_type": "code",
   "execution_count": 187,
   "metadata": {},
   "outputs": [
    {
     "name": "stdout",
     "output_type": "stream",
     "text": [
      "RevolvingUtilizationOfUnsecuredLines\n"
     ]
    },
    {
     "data": {
      "image/png": "[encoded data removed]",
      "text/plain": [
       "<Figure size 432x288 with 1 Axes>"
      ]
     },
     "metadata": {
      "needs_background": "light"
     },
     "output_type": "display_data"
    },
    {
     "name": "stdout",
     "output_type": "stream",
     "text": [
      "age\n"
     ]
    },
    {
     "data": {
      "image/png": "[encoded data removed]",
      "text/plain": [
       "<Figure size 432x288 with 1 Axes>"
      ]
     },
     "metadata": {
      "needs_background": "light"
     },
     "output_type": "display_data"
    },
    {
     "name": "stdout",
     "output_type": "stream",
     "text": [
      "NumberOfTime30-59DaysPastDueNotWorse\n"
     ]
    },
    {
     "data": {
      "image/png": "[encoded data removed]",
      "text/plain": [
       "<Figure size 432x288 with 1 Axes>"
      ]
     },
     "metadata": {
      "needs_background": "light"
     },
     "output_type": "display_data"
    },
    {
     "name": "stdout",
     "output_type": "stream",
     "text": [
      "DebtRatio\n"
     ]
    },
    {
     "data": {
      "image/png": "[encoded data removed]",
      "text/plain": [
       "<Figure size 432x288 with 1 Axes>"
      ]
     },
     "metadata": {
      "needs_background": "light"
     },
     "output_type": "display_data"
    },
    {
     "name": "stdout",
     "output_type": "stream",
     "text": [
      "MonthlyIncome\n"
     ]
    },
    {
     "data": {
      "image/png": "[encoded data removed]",
      "text/plain": [
       "<Figure size 432x288 with 1 Axes>"
      ]
     },
     "metadata": {
      "needs_background": "light"
     },
     "output_type": "display_data"
    },
    {
     "name": "stdout",
     "output_type": "stream",
     "text": [
      "NumberOfOpenCreditLinesAndLoans\n"
     ]
    },
    {
     "data": {
      "image/png": "[encoded data removed]",
      "text/plain": [
       "<Figure size 432x288 with 1 Axes>"
      ]
     },
     "metadata": {
      "needs_background": "light"
     },
     "output_type": "display_data"
    },
    {
     "name": "stdout",
     "output_type": "stream",
     "text": [
      "NumberOfTimes90DaysLate\n"
     ]
    },
    {
     "data": {
      "image/png": "[encoded data removed]",
      "text/plain": [
       "<Figure size 432x288 with 1 Axes>"
      ]
     },
     "metadata": {
      "needs_background": "light"
     },
     "output_type": "display_data"
    },
    {
     "name": "stdout",
     "output_type": "stream",
     "text": [
      "NumberRealEstateLoansOrLines\n"
     ]
    },
    {
     "data": {
      "image/png": "[encoded data removed]",
      "text/plain": [
       "<Figure size 432x288 with 1 Axes>"
      ]
     },
     "metadata": {
      "needs_background": "light"
     },
     "output_type": "display_data"
    },
    {
     "name": "stdout",
     "output_type": "stream",
     "text": [
      "NumberOfTime60-89DaysPastDueNotWorse\n"
     ]
    },
    {
     "data": {
      "image/png": "[encoded data removed]",
      "text/plain": [
       "<Figure size 432x288 with 1 Axes>"
      ]
     },
     "metadata": {
      "needs_background": "light"
     },
     "output_type": "display_data"
    }
   ],
   "source": [
    "model_data.columns\n",
    "\n",
    "for i in model_data.columns[1:-1]:\n",
    "    print(i)\n",
    "    graphforbestbin(model_data,i,\"SeriousDlqin2yrs\",n=2,q=20)"
   ]
  },
  {
   "cell_type": "code",
   "execution_count": 188,
   "metadata": {},
   "outputs": [],
   "source": [
    "# 自动分箱的变量\n",
    "auto_col_bins = {\"RevolvingUtilizationOfUnsecuredLines\":6,\n",
    "                \"age\":5,\n",
    "                \"DebtRatio\":4,\n",
    "                \"MonthlyIncome\":3,\n",
    "                \"NumberOfOpenCreditLinesAndLoans\":5}\n",
    " \n",
    "#不能使用自动分箱的变量\n",
    "hand_bins = {\"NumberOfTime30-59DaysPastDueNotWorse\":[0,1,2,13]\n",
    "            ,\"NumberOfTimes90DaysLate\":[0,1,2,17]\n",
    "            ,\"NumberRealEstateLoansOrLines\":[0,1,2,4,54]\n",
    "            ,\"NumberOfTime60-89DaysPastDueNotWorse\":[0,1,2,8]\n",
    "            ,\"NumberOfDependents\":[0,1,2,3]}\n",
    " \n",
    "#保证区间覆盖使用 np.inf替换最大值，用-np.inf替换最小值 \n",
    "#原因：比如一些新的值出现，例如家庭人数为30，以前没出现过，改成范围为极大值之后，这些新值就都能分到箱里边了\n",
    "hand_bins = {k:[-np.inf,*v[:-1],np.inf] for k,v in hand_bins.items()}"
   ]
  },
  {
   "cell_type": "code",
   "execution_count": 189,
   "metadata": {},
   "outputs": [
    {
     "data": {
      "text/plain": [
       "{'RevolvingUtilizationOfUnsecuredLines': [-inf,\n",
       "  0.099318683,\n",
       "  0.38323699710000003,\n",
       "  0.7285958869156604,\n",
       "  0.9866674292308434,\n",
       "  0.9999999,\n",
       "  inf],\n",
       " 'age': [-inf, 36.0, 52.0, 61.0, 74.0, inf],\n",
       " 'DebtRatio': [-inf,\n",
       "  0.013194722,\n",
       "  0.35640948865923977,\n",
       "  1.4837109656087526,\n",
       "  inf],\n",
       " 'MonthlyIncome': [-inf, 0.11, 5550.0, inf],\n",
       " 'NumberOfOpenCreditLinesAndLoans': [-inf, 1.0, 3.0, 5.0, 17.0, inf],\n",
       " 'NumberOfTime30-59DaysPastDueNotWorse': [-inf, 0, 1, 2, inf],\n",
       " 'NumberOfTimes90DaysLate': [-inf, 0, 1, 2, inf],\n",
       " 'NumberRealEstateLoansOrLines': [-inf, 0, 1, 2, 4, inf],\n",
       " 'NumberOfTime60-89DaysPastDueNotWorse': [-inf, 0, 1, 2, inf],\n",
       " 'NumberOfDependents': [-inf, 0, 1, 2, inf]}"
      ]
     },
     "execution_count": 189,
     "metadata": {},
     "output_type": "execute_result"
    }
   ],
   "source": [
    "bins_of_col = {}\n",
    " \n",
    "# 生成自动分箱的分箱区间和分箱后的 IV 值\n",
    " \n",
    "for col in auto_col_bins:\n",
    "    bins_df = graphforbestbin(model_data,col\n",
    "                             ,\"SeriousDlqin2yrs\"\n",
    "                             ,n=auto_col_bins[col]\n",
    "                             #使用字典的性质来取出每个特征所对应的箱的数量\n",
    "                             ,q=20\n",
    "                             ,graph=False)\n",
    "    bins_list = sorted(set(bins_df[\"min\"]).union(bins_df[\"max\"]))\n",
    "    #保证区间覆盖使用 np.inf 替换最大值 -np.inf 替换最小值\n",
    "    bins_list[0],bins_list[-1] = -np.inf,np.inf\n",
    "    bins_of_col[col] = bins_list\n",
    "    \n",
    "#合并手动分箱数据    \n",
    "bins_of_col.update(hand_bins)\n",
    " \n",
    "bins_of_col"
   ]
  },
  {
   "cell_type": "markdown",
   "metadata": {},
   "source": [
    "# 映射数据"
   ]
  },
  {
   "cell_type": "code",
   "execution_count": 190,
   "metadata": {},
   "outputs": [
    {
     "data": {
      "text/plain": [
       "{'RevolvingUtilizationOfUnsecuredLines': cut\n",
       " (-inf, 0.0993]     2.226339\n",
       " (0.0993, 0.383]    0.501304\n",
       " (0.383, 0.729]    -0.647246\n",
       " (0.729, 0.987]    -1.349175\n",
       " (0.987, 1.0]      -0.480731\n",
       " (1.0, inf]        -2.049021\n",
       " dtype: float64,\n",
       " 'age': cut\n",
       " (-inf, 36.0]   -0.545090\n",
       " (36.0, 52.0]   -0.301645\n",
       " (52.0, 61.0]    0.170998\n",
       " (61.0, 74.0]    1.004079\n",
       " (74.0, inf]     1.836606\n",
       " dtype: float64,\n",
       " 'DebtRatio': cut\n",
       " (-inf, 0.0132]     1.324863\n",
       " (0.0132, 0.356]    0.072402\n",
       " (0.356, 1.484]    -0.342876\n",
       " (1.484, inf]       0.160055\n",
       " dtype: float64,\n",
       " 'MonthlyIncome': cut\n",
       " (-inf, 0.11]      1.331173\n",
       " (0.11, 5550.0]   -0.237786\n",
       " (5550.0, inf]     0.234082\n",
       " dtype: float64,\n",
       " 'NumberOfOpenCreditLinesAndLoans': cut\n",
       " (-inf, 1.0]   -0.918146\n",
       " (1.0, 3.0]    -0.316269\n",
       " (3.0, 5.0]    -0.055485\n",
       " (5.0, 17.0]    0.140153\n",
       " (17.0, inf]    0.486378\n",
       " dtype: float64,\n",
       " 'NumberOfTime30-59DaysPastDueNotWorse': cut\n",
       " (-inf, 0.0]    1.067612\n",
       " (0.0, 1.0]    -1.380250\n",
       " (1.0, 2.0]    -2.025352\n",
       " (2.0, inf]    -2.251336\n",
       " dtype: float64,\n",
       " 'NumberOfTimes90DaysLate': cut\n",
       " (-inf, 0.0]    0.686751\n",
       " (0.0, 1.0]    -2.548903\n",
       " (1.0, 2.0]    -3.014260\n",
       " (2.0, inf]    -3.130570\n",
       " dtype: float64,\n",
       " 'NumberRealEstateLoansOrLines': cut\n",
       " (-inf, 0.0]   -0.399719\n",
       " (0.0, 1.0]     0.206948\n",
       " (1.0, 2.0]     0.638734\n",
       " (2.0, 4.0]     0.390257\n",
       " (4.0, inf]    -0.346470\n",
       " dtype: float64,\n",
       " 'NumberOfTime60-89DaysPastDueNotWorse': cut\n",
       " (-inf, 0.0]    0.528765\n",
       " (0.0, 1.0]    -2.437328\n",
       " (1.0, 2.0]    -2.971665\n",
       " (2.0, inf]    -2.850962\n",
       " dtype: float64,\n",
       " 'NumberOfDependents': cut\n",
       " (-inf, 0.0]    0.629328\n",
       " (0.0, 1.0]    -0.587381\n",
       " (1.0, 2.0]    -0.535777\n",
       " (2.0, inf]    -0.488751\n",
       " dtype: float64}"
      ]
     },
     "execution_count": 190,
     "metadata": {},
     "output_type": "execute_result"
    }
   ],
   "source": [
    "def get_woe(df,col,y,bins):\n",
    "    df = df[[col,y]].copy()\n",
    "    df[\"cut\"] = pd.cut(df[col],bins)\n",
    "    bins_df = df.groupby(\"cut\")[y].value_counts().unstack()\n",
    "    woe = bins_df[\"woe\"] = np.log((bins_df[0]/bins_df[0].sum())/(bins_df[1]/bins_df[1].sum()))\n",
    "    return woe\n",
    " \n",
    "#将所有特征的WOE存储到字典当中\n",
    "woeall = {}\n",
    "for col in bins_of_col:\n",
    "    woeall[col] = get_woe(model_data,col,\"SeriousDlqin2yrs\",bins_of_col[col])\n",
    "    \n",
    "woeall"
   ]
  },
  {
   "cell_type": "code",
   "execution_count": 191,
   "metadata": {},
   "outputs": [
    {
     "data": {
      "text/html": [
       "<div>\n",
       "<style scoped>\n",
       "    .dataframe tbody tr th:only-of-type {\n",
       "        vertical-align: middle;\n",
       "    }\n",
       "\n",
       "    .dataframe tbody tr th {\n",
       "        vertical-align: top;\n",
       "    }\n",
       "\n",
       "    .dataframe thead th {\n",
       "        text-align: right;\n",
       "    }\n",
       "</style>\n",
       "<table border=\"1\" class=\"dataframe\">\n",
       "  <thead>\n",
       "    <tr style=\"text-align: right;\">\n",
       "      <th></th>\n",
       "      <th>age</th>\n",
       "      <th>RevolvingUtilizationOfUnsecuredLines</th>\n",
       "      <th>DebtRatio</th>\n",
       "      <th>MonthlyIncome</th>\n",
       "      <th>NumberOfOpenCreditLinesAndLoans</th>\n",
       "      <th>NumberOfTime30-59DaysPastDueNotWorse</th>\n",
       "      <th>NumberOfTimes90DaysLate</th>\n",
       "      <th>NumberRealEstateLoansOrLines</th>\n",
       "      <th>NumberOfTime60-89DaysPastDueNotWorse</th>\n",
       "      <th>NumberOfDependents</th>\n",
       "      <th>SeriousDlqin2yrs</th>\n",
       "    </tr>\n",
       "  </thead>\n",
       "  <tbody>\n",
       "    <tr>\n",
       "      <th>0</th>\n",
       "      <td>-0.301645</td>\n",
       "      <td>-0.647246</td>\n",
       "      <td>-0.342876</td>\n",
       "      <td>-0.237786</td>\n",
       "      <td>0.140153</td>\n",
       "      <td>1.067612</td>\n",
       "      <td>-2.548903</td>\n",
       "      <td>0.206948</td>\n",
       "      <td>-2.971665</td>\n",
       "      <td>-0.587381</td>\n",
       "      <td>1</td>\n",
       "    </tr>\n",
       "    <tr>\n",
       "      <th>1</th>\n",
       "      <td>-0.301645</td>\n",
       "      <td>-0.647246</td>\n",
       "      <td>-0.342876</td>\n",
       "      <td>-0.237786</td>\n",
       "      <td>0.140153</td>\n",
       "      <td>-2.251336</td>\n",
       "      <td>-2.548903</td>\n",
       "      <td>0.638734</td>\n",
       "      <td>-2.437328</td>\n",
       "      <td>-0.587381</td>\n",
       "      <td>1</td>\n",
       "    </tr>\n",
       "    <tr>\n",
       "      <th>2</th>\n",
       "      <td>-0.545090</td>\n",
       "      <td>-0.480731</td>\n",
       "      <td>0.072402</td>\n",
       "      <td>-0.237786</td>\n",
       "      <td>-0.918146</td>\n",
       "      <td>1.067612</td>\n",
       "      <td>-2.548903</td>\n",
       "      <td>-0.399719</td>\n",
       "      <td>-2.437328</td>\n",
       "      <td>0.629328</td>\n",
       "      <td>1</td>\n",
       "    </tr>\n",
       "    <tr>\n",
       "      <th>3</th>\n",
       "      <td>-0.545090</td>\n",
       "      <td>-1.349175</td>\n",
       "      <td>0.072402</td>\n",
       "      <td>-0.237786</td>\n",
       "      <td>-0.918146</td>\n",
       "      <td>1.067612</td>\n",
       "      <td>0.686751</td>\n",
       "      <td>-0.399719</td>\n",
       "      <td>0.528765</td>\n",
       "      <td>-0.587381</td>\n",
       "      <td>1</td>\n",
       "    </tr>\n",
       "    <tr>\n",
       "      <th>4</th>\n",
       "      <td>-0.545090</td>\n",
       "      <td>2.226339</td>\n",
       "      <td>0.072402</td>\n",
       "      <td>0.234082</td>\n",
       "      <td>-0.055485</td>\n",
       "      <td>1.067612</td>\n",
       "      <td>0.686751</td>\n",
       "      <td>-0.399719</td>\n",
       "      <td>0.528765</td>\n",
       "      <td>-0.535777</td>\n",
       "      <td>0</td>\n",
       "    </tr>\n",
       "    <tr>\n",
       "      <th>5</th>\n",
       "      <td>1.004079</td>\n",
       "      <td>-1.349175</td>\n",
       "      <td>-0.342876</td>\n",
       "      <td>-0.237786</td>\n",
       "      <td>0.140153</td>\n",
       "      <td>-1.380250</td>\n",
       "      <td>0.686751</td>\n",
       "      <td>-0.399719</td>\n",
       "      <td>-2.437328</td>\n",
       "      <td>0.629328</td>\n",
       "      <td>1</td>\n",
       "    </tr>\n",
       "    <tr>\n",
       "      <th>6</th>\n",
       "      <td>-0.301645</td>\n",
       "      <td>-0.480731</td>\n",
       "      <td>0.072402</td>\n",
       "      <td>0.234082</td>\n",
       "      <td>0.140153</td>\n",
       "      <td>1.067612</td>\n",
       "      <td>0.686751</td>\n",
       "      <td>-0.399719</td>\n",
       "      <td>0.528765</td>\n",
       "      <td>0.629328</td>\n",
       "      <td>0</td>\n",
       "    </tr>\n",
       "    <tr>\n",
       "      <th>7</th>\n",
       "      <td>-0.301645</td>\n",
       "      <td>-0.480731</td>\n",
       "      <td>0.160055</td>\n",
       "      <td>-0.237786</td>\n",
       "      <td>-0.055485</td>\n",
       "      <td>-1.380250</td>\n",
       "      <td>-2.548903</td>\n",
       "      <td>-0.399719</td>\n",
       "      <td>0.528765</td>\n",
       "      <td>-0.488751</td>\n",
       "      <td>1</td>\n",
       "    </tr>\n",
       "    <tr>\n",
       "      <th>8</th>\n",
       "      <td>-0.545090</td>\n",
       "      <td>-1.349175</td>\n",
       "      <td>0.072402</td>\n",
       "      <td>-0.237786</td>\n",
       "      <td>-0.055485</td>\n",
       "      <td>1.067612</td>\n",
       "      <td>0.686751</td>\n",
       "      <td>-0.399719</td>\n",
       "      <td>0.528765</td>\n",
       "      <td>-0.488751</td>\n",
       "      <td>0</td>\n",
       "    </tr>\n",
       "    <tr>\n",
       "      <th>9</th>\n",
       "      <td>-0.545090</td>\n",
       "      <td>-0.480731</td>\n",
       "      <td>0.072402</td>\n",
       "      <td>-0.237786</td>\n",
       "      <td>-0.918146</td>\n",
       "      <td>1.067612</td>\n",
       "      <td>0.686751</td>\n",
       "      <td>-0.399719</td>\n",
       "      <td>0.528765</td>\n",
       "      <td>0.629328</td>\n",
       "      <td>0</td>\n",
       "    </tr>\n",
       "  </tbody>\n",
       "</table>\n",
       "</div>"
      ],
      "text/plain": [
       "        age RevolvingUtilizationOfUnsecuredLines DebtRatio MonthlyIncome  \\\n",
       "0 -0.301645                            -0.647246 -0.342876     -0.237786   \n",
       "1 -0.301645                            -0.647246 -0.342876     -0.237786   \n",
       "2 -0.545090                            -0.480731  0.072402     -0.237786   \n",
       "3 -0.545090                            -1.349175  0.072402     -0.237786   \n",
       "4 -0.545090                             2.226339  0.072402      0.234082   \n",
       "5  1.004079                            -1.349175 -0.342876     -0.237786   \n",
       "6 -0.301645                            -0.480731  0.072402      0.234082   \n",
       "7 -0.301645                            -0.480731  0.160055     -0.237786   \n",
       "8 -0.545090                            -1.349175  0.072402     -0.237786   \n",
       "9 -0.545090                            -0.480731  0.072402     -0.237786   \n",
       "\n",
       "  NumberOfOpenCreditLinesAndLoans NumberOfTime30-59DaysPastDueNotWorse  \\\n",
       "0                        0.140153                             1.067612   \n",
       "1                        0.140153                            -2.251336   \n",
       "2                       -0.918146                             1.067612   \n",
       "3                       -0.918146                             1.067612   \n",
       "4                       -0.055485                             1.067612   \n",
       "5                        0.140153                            -1.380250   \n",
       "6                        0.140153                             1.067612   \n",
       "7                       -0.055485                            -1.380250   \n",
       "8                       -0.055485                             1.067612   \n",
       "9                       -0.918146                             1.067612   \n",
       "\n",
       "  NumberOfTimes90DaysLate NumberRealEstateLoansOrLines  \\\n",
       "0               -2.548903                     0.206948   \n",
       "1               -2.548903                     0.638734   \n",
       "2               -2.548903                    -0.399719   \n",
       "3                0.686751                    -0.399719   \n",
       "4                0.686751                    -0.399719   \n",
       "5                0.686751                    -0.399719   \n",
       "6                0.686751                    -0.399719   \n",
       "7               -2.548903                    -0.399719   \n",
       "8                0.686751                    -0.399719   \n",
       "9                0.686751                    -0.399719   \n",
       "\n",
       "  NumberOfTime60-89DaysPastDueNotWorse NumberOfDependents  SeriousDlqin2yrs  \n",
       "0                            -2.971665          -0.587381                 1  \n",
       "1                            -2.437328          -0.587381                 1  \n",
       "2                            -2.437328           0.629328                 1  \n",
       "3                             0.528765          -0.587381                 1  \n",
       "4                             0.528765          -0.535777                 0  \n",
       "5                            -2.437328           0.629328                 1  \n",
       "6                             0.528765           0.629328                 0  \n",
       "7                             0.528765          -0.488751                 1  \n",
       "8                             0.528765          -0.488751                 0  \n",
       "9                             0.528765           0.629328                 0  "
      ]
     },
     "execution_count": 191,
     "metadata": {},
     "output_type": "execute_result"
    }
   ],
   "source": [
    "#不希望覆盖掉原本的数据，创建一个新的DataFrame，索引和原始数据model_data一模一样\n",
    "model_woe = pd.DataFrame(index=model_data.index)\n",
    " \n",
    "#将原数据分箱后，按箱的结果把WOE结构用map函数映射到数据中\n",
    "model_woe[\"age\"] = pd.cut(model_data[\"age\"],bins_of_col[\"age\"]).map(woeall[\"age\"])\n",
    " \n",
    "#对所有特征操作可以写成：\n",
    "for col in bins_of_col:\n",
    "    model_woe[col] = pd.cut(model_data[col],bins_of_col[col]).map(woeall[col])\n",
    "    \n",
    "#将标签补充到数据中\n",
    "model_woe[\"SeriousDlqin2yrs\"] = model_data[\"SeriousDlqin2yrs\"]\n",
    " \n",
    "#这就是我们的建模数据了\n",
    "model_woe.head(10)"
   ]
  },
  {
   "cell_type": "markdown",
   "metadata": {},
   "source": [
    "# 逻辑回归模型验证"
   ]
  },
  {
   "cell_type": "code",
   "execution_count": 192,
   "metadata": {},
   "outputs": [],
   "source": [
    "import warnings\n",
    "warnings.filterwarnings('ignore')"
   ]
  },
  {
   "cell_type": "code",
   "execution_count": 193,
   "metadata": {},
   "outputs": [],
   "source": [
    "vali_woe = pd.DataFrame(index=vali_data.index)\n",
    " \n",
    "for col in bins_of_col:\n",
    "    vali_woe[col] = pd.cut(vali_data[col],bins_of_col[col]).map(woeall[col])\n",
    "vali_woe[\"SeriousDlqin2yrs\"] = vali_data[\"SeriousDlqin2yrs\"]\n",
    " \n",
    "vali_X = vali_woe.iloc[:,:-1]\n",
    "vali_y = vali_woe.iloc[:,-1]"
   ]
  },
  {
   "cell_type": "code",
   "execution_count": 194,
   "metadata": {},
   "outputs": [
    {
     "data": {
      "text/plain": [
       "0.8595701613383342"
      ]
     },
     "execution_count": 194,
     "metadata": {},
     "output_type": "execute_result"
    }
   ],
   "source": [
    "X = model_woe.iloc[:,:-1]\n",
    "y = model_woe.iloc[:,-1]\n",
    " \n",
    "from sklearn.linear_model import LogisticRegression as LR\n",
    " \n",
    "lr = LR().fit(X,y)\n",
    "lr.score(vali_X,vali_y)"
   ]
  },
  {
   "cell_type": "code",
   "execution_count": 195,
   "metadata": {},
   "outputs": [
    {
     "name": "stdout",
     "output_type": "stream",
     "text": [
      "[[37195  4704]\n",
      " [ 7090 34996]]\n",
      "0.8596327224404561\n",
      "0.8315354274580621\n"
     ]
    }
   ],
   "source": [
    "from cProfile import label\n",
    "from sklearn.metrics import confusion_matrix,recall_score,roc_auc_score\n",
    "y_pred_cm = lr.predict(vali_X)\n",
    "print(confusion_matrix(vali_y,y_pred_cm))\n",
    "print(roc_auc_score(vali_y,y_pred_cm))\n",
    "print(recall_score(vali_y,y_pred_cm))"
   ]
  },
  {
   "cell_type": "code",
   "execution_count": 196,
   "metadata": {},
   "outputs": [
    {
     "data": {
      "image/png": "[encoded data removed]",
      "text/plain": [
       "<Figure size 432x288 with 1 Axes>"
      ]
     },
     "metadata": {
      "needs_background": "light"
     },
     "output_type": "display_data"
    },
    {
     "data": {
      "image/png": "[encoded data removed]",
      "text/plain": [
       "<Figure size 432x288 with 1 Axes>"
      ]
     },
     "metadata": {
      "needs_background": "light"
     },
     "output_type": "display_data"
    }
   ],
   "source": [
    "# 稍微调下参数\n",
    "c_1 = np.linspace(0.01,1,20)\n",
    "c_2 = np.linspace(0.01,0.2,20)\n",
    " \n",
    "score = []\n",
    "for i in c_1: \n",
    "    lr = LR(solver='liblinear',C=i).fit(X,y)\n",
    "    score.append(lr.score(vali_X,vali_y))\n",
    "plt.figure()\n",
    "plt.plot(c_1,score)\n",
    "plt.show()\n",
    " \n",
    "lr.n_iter_#array([7], dtype=int32)\n",
    " \n",
    "score = []\n",
    "for i in [1,2,3,4,5,6]: \n",
    "    lr = LR(solver='liblinear',C=0.025,max_iter=i).fit(X,y)\n",
    "    score.append(lr.score(vali_X,vali_y))\n",
    "plt.figure()\n",
    "plt.plot([1,2,3,4,5,6],score)\n",
    "plt.show()"
   ]
  },
  {
   "cell_type": "code",
   "execution_count": 197,
   "metadata": {},
   "outputs": [
    {
     "data": {
      "text/plain": [
       "<AxesSubplot:title={'center':'ROC Curves'}, xlabel='False Positive Rate', ylabel='True Positive Rate'>"
      ]
     },
     "execution_count": 197,
     "metadata": {},
     "output_type": "execute_result"
    },
    {
     "data": {
      "image/png": "[encoded data removed]",
      "text/plain": [
       "<Figure size 432x432 with 1 Axes>"
      ]
     },
     "metadata": {
      "needs_background": "light"
     },
     "output_type": "display_data"
    }
   ],
   "source": [
    "import scikitplot as skplt\n",
    "\n",
    "vali_proba_df = pd.DataFrame(lr.predict_proba(vali_X))\n",
    "skplt.metrics.plot_roc(vali_y, vali_proba_df,\n",
    "                        plot_micro=False,figsize=(6,6),\n",
    "                        plot_macro=False)"
   ]
  },
  {
   "cell_type": "markdown",
   "metadata": {},
   "source": [
    "# 制作评分卡"
   ]
  },
  {
   "cell_type": "code",
   "execution_count": 198,
   "metadata": {},
   "outputs": [
    {
     "data": {
      "text/plain": [
       "(28.85390081777927, 481.8621880878296)"
      ]
     },
     "execution_count": 198,
     "metadata": {},
     "output_type": "execute_result"
    }
   ],
   "source": [
    "B = 20/np.log(2)\n",
    "A = 600 + B*np.log(1/60)\n",
    "B,A"
   ]
  },
  {
   "cell_type": "code",
   "execution_count": 199,
   "metadata": {},
   "outputs": [
    {
     "data": {
      "text/plain": [
       "cut\n",
       "(-inf, 36.0]    -8.771646\n",
       "(36.0, 52.0]    -4.854108\n",
       "(52.0, 61.0]     2.751717\n",
       "(61.0, 74.0]    16.157756\n",
       "(74.0, inf]     29.554874\n",
       "dtype: float64"
      ]
     },
     "execution_count": 199,
     "metadata": {},
     "output_type": "execute_result"
    }
   ],
   "source": [
    "base_score = A - B*lr.intercept_#lr.intercept_：截距\n",
    "base_score#array([481.56390143])\n",
    " \n",
    "score_age = woeall[\"age\"] * (-B*lr.coef_[0][1])#lr.coef_：每一个特征建模之后得出的系数\n",
    "score_age#\"age\"特征中每个箱对应的分数"
   ]
  },
  {
   "cell_type": "code",
   "execution_count": 200,
   "metadata": {},
   "outputs": [],
   "source": [
    "file = \"./ScoreData.csv\"\n",
    "with open(file,\"w\") as fdata:\n",
    "    fdata.write(\"base_score,{}\\n\".format(base_score))\n",
    "for i,col in enumerate(X.columns):#[*enumerate(X.columns)]\n",
    "    score = woeall[col] * (-B*lr.coef_[0][i])\n",
    "    score.name = \"Score\"\n",
    "    score.index.name = col\n",
    "    score.to_csv(file,header=True,mode=\"a\")"
   ]
  },
  {
   "cell_type": "markdown",
   "metadata": {},
   "source": [
    "评分卡"
   ]
  },
  {
   "cell_type": "code",
   "execution_count": 201,
   "metadata": {},
   "outputs": [
    {
     "data": {
      "text/html": [
       "<div>\n",
       "<style scoped>\n",
       "    .dataframe tbody tr th:only-of-type {\n",
       "        vertical-align: middle;\n",
       "    }\n",
       "\n",
       "    .dataframe tbody tr th {\n",
       "        vertical-align: top;\n",
       "    }\n",
       "\n",
       "    .dataframe thead th {\n",
       "        text-align: right;\n",
       "    }\n",
       "</style>\n",
       "<table border=\"1\" class=\"dataframe\">\n",
       "  <thead>\n",
       "    <tr style=\"text-align: right;\">\n",
       "      <th></th>\n",
       "      <th>base_score</th>\n",
       "      <th>[480.63106625]</th>\n",
       "    </tr>\n",
       "  </thead>\n",
       "  <tbody>\n",
       "    <tr>\n",
       "      <th>0</th>\n",
       "      <td>age</td>\n",
       "      <td>Score</td>\n",
       "    </tr>\n",
       "    <tr>\n",
       "      <th>1</th>\n",
       "      <td>(-inf, 36.0]</td>\n",
       "      <td>-4.552283660259392</td>\n",
       "    </tr>\n",
       "    <tr>\n",
       "      <th>2</th>\n",
       "      <td>(36.0, 52.0]</td>\n",
       "      <td>-2.5191709082604223</td>\n",
       "    </tr>\n",
       "    <tr>\n",
       "      <th>3</th>\n",
       "      <td>(52.0, 61.0]</td>\n",
       "      <td>1.4280781088846914</td>\n",
       "    </tr>\n",
       "    <tr>\n",
       "      <th>4</th>\n",
       "      <td>(61.0, 74.0]</td>\n",
       "      <td>8.385505773675835</td>\n",
       "    </tr>\n",
       "    <tr>\n",
       "      <th>5</th>\n",
       "      <td>(74.0, inf]</td>\n",
       "      <td>15.338303867597974</td>\n",
       "    </tr>\n",
       "    <tr>\n",
       "      <th>6</th>\n",
       "      <td>RevolvingUtilizationOfUnsecuredLines</td>\n",
       "      <td>Score</td>\n",
       "    </tr>\n",
       "    <tr>\n",
       "      <th>7</th>\n",
       "      <td>(-inf, 0.0993]</td>\n",
       "      <td>35.826506788480415</td>\n",
       "    </tr>\n",
       "    <tr>\n",
       "      <th>8</th>\n",
       "      <td>(0.0993, 0.383]</td>\n",
       "      <td>8.067036753793456</td>\n",
       "    </tr>\n",
       "    <tr>\n",
       "      <th>9</th>\n",
       "      <td>(0.383, 0.729]</td>\n",
       "      <td>-10.415554379198333</td>\n",
       "    </tr>\n",
       "    <tr>\n",
       "      <th>10</th>\n",
       "      <td>(0.729, 0.987]</td>\n",
       "      <td>-21.711079903485277</td>\n",
       "    </tr>\n",
       "    <tr>\n",
       "      <th>11</th>\n",
       "      <td>(0.987, 1.0]</td>\n",
       "      <td>-7.735972766436078</td>\n",
       "    </tr>\n",
       "    <tr>\n",
       "      <th>12</th>\n",
       "      <td>(1.0, inf]</td>\n",
       "      <td>-32.97308348592843</td>\n",
       "    </tr>\n",
       "    <tr>\n",
       "      <th>13</th>\n",
       "      <td>DebtRatio</td>\n",
       "      <td>Score</td>\n",
       "    </tr>\n",
       "    <tr>\n",
       "      <th>14</th>\n",
       "      <td>(-inf, 0.0132]</td>\n",
       "      <td>25.38503375737655</td>\n",
       "    </tr>\n",
       "    <tr>\n",
       "      <th>15</th>\n",
       "      <td>(0.0132, 0.356]</td>\n",
       "      <td>1.3872574892667968</td>\n",
       "    </tr>\n",
       "    <tr>\n",
       "      <th>16</th>\n",
       "      <td>(0.356, 1.484]</td>\n",
       "      <td>-6.569682388081331</td>\n",
       "    </tr>\n",
       "    <tr>\n",
       "      <th>17</th>\n",
       "      <td>(1.484, inf]</td>\n",
       "      <td>3.066734989336373</td>\n",
       "    </tr>\n",
       "    <tr>\n",
       "      <th>18</th>\n",
       "      <td>MonthlyIncome</td>\n",
       "      <td>Score</td>\n",
       "    </tr>\n",
       "    <tr>\n",
       "      <th>19</th>\n",
       "      <td>(-inf, 0.11]</td>\n",
       "      <td>14.127144682921397</td>\n",
       "    </tr>\n",
       "    <tr>\n",
       "      <th>20</th>\n",
       "      <td>(0.11, 5550.0]</td>\n",
       "      <td>-2.5235131136137223</td>\n",
       "    </tr>\n",
       "    <tr>\n",
       "      <th>21</th>\n",
       "      <td>(5550.0, inf]</td>\n",
       "      <td>2.484206300679678</td>\n",
       "    </tr>\n",
       "    <tr>\n",
       "      <th>22</th>\n",
       "      <td>NumberOfOpenCreditLinesAndLoans</td>\n",
       "      <td>Score</td>\n",
       "    </tr>\n",
       "    <tr>\n",
       "      <th>23</th>\n",
       "      <td>(-inf, 1.0]</td>\n",
       "      <td>-11.022400453230738</td>\n",
       "    </tr>\n",
       "    <tr>\n",
       "      <th>24</th>\n",
       "      <td>(1.0, 3.0]</td>\n",
       "      <td>-3.796831576977096</td>\n",
       "    </tr>\n",
       "    <tr>\n",
       "      <th>25</th>\n",
       "      <td>(3.0, 5.0]</td>\n",
       "      <td>-0.6661027953317001</td>\n",
       "    </tr>\n",
       "    <tr>\n",
       "      <th>26</th>\n",
       "      <td>(5.0, 17.0]</td>\n",
       "      <td>1.6825498928874396</td>\n",
       "    </tr>\n",
       "    <tr>\n",
       "      <th>27</th>\n",
       "      <td>(17.0, inf]</td>\n",
       "      <td>5.839004049439329</td>\n",
       "    </tr>\n",
       "    <tr>\n",
       "      <th>28</th>\n",
       "      <td>NumberOfTime30-59DaysPastDueNotWorse</td>\n",
       "      <td>Score</td>\n",
       "    </tr>\n",
       "    <tr>\n",
       "      <th>29</th>\n",
       "      <td>(-inf, 0.0]</td>\n",
       "      <td>20.508156967159422</td>\n",
       "    </tr>\n",
       "    <tr>\n",
       "      <th>30</th>\n",
       "      <td>(0.0, 1.0]</td>\n",
       "      <td>-26.513722268530678</td>\n",
       "    </tr>\n",
       "    <tr>\n",
       "      <th>31</th>\n",
       "      <td>(1.0, 2.0]</td>\n",
       "      <td>-38.90572465361605</td>\n",
       "    </tr>\n",
       "    <tr>\n",
       "      <th>32</th>\n",
       "      <td>(2.0, inf]</td>\n",
       "      <td>-43.24672510586597</td>\n",
       "    </tr>\n",
       "    <tr>\n",
       "      <th>33</th>\n",
       "      <td>NumberOfTimes90DaysLate</td>\n",
       "      <td>Score</td>\n",
       "    </tr>\n",
       "    <tr>\n",
       "      <th>34</th>\n",
       "      <td>(-inf, 0.0]</td>\n",
       "      <td>12.406987328845744</td>\n",
       "    </tr>\n",
       "    <tr>\n",
       "      <th>35</th>\n",
       "      <td>(0.0, 1.0]</td>\n",
       "      <td>-46.04900004652665</td>\n",
       "    </tr>\n",
       "    <tr>\n",
       "      <th>36</th>\n",
       "      <td>(1.0, 2.0]</td>\n",
       "      <td>-54.45623352428449</td>\n",
       "    </tr>\n",
       "    <tr>\n",
       "      <th>37</th>\n",
       "      <td>(2.0, inf]</td>\n",
       "      <td>-56.55750319222236</td>\n",
       "    </tr>\n",
       "    <tr>\n",
       "      <th>38</th>\n",
       "      <td>NumberRealEstateLoansOrLines</td>\n",
       "      <td>Score</td>\n",
       "    </tr>\n",
       "    <tr>\n",
       "      <th>39</th>\n",
       "      <td>(-inf, 0.0]</td>\n",
       "      <td>-7.76545466820602</td>\n",
       "    </tr>\n",
       "    <tr>\n",
       "      <th>40</th>\n",
       "      <td>(0.0, 1.0]</td>\n",
       "      <td>4.020443448064753</td>\n",
       "    </tr>\n",
       "    <tr>\n",
       "      <th>41</th>\n",
       "      <td>(1.0, 2.0]</td>\n",
       "      <td>12.408871503185454</td>\n",
       "    </tr>\n",
       "    <tr>\n",
       "      <th>42</th>\n",
       "      <td>(2.0, 4.0]</td>\n",
       "      <td>7.581647552597638</td>\n",
       "    </tr>\n",
       "    <tr>\n",
       "      <th>43</th>\n",
       "      <td>(4.0, inf]</td>\n",
       "      <td>-6.730981177036084</td>\n",
       "    </tr>\n",
       "    <tr>\n",
       "      <th>44</th>\n",
       "      <td>NumberOfTime60-89DaysPastDueNotWorse</td>\n",
       "      <td>Score</td>\n",
       "    </tr>\n",
       "    <tr>\n",
       "      <th>45</th>\n",
       "      <td>(-inf, 0.0]</td>\n",
       "      <td>8.083315199218887</td>\n",
       "    </tr>\n",
       "    <tr>\n",
       "      <th>46</th>\n",
       "      <td>(0.0, 1.0]</td>\n",
       "      <td>-37.25980885164988</td>\n",
       "    </tr>\n",
       "    <tr>\n",
       "      <th>47</th>\n",
       "      <td>(1.0, 2.0]</td>\n",
       "      <td>-45.42831299391285</td>\n",
       "    </tr>\n",
       "    <tr>\n",
       "      <th>48</th>\n",
       "      <td>(2.0, inf]</td>\n",
       "      <td>-43.583104600045935</td>\n",
       "    </tr>\n",
       "    <tr>\n",
       "      <th>49</th>\n",
       "      <td>NumberOfDependents</td>\n",
       "      <td>Score</td>\n",
       "    </tr>\n",
       "    <tr>\n",
       "      <th>50</th>\n",
       "      <td>(-inf, 0.0]</td>\n",
       "      <td>13.074802060970576</td>\n",
       "    </tr>\n",
       "    <tr>\n",
       "      <th>51</th>\n",
       "      <td>(0.0, 1.0]</td>\n",
       "      <td>-12.203315002192845</td>\n",
       "    </tr>\n",
       "    <tr>\n",
       "      <th>52</th>\n",
       "      <td>(1.0, 2.0]</td>\n",
       "      <td>-11.131209626298066</td>\n",
       "    </tr>\n",
       "    <tr>\n",
       "      <th>53</th>\n",
       "      <td>(2.0, inf]</td>\n",
       "      <td>-10.154208334752969</td>\n",
       "    </tr>\n",
       "  </tbody>\n",
       "</table>\n",
       "</div>"
      ],
      "text/plain": [
       "                              base_score       [480.63106625]\n",
       "0                                    age                Score\n",
       "1                           (-inf, 36.0]   -4.552283660259392\n",
       "2                           (36.0, 52.0]  -2.5191709082604223\n",
       "3                           (52.0, 61.0]   1.4280781088846914\n",
       "4                           (61.0, 74.0]    8.385505773675835\n",
       "5                            (74.0, inf]   15.338303867597974\n",
       "6   RevolvingUtilizationOfUnsecuredLines                Score\n",
       "7                         (-inf, 0.0993]   35.826506788480415\n",
       "8                        (0.0993, 0.383]    8.067036753793456\n",
       "9                         (0.383, 0.729]  -10.415554379198333\n",
       "10                        (0.729, 0.987]  -21.711079903485277\n",
       "11                          (0.987, 1.0]   -7.735972766436078\n",
       "12                            (1.0, inf]   -32.97308348592843\n",
       "13                             DebtRatio                Score\n",
       "14                        (-inf, 0.0132]    25.38503375737655\n",
       "15                       (0.0132, 0.356]   1.3872574892667968\n",
       "16                        (0.356, 1.484]   -6.569682388081331\n",
       "17                          (1.484, inf]    3.066734989336373\n",
       "18                         MonthlyIncome                Score\n",
       "19                          (-inf, 0.11]   14.127144682921397\n",
       "20                        (0.11, 5550.0]  -2.5235131136137223\n",
       "21                         (5550.0, inf]    2.484206300679678\n",
       "22       NumberOfOpenCreditLinesAndLoans                Score\n",
       "23                           (-inf, 1.0]  -11.022400453230738\n",
       "24                            (1.0, 3.0]   -3.796831576977096\n",
       "25                            (3.0, 5.0]  -0.6661027953317001\n",
       "26                           (5.0, 17.0]   1.6825498928874396\n",
       "27                           (17.0, inf]    5.839004049439329\n",
       "28  NumberOfTime30-59DaysPastDueNotWorse                Score\n",
       "29                           (-inf, 0.0]   20.508156967159422\n",
       "30                            (0.0, 1.0]  -26.513722268530678\n",
       "31                            (1.0, 2.0]   -38.90572465361605\n",
       "32                            (2.0, inf]   -43.24672510586597\n",
       "33               NumberOfTimes90DaysLate                Score\n",
       "34                           (-inf, 0.0]   12.406987328845744\n",
       "35                            (0.0, 1.0]   -46.04900004652665\n",
       "36                            (1.0, 2.0]   -54.45623352428449\n",
       "37                            (2.0, inf]   -56.55750319222236\n",
       "38          NumberRealEstateLoansOrLines                Score\n",
       "39                           (-inf, 0.0]    -7.76545466820602\n",
       "40                            (0.0, 1.0]    4.020443448064753\n",
       "41                            (1.0, 2.0]   12.408871503185454\n",
       "42                            (2.0, 4.0]    7.581647552597638\n",
       "43                            (4.0, inf]   -6.730981177036084\n",
       "44  NumberOfTime60-89DaysPastDueNotWorse                Score\n",
       "45                           (-inf, 0.0]    8.083315199218887\n",
       "46                            (0.0, 1.0]   -37.25980885164988\n",
       "47                            (1.0, 2.0]   -45.42831299391285\n",
       "48                            (2.0, inf]  -43.583104600045935\n",
       "49                    NumberOfDependents                Score\n",
       "50                           (-inf, 0.0]   13.074802060970576\n",
       "51                            (0.0, 1.0]  -12.203315002192845\n",
       "52                            (1.0, 2.0]  -11.131209626298066\n",
       "53                            (2.0, inf]  -10.154208334752969"
      ]
     },
     "execution_count": 201,
     "metadata": {},
     "output_type": "execute_result"
    }
   ],
   "source": [
    "# 查看评分卡\n",
    "import pandas as pd\n",
    "ScoreData = pd.read_csv(\"ScoreData.csv\")\n",
    "ScoreData"
   ]
  },
  {
   "cell_type": "markdown",
   "metadata": {},
   "source": [
    "计算用户的score"
   ]
  },
  {
   "cell_type": "code",
   "execution_count": 202,
   "metadata": {},
   "outputs": [],
   "source": [
    "# 使用证据权重矩阵计算用户的score\n",
    "log_odds=model_woe.drop('SeriousDlqin2yrs',axis=1,inplace=False)\n",
    "# 使用公式score = A-B*log_odds 其中A=482，B=29\n",
    "score = pd.DataFrame()\n",
    "for i in log_odds.columns:\n",
    "    score[i] = pd.Series(log_odds[i]).astype(float)*29\n",
    "score['Row_sum'] = score.apply(lambda x: x.sum(), axis=1) # 按行求和，添加为新列\n",
    "score['scorecredit'] = 482-score['Row_sum']"
   ]
  },
  {
   "cell_type": "code",
   "execution_count": 203,
   "metadata": {},
   "outputs": [
    {
     "name": "stdout",
     "output_type": "stream",
     "text": [
      "count    195963.000000\n",
      "mean        493.616926\n",
      "std         143.395270\n",
      "min         203.839481\n",
      "25%         372.794683\n",
      "50%         470.301749\n",
      "75%         606.867727\n",
      "max         852.977477\n",
      "Name: scorecredit, dtype: float64\n",
      "----------------------------------------------------------------------------------------------------\n",
      "53832     852.977477\n",
      "113386    840.968362\n",
      "62654     839.386890\n",
      "92207     839.386890\n",
      "1422      837.645977\n",
      "             ...    \n",
      "14158     213.880009\n",
      "191520    213.880009\n",
      "156379    213.880009\n",
      "55312     213.880009\n",
      "135624    203.839481\n",
      "Name: scorecredit, Length: 195963, dtype: float64\n",
      "到这一步，评分卡就算制作完成了，可以看到最高分数是852，最低分数为203\n"
     ]
    }
   ],
   "source": [
    "print(score['scorecredit'].describe().T)\n",
    "print('-'*100)\n",
    "print(score['scorecredit'].sort_values(ascending=False))\n",
    "print('到这一步，评分卡就算制作完成了，可以看到最高分数是852，最低分数为203')"
   ]
  },
  {
   "cell_type": "code",
   "execution_count": 204,
   "metadata": {},
   "outputs": [
    {
     "name": "stdout",
     "output_type": "stream",
     "text": [
      "可见大部分用户落在300-500分的区间，\n",
      "少量用户低于300分，为高风险用户\n",
      "600分以上的用户为高质量用户\n"
     ]
    },
    {
     "data": {
      "image/png": "[encoded data removed]",
      "text/plain": [
       "<Figure size 720x576 with 1 Axes>"
      ]
     },
     "metadata": {
      "needs_background": "light"
     },
     "output_type": "display_data"
    }
   ],
   "source": [
    "# 查看用户的score的分布情况\n",
    "print('可见大部分用户落在300-500分的区间，\\n少量用户低于300分，为高风险用户\\n600分以上的用户为高质量用户')\n",
    "fig=plt.figure(figsize=(10,8))\n",
    "sns.histplot(x=score['scorecredit'],data=score,bins=20,kde=True,color='b');"
   ]
  },
  {
   "cell_type": "markdown",
   "metadata": {},
   "source": [
    "# 违约预测"
   ]
  },
  {
   "cell_type": "code",
   "execution_count": 205,
   "metadata": {},
   "outputs": [],
   "source": [
    "train_data = train_data.drop('Unnamed: 0',axis=1)\n",
    "test_data = test_data.drop('Unnamed: 0',axis=1)"
   ]
  },
  {
   "cell_type": "code",
   "execution_count": 206,
   "metadata": {},
   "outputs": [],
   "source": [
    "X = train_data.iloc[:,1:]\n",
    "y = train_data.iloc[:,0]"
   ]
  },
  {
   "cell_type": "code",
   "execution_count": 207,
   "metadata": {},
   "outputs": [],
   "source": [
    "# 切分数据集\n",
    "from sklearn.model_selection import train_test_split\n",
    "X_train, X_test, y_train, y_test = train_test_split(X,y,train_size=0.7)"
   ]
  },
  {
   "cell_type": "code",
   "execution_count": 208,
   "metadata": {},
   "outputs": [
    {
     "data": {
      "text/html": [
       "<div>\n",
       "<style scoped>\n",
       "    .dataframe tbody tr th:only-of-type {\n",
       "        vertical-align: middle;\n",
       "    }\n",
       "\n",
       "    .dataframe tbody tr th {\n",
       "        vertical-align: top;\n",
       "    }\n",
       "\n",
       "    .dataframe thead th {\n",
       "        text-align: right;\n",
       "    }\n",
       "</style>\n",
       "<table border=\"1\" class=\"dataframe\">\n",
       "  <thead>\n",
       "    <tr style=\"text-align: right;\">\n",
       "      <th></th>\n",
       "      <th>count</th>\n",
       "      <th>mean</th>\n",
       "      <th>std</th>\n",
       "      <th>min</th>\n",
       "      <th>1%</th>\n",
       "      <th>10%</th>\n",
       "      <th>25%</th>\n",
       "      <th>50%</th>\n",
       "      <th>75%</th>\n",
       "      <th>90%</th>\n",
       "      <th>99%</th>\n",
       "      <th>max</th>\n",
       "    </tr>\n",
       "  </thead>\n",
       "  <tbody>\n",
       "    <tr>\n",
       "      <th>RevolvingUtilizationOfUnsecuredLines</th>\n",
       "      <td>150000.0</td>\n",
       "      <td>6.048438</td>\n",
       "      <td>249.755371</td>\n",
       "      <td>0.0</td>\n",
       "      <td>0.0</td>\n",
       "      <td>0.002969</td>\n",
       "      <td>0.029867</td>\n",
       "      <td>0.154181</td>\n",
       "      <td>0.559046</td>\n",
       "      <td>0.981278</td>\n",
       "      <td>1.092956</td>\n",
       "      <td>50708.0</td>\n",
       "    </tr>\n",
       "    <tr>\n",
       "      <th>age</th>\n",
       "      <td>150000.0</td>\n",
       "      <td>52.295207</td>\n",
       "      <td>14.771866</td>\n",
       "      <td>0.0</td>\n",
       "      <td>24.0</td>\n",
       "      <td>33.000000</td>\n",
       "      <td>41.000000</td>\n",
       "      <td>52.000000</td>\n",
       "      <td>63.000000</td>\n",
       "      <td>72.000000</td>\n",
       "      <td>87.000000</td>\n",
       "      <td>109.0</td>\n",
       "    </tr>\n",
       "    <tr>\n",
       "      <th>NumberOfTime30-59DaysPastDueNotWorse</th>\n",
       "      <td>150000.0</td>\n",
       "      <td>0.245353</td>\n",
       "      <td>0.697231</td>\n",
       "      <td>0.0</td>\n",
       "      <td>0.0</td>\n",
       "      <td>0.000000</td>\n",
       "      <td>0.000000</td>\n",
       "      <td>0.000000</td>\n",
       "      <td>0.000000</td>\n",
       "      <td>1.000000</td>\n",
       "      <td>3.000000</td>\n",
       "      <td>13.0</td>\n",
       "    </tr>\n",
       "    <tr>\n",
       "      <th>DebtRatio</th>\n",
       "      <td>150000.0</td>\n",
       "      <td>353.005076</td>\n",
       "      <td>2037.818523</td>\n",
       "      <td>0.0</td>\n",
       "      <td>0.0</td>\n",
       "      <td>0.030874</td>\n",
       "      <td>0.175074</td>\n",
       "      <td>0.366508</td>\n",
       "      <td>0.868254</td>\n",
       "      <td>1267.000000</td>\n",
       "      <td>4979.040000</td>\n",
       "      <td>329664.0</td>\n",
       "    </tr>\n",
       "    <tr>\n",
       "      <th>MonthlyIncome</th>\n",
       "      <td>150000.0</td>\n",
       "      <td>5413.460779</td>\n",
       "      <td>13148.382157</td>\n",
       "      <td>0.0</td>\n",
       "      <td>0.0</td>\n",
       "      <td>0.180000</td>\n",
       "      <td>1800.000000</td>\n",
       "      <td>4416.000000</td>\n",
       "      <td>7400.000000</td>\n",
       "      <td>10758.200000</td>\n",
       "      <td>23200.000000</td>\n",
       "      <td>3008750.0</td>\n",
       "    </tr>\n",
       "    <tr>\n",
       "      <th>NumberOfOpenCreditLinesAndLoans</th>\n",
       "      <td>150000.0</td>\n",
       "      <td>8.452760</td>\n",
       "      <td>5.145951</td>\n",
       "      <td>0.0</td>\n",
       "      <td>0.0</td>\n",
       "      <td>3.000000</td>\n",
       "      <td>5.000000</td>\n",
       "      <td>8.000000</td>\n",
       "      <td>11.000000</td>\n",
       "      <td>15.000000</td>\n",
       "      <td>24.000000</td>\n",
       "      <td>58.0</td>\n",
       "    </tr>\n",
       "    <tr>\n",
       "      <th>NumberOfTimes90DaysLate</th>\n",
       "      <td>150000.0</td>\n",
       "      <td>0.090293</td>\n",
       "      <td>0.485107</td>\n",
       "      <td>0.0</td>\n",
       "      <td>0.0</td>\n",
       "      <td>0.000000</td>\n",
       "      <td>0.000000</td>\n",
       "      <td>0.000000</td>\n",
       "      <td>0.000000</td>\n",
       "      <td>0.000000</td>\n",
       "      <td>2.000000</td>\n",
       "      <td>17.0</td>\n",
       "    </tr>\n",
       "    <tr>\n",
       "      <th>NumberRealEstateLoansOrLines</th>\n",
       "      <td>150000.0</td>\n",
       "      <td>1.018240</td>\n",
       "      <td>1.129771</td>\n",
       "      <td>0.0</td>\n",
       "      <td>0.0</td>\n",
       "      <td>0.000000</td>\n",
       "      <td>0.000000</td>\n",
       "      <td>1.000000</td>\n",
       "      <td>2.000000</td>\n",
       "      <td>2.000000</td>\n",
       "      <td>4.000000</td>\n",
       "      <td>54.0</td>\n",
       "    </tr>\n",
       "    <tr>\n",
       "      <th>NumberOfTime60-89DaysPastDueNotWorse</th>\n",
       "      <td>150000.0</td>\n",
       "      <td>0.064707</td>\n",
       "      <td>0.329788</td>\n",
       "      <td>0.0</td>\n",
       "      <td>0.0</td>\n",
       "      <td>0.000000</td>\n",
       "      <td>0.000000</td>\n",
       "      <td>0.000000</td>\n",
       "      <td>0.000000</td>\n",
       "      <td>0.000000</td>\n",
       "      <td>2.000000</td>\n",
       "      <td>11.0</td>\n",
       "    </tr>\n",
       "    <tr>\n",
       "      <th>NumberOfDependents</th>\n",
       "      <td>150000.0</td>\n",
       "      <td>0.737413</td>\n",
       "      <td>1.107021</td>\n",
       "      <td>0.0</td>\n",
       "      <td>0.0</td>\n",
       "      <td>0.000000</td>\n",
       "      <td>0.000000</td>\n",
       "      <td>0.000000</td>\n",
       "      <td>1.000000</td>\n",
       "      <td>2.000000</td>\n",
       "      <td>4.000000</td>\n",
       "      <td>20.0</td>\n",
       "    </tr>\n",
       "  </tbody>\n",
       "</table>\n",
       "</div>"
      ],
      "text/plain": [
       "                                         count         mean           std  \\\n",
       "RevolvingUtilizationOfUnsecuredLines  150000.0     6.048438    249.755371   \n",
       "age                                   150000.0    52.295207     14.771866   \n",
       "NumberOfTime30-59DaysPastDueNotWorse  150000.0     0.245353      0.697231   \n",
       "DebtRatio                             150000.0   353.005076   2037.818523   \n",
       "MonthlyIncome                         150000.0  5413.460779  13148.382157   \n",
       "NumberOfOpenCreditLinesAndLoans       150000.0     8.452760      5.145951   \n",
       "NumberOfTimes90DaysLate               150000.0     0.090293      0.485107   \n",
       "NumberRealEstateLoansOrLines          150000.0     1.018240      1.129771   \n",
       "NumberOfTime60-89DaysPastDueNotWorse  150000.0     0.064707      0.329788   \n",
       "NumberOfDependents                    150000.0     0.737413      1.107021   \n",
       "\n",
       "                                      min    1%        10%          25%  \\\n",
       "RevolvingUtilizationOfUnsecuredLines  0.0   0.0   0.002969     0.029867   \n",
       "age                                   0.0  24.0  33.000000    41.000000   \n",
       "NumberOfTime30-59DaysPastDueNotWorse  0.0   0.0   0.000000     0.000000   \n",
       "DebtRatio                             0.0   0.0   0.030874     0.175074   \n",
       "MonthlyIncome                         0.0   0.0   0.180000  1800.000000   \n",
       "NumberOfOpenCreditLinesAndLoans       0.0   0.0   3.000000     5.000000   \n",
       "NumberOfTimes90DaysLate               0.0   0.0   0.000000     0.000000   \n",
       "NumberRealEstateLoansOrLines          0.0   0.0   0.000000     0.000000   \n",
       "NumberOfTime60-89DaysPastDueNotWorse  0.0   0.0   0.000000     0.000000   \n",
       "NumberOfDependents                    0.0   0.0   0.000000     0.000000   \n",
       "\n",
       "                                              50%          75%           90%  \\\n",
       "RevolvingUtilizationOfUnsecuredLines     0.154181     0.559046      0.981278   \n",
       "age                                     52.000000    63.000000     72.000000   \n",
       "NumberOfTime30-59DaysPastDueNotWorse     0.000000     0.000000      1.000000   \n",
       "DebtRatio                                0.366508     0.868254   1267.000000   \n",
       "MonthlyIncome                         4416.000000  7400.000000  10758.200000   \n",
       "NumberOfOpenCreditLinesAndLoans          8.000000    11.000000     15.000000   \n",
       "NumberOfTimes90DaysLate                  0.000000     0.000000      0.000000   \n",
       "NumberRealEstateLoansOrLines             1.000000     2.000000      2.000000   \n",
       "NumberOfTime60-89DaysPastDueNotWorse     0.000000     0.000000      0.000000   \n",
       "NumberOfDependents                       0.000000     1.000000      2.000000   \n",
       "\n",
       "                                               99%        max  \n",
       "RevolvingUtilizationOfUnsecuredLines      1.092956    50708.0  \n",
       "age                                      87.000000      109.0  \n",
       "NumberOfTime30-59DaysPastDueNotWorse      3.000000       13.0  \n",
       "DebtRatio                              4979.040000   329664.0  \n",
       "MonthlyIncome                         23200.000000  3008750.0  \n",
       "NumberOfOpenCreditLinesAndLoans          24.000000       58.0  \n",
       "NumberOfTimes90DaysLate                   2.000000       17.0  \n",
       "NumberRealEstateLoansOrLines              4.000000       54.0  \n",
       "NumberOfTime60-89DaysPastDueNotWorse      2.000000       11.0  \n",
       "NumberOfDependents                        4.000000       20.0  "
      ]
     },
     "execution_count": 208,
     "metadata": {},
     "output_type": "execute_result"
    }
   ],
   "source": [
    "X.describe([0.01,0.1,0.25,.5,.75,.9,.99]).T"
   ]
  },
  {
   "cell_type": "markdown",
   "metadata": {},
   "source": [
    "建立一级模型"
   ]
  },
  {
   "cell_type": "code",
   "execution_count": 209,
   "metadata": {},
   "outputs": [],
   "source": [
    "from sklearn.model_selection import cross_val_score,KFold,cross_validate\n",
    "from sklearn.ensemble import RandomForestClassifier,GradientBoostingClassifier\n",
    "from sklearn.ensemble import HistGradientBoostingClassifier\n",
    "from xgboost import XGBClassifier\n",
    "from lightgbm import LGBMClassifier\n",
    "from catboost import CatBoostClassifier"
   ]
  },
  {
   "cell_type": "code",
   "execution_count": 267,
   "metadata": {},
   "outputs": [
    {
     "data": {
      "text/plain": [
       "'\\nrfc的test_score为：0.9331\\ngdbt的test_score为：0.9346\\nhgb的test_score为：0.9346\\nxgb的test_score为：0.9321\\nlgb的test_score为：0.9344\\ncgb的test_score为：0.9336\\n'"
      ]
     },
     "execution_count": 267,
     "metadata": {},
     "output_type": "execute_result"
    }
   ],
   "source": [
    "# 构建一级模型基础，在此基础上进行选择和调整\n",
    "#model={}\n",
    "#model['rfc']=RandomForestClassifier()\n",
    "#model['gdbt']=GradientBoostingClassifier()\n",
    "#model['hgb']=HistGradientBoostingClassifier()\n",
    "#model['xgb']=XGBClassifier()\n",
    "#model['lgb']=LGBMClassifier()\n",
    "#model['cgb']=CatBoostClassifier(verbose=False)\n",
    "#\n",
    "#for i in model:\n",
    "#    model[i].fit(X_train,y_train)\n",
    "#    cv = KFold(n_splits=5,shuffle=True,random_state=2022)\n",
    "#    score=cross_validate(model[i],X_test,\n",
    "#                        y_test,\n",
    "#                        cv=cv,\n",
    "#                        scoring='roc_auc',\n",
    "#                        n_jobs=-1,\n",
    "#                        return_train_score=True\n",
    "#                        )\n",
    "#    #print(f'{i}的train_score为：{round(score[\"train_score\"].mean(),4)}')\n",
    "#    print(f'{i}的test_score为：{round(score[\"test_score\"].mean(),4)}')\n",
    "\n",
    "\"\"\"\n",
    "rfc的test_score为：0.9331\n",
    "gdbt的test_score为：0.9346\n",
    "hgb的test_score为：0.9346\n",
    "xgb的test_score为：0.9321\n",
    "lgb的test_score为：0.9344\n",
    "cgb的test_score为：0.9336\n",
    "\"\"\""
   ]
  },
  {
   "cell_type": "markdown",
   "metadata": {},
   "source": [
    "模型优化"
   ]
  },
  {
   "cell_type": "code",
   "execution_count": 252,
   "metadata": {},
   "outputs": [
    {
     "name": "stdout",
     "output_type": "stream",
     "text": [
      "roc_auc为：0.9336\n"
     ]
    }
   ],
   "source": [
    "# 随便调调LGB的参数\n",
    "from sklearn.model_selection import KFold,cross_validate\n",
    "lgb1 = LGBMClassifier(boosting_type='dart',\n",
    "                    learning_rate=0.01,\n",
    "                    n_estimators=200,\n",
    "                    max_depth=12,\n",
    "                    reg_lambda=0\n",
    "                    #num_leaves=31\n",
    "                    )\n",
    "lgb = lgb1.fit(X_train,y_train)\n",
    "cv = KFold(n_splits=5,shuffle=True,random_state=2022)\n",
    "lgb_cv = cross_validate(lgb1,X_test,y_test,cv=cv,scoring='roc_auc',n_jobs=-1,return_train_score=True)\n",
    "#print(f'{i}的train_score为：{round(score[\"train_score\"].mean(),4)}')\n",
    "print(f'roc_auc为：{round(score[\"test_score\"].mean(),4)}')"
   ]
  },
  {
   "cell_type": "code",
   "execution_count": 241,
   "metadata": {},
   "outputs": [
    {
     "data": {
      "text/plain": [
       "<AxesSubplot:title={'center':'ROC Curves'}, xlabel='False Positive Rate', ylabel='True Positive Rate'>"
      ]
     },
     "execution_count": 241,
     "metadata": {},
     "output_type": "execute_result"
    },
    {
     "data": {
      "image/png": "[encoded data removed]",
      "text/plain": [
       "<Figure size 576x576 with 1 Axes>"
      ]
     },
     "metadata": {
      "needs_background": "light"
     },
     "output_type": "display_data"
    }
   ],
   "source": [
    "# 绘制ROC曲线\n",
    "import scikitplot as skplt\n",
    "test_pred = lgb1.predict_proba(X_test)\n",
    "test_pred=pd.DataFrame(test_pred,index =y_test.index)\n",
    "skplt.metrics.plot_roc(y_test, test_pred,\n",
    "                        plot_micro=False,figsize=(8,8),\n",
    "                        plot_macro=False)"
   ]
  },
  {
   "cell_type": "markdown",
   "metadata": {},
   "source": [
    "随机网格搜索"
   ]
  },
  {
   "cell_type": "code",
   "execution_count": null,
   "metadata": {},
   "outputs": [],
   "source": [
    "# 随机网格搜索lgb超参数\n",
    "from sklearn.model_selection import GridSearchCV,RandomizedSearchCV\n",
    "from sklearn.metrics import accuracy_score,confusion_matrix,roc_auc_score,roc_curve\n",
    "\n",
    "#参数空间 \n",
    "r_param_grid = {\"boosting_type\": [\"gbdt\",\"dart\",\"goss\"]\n",
    "                ,'n_estimators': [*range(50,200,50)]\n",
    "                ,'max_depth': [*range(5,20,5)]\n",
    "                ,'learning_rate': [0.01,0.05,0.1]\n",
    "                ,'reg_lambda':[0.1,0.5,1,2]\n",
    "                }\n",
    "\n",
    "#建立分类器、交叉验证\n",
    "lgb2 = LGBMClassifier(random_state=2022,verbose=True,n_jobs=-1)\n",
    "cv = KFold(n_splits=5,shuffle=True,random_state=2022)\n",
    "lgb_rcv = RandomizedSearchCV(estimator=lgb2\n",
    "                            ,param_distributions=r_param_grid\n",
    "                            ,n_iter = 500 #子空间的大小是全域空间的一半左右\n",
    "                            ,scoring = \"roc_auc\"\n",
    "                            ,verbose = True\n",
    "                            ,cv = cv\n",
    "                            ,random_state=1412\n",
    "                            ,n_jobs=-1\n",
    "                            )\n",
    "lgb_rcv=lgb_rcv.fit(X_train,y_train)\n",
    "print('best parameters:',lgb_rcv.best_estimator_)\n",
    "print('best score:',lgb_rcv.best_score_)       \n",
    "print('train score:',lgb_rcv.score(X_train,y_train))         \n",
    "print('test score:',lgb_rcv.score(X_test,y_test))  "
   ]
  },
  {
   "cell_type": "markdown",
   "metadata": {},
   "source": [
    "贝叶斯优化"
   ]
  },
  {
   "cell_type": "code",
   "execution_count": null,
   "metadata": {},
   "outputs": [],
   "source": [
    "#导入优化算法\n",
    "import hyperopt\n",
    "from lightgbm import LGBMClassifier\n",
    "from hyperopt import hp, fmin, tpe, Trials, partial\n",
    "from hyperopt.early_stop import no_progress_loss\n",
    "\n",
    "def hyperopt_objective(params):\n",
    "    paramsforlgb = {\"learning_rate\":params[\"learning_rate\"]\n",
    "                    ,\"boosting_type\":params[\"boosting_type\"]\n",
    "                    ,\"colsample_bytree\":params[\"colsample_bytree\"]\n",
    "                    ,\"colsample_bynode\":params[\"colsample_bynode\"]\n",
    "                    #,\"reg_gamma\":params[\"reg_gamma\"]\n",
    "                    ,\"reg_lambda\":params[\"reg_lambda\"]\n",
    "                    ,\"min_child_weight\":params[\"min_child_weight\"]\n",
    "                    ,\"max_depth\":int(params[\"max_depth\"])\n",
    "                    ,\"subsample\":params[\"subsample\"]\n",
    "                    ,\"objective\":params[\"objective\"]\n",
    "                    ,\"rate_drop\":params[\"rate_drop\"]\n",
    "                    ,\"nthread\":14\n",
    "                    ,\"verbosity\":0\n",
    "                    ,\"seed\":1412}\n",
    "\n",
    "    Lgb = LGBMClassifier(\n",
    "                        learning_rate=int(params[\"learning_rate\"])\n",
    "                        ,boosting_type=int(params[\"boosting_type\"])\n",
    "                        ,colsample_bytree=int(params[\"colsample_bytree\"])\n",
    "                        ,colsample_bynode=int(params[\"colsample_bynode\"])\n",
    "                        #,gamma\":params[\"gamma\"]\n",
    "                        ,reg_lambda=int(params[\"reg_lambda\"])\n",
    "                        ,min_child_weight=int(params[\"min_child_weight\"])\n",
    "                        ,max_depth=int(params[\"max_depth\"])\n",
    "                        ,subsample=int(params[\"subsample\"])\n",
    "                        ,objective=int(params[\"objective\"])\n",
    "                        ,rate_drop=int(params[\"rate_drop\"])\n",
    "                        )\n",
    "    cv = KFold(n_splits=5,shuffle=True,random_state=1412)\n",
    "    validation_loss = cross_validate(Lgb,X,y\n",
    "                                     ,scoring=\"roc_auc\"\n",
    "                                     ,cv=cv #交叉验证模式\n",
    "                                     ,verbose=False #是否打印进程\n",
    "                                     ,n_jobs=-1 #线程数\n",
    "                                     ,error_score='raise'\n",
    "                                     )\n",
    "    #最终输出AUC\n",
    "    return np.mean(abs(validation_loss[\"test_score\"]))\n",
    "\n",
    "param_grid_simple = {'n_estimators': hp.quniform(\"n_estimators\",50,200,10)\n",
    "                     ,\"learning_rate\": hp.quniform(\"learning_rate\",0.05,2.05,0.05)\n",
    "                    # ,\"boosting_type\":hp.choice(\"boosting_type\",[\"gbdt\",\"dart\"])\n",
    "                     ,\"colsample_bytree\":hp.quniform(\"colsample_bytree\",0.3,1,0.1)\n",
    "                     ,\"colsample_bynode\":hp.quniform(\"colsample_bynode\",0.1,1,0.1)\n",
    "                    # ,\"gamma\":hp.quniform(\"gamma\",1e6,1e7,1e6)\n",
    "                     ,\"reg_lambda\":hp.quniform(\"lambda\",0,3,0.2)\n",
    "                     ,\"min_child_weight\":hp.quniform(\"min_child_weight\",0,50,2)\n",
    "                     ,\"max_depth\":hp.choice(\"max_depth\",[*range(2,30,2)])\n",
    "                     ,\"subsample\":hp.quniform(\"subsample\",0.1,1,0.1)\n",
    "                     ,\"objective\":hp.choice(\"objective\",[\"binary:logistic\",\"binary:hinge\"])\n",
    "                     ,\"rate_drop\":hp.quniform(\"rate_drop\",0.1,1,0.1)\n",
    "                    }\n",
    "\n",
    "def param_hyperopt(max_evals=100):\n",
    "    \n",
    "    #保存迭代过程\n",
    "    trials = Trials()\n",
    "    \n",
    "    #设置提前停止\n",
    "    early_stop_fn = no_progress_loss(30)\n",
    "    \n",
    "    #定义代理模型\n",
    "    params_best = fmin(hyperopt_objective\n",
    "                       , space = param_grid_simple\n",
    "                       , algo = tpe.suggest\n",
    "                       , max_evals = max_evals\n",
    "                       , verbose=True\n",
    "                       , trials = trials\n",
    "                       , early_stop_fn = early_stop_fn\n",
    "                      )\n",
    "    \n",
    "    #打印最优参数，fmin会自动打印最佳分数\n",
    "    print(\"\\n\",\"\\n\",\"best params: \", params_best,\n",
    "          \"\\n\")\n",
    "    return params_best, trials\n",
    "\n",
    "params_best, trials = param_hyperopt(100) #由于参数空间巨大，给与100次迭代的空间"
   ]
  },
  {
   "cell_type": "code",
   "execution_count": 266,
   "metadata": {},
   "outputs": [
    {
     "data": {
      "application/vnd.jupyter.widget-view+json": {
       "model_id": "9c4474504e1847fc98d32a2f692d1a44",
       "version_major": 2,
       "version_minor": 0
      },
      "text/plain": [
       "  0%|          | 0/100 [00:00<?, ?it/s]"
      ]
     },
     "metadata": {},
     "output_type": "display_data"
    },
    {
     "name": "stdout",
     "output_type": "stream",
     "text": [
      "\n",
      " \n",
      " best params:  {'n_estimators': 10} \n",
      " \n",
      " best score:  [0.8593722129394722] \n",
      "\n"
     ]
    }
   ],
   "source": [
    "# 尝试使用optuna优化lgb\n",
    "import optuna\n",
    "from sklearn.model_selection import cross_validate\n",
    "from sklearn.model_selection import KFold\n",
    "\n",
    "def optuna_objective(trial):\n",
    "    \n",
    "    #定义参数空间\n",
    "    n_estimators = trial.suggest_int(\"n_estimators\",10,50,10) #整数型，(参数名称，下界，上界，步长)\n",
    "    #learning_rate = trial.suggest_discrete_uniform(\"learning_rate\",0.001,0.01,0.02)\n",
    "    #max_depth = trial.suggest_int(\"max_depth\",1,15,1)\n",
    "    #num_leaves = trial.suggest_int(\"max_leaves\",10,100,10)\n",
    "    #max_bin = trial.suggest_int(\"max_bin\",20,250,10)\n",
    "    \n",
    "    #定义评估器\n",
    "    #需要优化的参数由上述参数空间决定\n",
    "    #不需要优化的参数则直接填写具体值\n",
    "    lgb4 = LGBMClassifier(n_estimators = n_estimators,\n",
    "                        #learning_rate=learning_rate,\n",
    "                        max_depth = 11,\n",
    "                        #num_leaves=num_leaves,\n",
    "                        random_state=2022,\n",
    "                        verbose=0,\n",
    "                        n_jobs=-1\n",
    "                        )\n",
    "    \n",
    "    #交叉验证过程，输出AUC\n",
    "    #optuna同时支持最大化和最小化，因此如果输出-RMSE，则选择最大化\n",
    "    #如果选择输出RMSE，则选择最小化\n",
    "    cv = KFold(n_splits=5,shuffle=True,random_state=1412)\n",
    "    validation_loss = cross_validate(lgb4,X,y\n",
    "                                     ,scoring=\"roc_auc\"\n",
    "                                     ,cv=cv #交叉验证模式\n",
    "                                     ,verbose=False #是否打印进程\n",
    "                                     ,n_jobs=-1 #线程数\n",
    "                                     ,error_score='raise'\n",
    "                                    )\n",
    "    #最终输出RMSE\n",
    "    return np.mean(abs(validation_loss[\"test_score\"]))\n",
    "    \n",
    "#优化函数\n",
    "def optimizer_optuna(n_trials, algo):\n",
    "    \n",
    "    #定义使用TPE或者GP\n",
    "    if algo == \"TPE\":\n",
    "        algo = optuna.samplers.TPESampler(n_startup_trials = 10, n_ei_candidates = 24)\n",
    "    elif algo == \"GP\":\n",
    "        from optuna.integration import SkoptSampler\n",
    "        import skopt\n",
    "        algo = SkoptSampler(skopt_kwargs={'base_estimator':'GP', #选择高斯过程\n",
    "                                          'n_initial_points':10, #初始观测点10个\n",
    "                                          'acq_func':'EI'} #选择的采集函数为EI，期望增量\n",
    "                           )\n",
    "    \n",
    "    #实际优化过程，首先实例化优化器\n",
    "    study = optuna.create_study(sampler = algo #要使用的具体算法\n",
    "                                , direction=\"minimize\" #优化的方向，可以填写minimize或maximize\n",
    "                               )\n",
    "    #开始优化，n_trials为允许的最大迭代次数\n",
    "    #由于参数空间已经在目标函数中定义好，因此不需要输入参数空间\n",
    "    study.optimize(optuna_objective #目标函数\n",
    "                   , n_trials=n_trials #最大迭代次数（包括最初的观测值的）\n",
    "                   , show_progress_bar=True #要不要展示进度条呀？\n",
    "                  )\n",
    "    \n",
    "    #可直接从优化好的对象study中调用优化的结果\n",
    "    #打印最佳参数与最佳损失值\n",
    "    print(\"\\n\",\"\\n\",\"best params: \", study.best_trial.params,\n",
    "          \"\\n\",\"\\n\",\"best score: \", study.best_trial.values,\n",
    "          \"\\n\")\n",
    "    \n",
    "    return study.best_trial.params, study.best_trial.values\n",
    "\n",
    "optuna.logging.set_verbosity(optuna.logging.ERROR) #关闭自动打印的info，只显示进度条\n",
    "#optuna.logging.set_verbosity(optuna.logging.INFO)\n",
    "best_params,best_score = optimizer_optuna(100,\"TPE\")"
   ]
  },
  {
   "cell_type": "markdown",
   "metadata": {},
   "source": [
    "绘制ROC曲线"
   ]
  },
  {
   "cell_type": "code",
   "execution_count": 240,
   "metadata": {},
   "outputs": [
    {
     "data": {
      "text/plain": [
       "<AxesSubplot:title={'center':'ROC Curves'}, xlabel='False Positive Rate', ylabel='True Positive Rate'>"
      ]
     },
     "execution_count": 240,
     "metadata": {},
     "output_type": "execute_result"
    },
    {
     "data": {
      "text/plain": [
       "<Figure size 720x720 with 0 Axes>"
      ]
     },
     "metadata": {},
     "output_type": "display_data"
    },
    {
     "data": {
      "image/png": "[encoded data removed]",
      "text/plain": [
       "<Figure size 432x432 with 1 Axes>"
      ]
     },
     "metadata": {
      "needs_background": "light"
     },
     "output_type": "display_data"
    }
   ],
   "source": [
    "# 绘制ROC曲线\n",
    "import scikitplot as skplt\n",
    "vali_df = pd.DataFrame(lgb.predict_proba(X_test))\n",
    "fig = plt.figure(figsize=(10,10))\n",
    "skplt.metrics.plot_roc(y_test, vali_df,\n",
    "                        plot_micro=False,figsize=(6,6),\n",
    "                        plot_macro=False)"
   ]
  },
  {
   "cell_type": "markdown",
   "metadata": {},
   "source": [
    "结果提交"
   ]
  },
  {
   "cell_type": "code",
   "execution_count": null,
   "metadata": {},
   "outputs": [],
   "source": [
    "# 保存结果\n",
    "pre_y=lgb.predict(test_data)\n",
    "result=pd.read_csv('sampleEntry.csv')\n",
    "result['Probability']=pre_y\n",
    "result.to_csv('lgb.csv',index=False)"
   ]
  },
  {
   "cell_type": "code",
   "execution_count": null,
   "metadata": {},
   "outputs": [],
   "source": [
    "# 保存结果\n",
    "hgb = HistGradientBoostingClassifier().fit(X,y)\n",
    "pre_y=hgb.predict(test_data)\n",
    "result=pd.read_csv('sampleEntry.csv')\n",
    "result['Probability']=pre_y\n",
    "result.to_csv('hgb.csv',index=False)"
   ]
  }
 ],
 "metadata": {
  "kernelspec": {
   "display_name": "Python 3.7.1 ('base')",
   "language": "python",
   "name": "python3"
  },
  "language_info": {
   "codemirror_mode": {
    "name": "ipython",
    "version": 3
   },
   "file_extension": ".py",
   "mimetype": "text/x-python",
   "name": "python",
   "nbconvert_exporter": "python",
   "pygments_lexer": "ipython3",
   "version": "3.7.1"
  },
  "orig_nbformat": 4,
  "vscode": {
   "interpreter": {
    "hash": "73e3c15672ee696208a12d178a6c8b1daef686ee2421fd348a68a819abd4f9a5"
   }
  }
 },
 "nbformat": 4,
 "nbformat_minor": 2
}
