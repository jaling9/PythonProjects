{
 "cells": [
  {
   "cell_type": "code",
   "execution_count": 1,
   "metadata": {},
   "outputs": [],
   "source": [
    "import pandas as pd"
   ]
  },
  {
   "cell_type": "code",
   "execution_count": 4,
   "metadata": {},
   "outputs": [
    {
     "data": {
      "text/html": [
       "<div>\n",
       "<style scoped>\n",
       "    .dataframe tbody tr th:only-of-type {\n",
       "        vertical-align: middle;\n",
       "    }\n",
       "\n",
       "    .dataframe tbody tr th {\n",
       "        vertical-align: top;\n",
       "    }\n",
       "\n",
       "    .dataframe thead th {\n",
       "        text-align: right;\n",
       "    }\n",
       "</style>\n",
       "<table border=\"1\" class=\"dataframe\">\n",
       "  <thead>\n",
       "    <tr style=\"text-align: right;\">\n",
       "      <th></th>\n",
       "      <th>商品id</th>\n",
       "      <th>时间</th>\n",
       "      <th>总销量</th>\n",
       "      <th>浏览量</th>\n",
       "      <th>抖音转化率</th>\n",
       "      <th>视频个数</th>\n",
       "      <th>直播个数</th>\n",
       "      <th>直播销量</th>\n",
       "      <th>视频销量</th>\n",
       "      <th>视频达人</th>\n",
       "      <th>直播达人</th>\n",
       "    </tr>\n",
       "  </thead>\n",
       "  <tbody>\n",
       "    <tr>\n",
       "      <th>160</th>\n",
       "      <td>【七月妈妈】山东红薯粉条500g*3袋</td>\n",
       "      <td>2021-12-15 16:00:00</td>\n",
       "      <td>1</td>\n",
       "      <td>74</td>\n",
       "      <td>0.013514</td>\n",
       "      <td>0</td>\n",
       "      <td>1</td>\n",
       "      <td>1</td>\n",
       "      <td>0</td>\n",
       "      <td>1</td>\n",
       "      <td>1</td>\n",
       "    </tr>\n",
       "    <tr>\n",
       "      <th>162</th>\n",
       "      <td>【七月妈妈】山东红薯粉条500g*3袋</td>\n",
       "      <td>2021-12-17 16:00:00</td>\n",
       "      <td>5</td>\n",
       "      <td>75</td>\n",
       "      <td>0.066667</td>\n",
       "      <td>0</td>\n",
       "      <td>2</td>\n",
       "      <td>5</td>\n",
       "      <td>0</td>\n",
       "      <td>0</td>\n",
       "      <td>1</td>\n",
       "    </tr>\n",
       "    <tr>\n",
       "      <th>165</th>\n",
       "      <td>【七月妈妈】山东红薯粉条500g*3袋</td>\n",
       "      <td>2021-12-20 16:00:00</td>\n",
       "      <td>6</td>\n",
       "      <td>109</td>\n",
       "      <td>0.055046</td>\n",
       "      <td>0</td>\n",
       "      <td>1</td>\n",
       "      <td>6</td>\n",
       "      <td>0</td>\n",
       "      <td>1</td>\n",
       "      <td>1</td>\n",
       "    </tr>\n",
       "    <tr>\n",
       "      <th>166</th>\n",
       "      <td>【七月妈妈】山东红薯粉条500g*3袋</td>\n",
       "      <td>2021-12-21 16:00:00</td>\n",
       "      <td>2</td>\n",
       "      <td>151</td>\n",
       "      <td>0.013245</td>\n",
       "      <td>0</td>\n",
       "      <td>1</td>\n",
       "      <td>2</td>\n",
       "      <td>0</td>\n",
       "      <td>0</td>\n",
       "      <td>1</td>\n",
       "    </tr>\n",
       "  </tbody>\n",
       "</table>\n",
       "</div>"
      ],
      "text/plain": [
       "                    商品id                   时间  总销量  浏览量     抖音转化率  视频个数  直播个数  \\\n",
       "160  【七月妈妈】山东红薯粉条500g*3袋  2021-12-15 16:00:00    1   74  0.013514     0     1   \n",
       "162  【七月妈妈】山东红薯粉条500g*3袋  2021-12-17 16:00:00    5   75  0.066667     0     2   \n",
       "165  【七月妈妈】山东红薯粉条500g*3袋  2021-12-20 16:00:00    6  109  0.055046     0     1   \n",
       "166  【七月妈妈】山东红薯粉条500g*3袋  2021-12-21 16:00:00    2  151  0.013245     0     1   \n",
       "\n",
       "     直播销量  视频销量  视频达人  直播达人  \n",
       "160     1     0     1     1  \n",
       "162     5     0     0     1  \n",
       "165     6     0     1     1  \n",
       "166     2     0     0     1  "
      ]
     },
     "execution_count": 4,
     "metadata": {},
     "output_type": "execute_result"
    }
   ],
   "source": [
    "data = pd.read_csv('数据集/1.csv')\n",
    "data[data['总销量']!=0]"
   ]
  },
  {
   "cell_type": "code",
   "execution_count": null,
   "metadata": {},
   "outputs": [],
   "source": []
  }
 ],
 "metadata": {
  "kernelspec": {
   "display_name": "Python 3.10.5 64-bit (windows store)",
   "language": "python",
   "name": "python3"
  },
  "language_info": {
   "codemirror_mode": {
    "name": "ipython",
    "version": 3
   },
   "file_extension": ".py",
   "mimetype": "text/x-python",
   "name": "python",
   "nbconvert_exporter": "python",
   "pygments_lexer": "ipython3",
   "version": "3.10.5"
  },
  "orig_nbformat": 4,
  "vscode": {
   "interpreter": {
    "hash": "825850a1542703e8330eb48918fb3db9db9b2154f7cb48e5f7ab1215ef3a88b8"
   }
  }
 },
 "nbformat": 4,
 "nbformat_minor": 2
}
