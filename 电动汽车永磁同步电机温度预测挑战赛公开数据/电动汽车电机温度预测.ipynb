{
 "cells": [
  {
   "cell_type": "code",
   "execution_count": 1,
   "metadata": {},
   "outputs": [],
   "source": [
    "import pandas as pd\n",
    "import numpy as np\n",
    "import seaborn as sns \n",
    "import matplotlib.pyplot as plt\n",
    "from tqdm import tqdm\n",
    "#----------------核心模型----------------\n",
    "from pmdarima.arima import auto_arima\n",
    "#----------------忽略报警----------------\n",
    "import warnings\n",
    "warnings.filterwarnings('ignore')"
   ]
  },
  {
   "cell_type": "code",
   "execution_count": 2,
   "metadata": {},
   "outputs": [
    {
     "name": "stdout",
     "output_type": "stream",
     "text": [
      "<class 'pandas.core.frame.DataFrame'>\n",
      "RangeIndex: 107296 entries, 0 to 107295\n",
      "Data columns (total 14 columns):\n",
      " #   Column          Non-Null Count   Dtype  \n",
      "---  ------          --------------   -----  \n",
      " 0   session_id      107296 non-null  int64  \n",
      " 1   rank            107296 non-null  int64  \n",
      " 2   u_q             107296 non-null  float64\n",
      " 3   coolant         107296 non-null  float64\n",
      " 4   stator_winding  107296 non-null  float64\n",
      " 5   u_d             107296 non-null  float64\n",
      " 6   stator_tooth    107296 non-null  float64\n",
      " 7   motor_speed     107296 non-null  float64\n",
      " 8   i_d             107296 non-null  float64\n",
      " 9   i_q             107296 non-null  float64\n",
      " 10  stator_yoke     107296 non-null  float64\n",
      " 11  ambient         107296 non-null  float64\n",
      " 12  torque          107296 non-null  float64\n",
      " 13  pm              107296 non-null  float64\n",
      "dtypes: float64(12), int64(2)\n",
      "memory usage: 11.5 MB\n"
     ]
    }
   ],
   "source": [
    "# 读取训练数据和测试数据\n",
    "train = pd.read_csv('train.csv')\n",
    "test = pd.read_csv('test.csv')\n",
    "sample_submit = pd.read_csv('sample_submit.csv')\n",
    "# 数据量\n",
    "# print(train.shape, test.shape)\n",
    "# 训练集信息，快速了解数据基本情况，包含column（列名）、Non-Null Count（非缺失样本数）、Dt\n",
    "train.info()"
   ]
  },
  {
   "cell_type": "code",
   "execution_count": 3,
   "metadata": {},
   "outputs": [
    {
     "data": {
      "text/html": [
       "<div>\n",
       "<style scoped>\n",
       "    .dataframe tbody tr th:only-of-type {\n",
       "        vertical-align: middle;\n",
       "    }\n",
       "\n",
       "    .dataframe tbody tr th {\n",
       "        vertical-align: top;\n",
       "    }\n",
       "\n",
       "    .dataframe thead th {\n",
       "        text-align: right;\n",
       "    }\n",
       "</style>\n",
       "<table border=\"1\" class=\"dataframe\">\n",
       "  <thead>\n",
       "    <tr style=\"text-align: right;\">\n",
       "      <th></th>\n",
       "      <th>session_id</th>\n",
       "      <th>rank</th>\n",
       "      <th>u_q</th>\n",
       "      <th>coolant</th>\n",
       "      <th>stator_winding</th>\n",
       "      <th>u_d</th>\n",
       "      <th>stator_tooth</th>\n",
       "      <th>motor_speed</th>\n",
       "      <th>i_d</th>\n",
       "      <th>i_q</th>\n",
       "      <th>stator_yoke</th>\n",
       "      <th>ambient</th>\n",
       "      <th>torque</th>\n",
       "      <th>pm</th>\n",
       "    </tr>\n",
       "  </thead>\n",
       "  <tbody>\n",
       "    <tr>\n",
       "      <th>0</th>\n",
       "      <td>0</td>\n",
       "      <td>13</td>\n",
       "      <td>89.396964</td>\n",
       "      <td>18.755619</td>\n",
       "      <td>64.267929</td>\n",
       "      <td>-94.043390</td>\n",
       "      <td>49.644433</td>\n",
       "      <td>4999.957225</td>\n",
       "      <td>-140.333256</td>\n",
       "      <td>53.092959</td>\n",
       "      <td>36.357005</td>\n",
       "      <td>21.537047</td>\n",
       "      <td>48.330039</td>\n",
       "      <td>47.584192</td>\n",
       "    </tr>\n",
       "    <tr>\n",
       "      <th>1</th>\n",
       "      <td>0</td>\n",
       "      <td>14</td>\n",
       "      <td>88.838611</td>\n",
       "      <td>19.222207</td>\n",
       "      <td>63.970372</td>\n",
       "      <td>-94.502894</td>\n",
       "      <td>49.637457</td>\n",
       "      <td>4999.951532</td>\n",
       "      <td>-140.101997</td>\n",
       "      <td>53.141117</td>\n",
       "      <td>36.271015</td>\n",
       "      <td>21.621879</td>\n",
       "      <td>48.547166</td>\n",
       "      <td>47.383591</td>\n",
       "    </tr>\n",
       "    <tr>\n",
       "      <th>2</th>\n",
       "      <td>0</td>\n",
       "      <td>15</td>\n",
       "      <td>89.518317</td>\n",
       "      <td>18.891216</td>\n",
       "      <td>63.708574</td>\n",
       "      <td>-93.920111</td>\n",
       "      <td>49.539251</td>\n",
       "      <td>4999.952468</td>\n",
       "      <td>-140.406027</td>\n",
       "      <td>53.099484</td>\n",
       "      <td>36.224037</td>\n",
       "      <td>21.728331</td>\n",
       "      <td>48.295140</td>\n",
       "      <td>47.146833</td>\n",
       "    </tr>\n",
       "    <tr>\n",
       "      <th>3</th>\n",
       "      <td>0</td>\n",
       "      <td>16</td>\n",
       "      <td>89.073602</td>\n",
       "      <td>19.005388</td>\n",
       "      <td>63.449170</td>\n",
       "      <td>-94.518250</td>\n",
       "      <td>49.323337</td>\n",
       "      <td>4999.956231</td>\n",
       "      <td>-139.980127</td>\n",
       "      <td>53.173162</td>\n",
       "      <td>36.100438</td>\n",
       "      <td>21.707387</td>\n",
       "      <td>48.406753</td>\n",
       "      <td>46.897395</td>\n",
       "    </tr>\n",
       "    <tr>\n",
       "      <th>4</th>\n",
       "      <td>0</td>\n",
       "      <td>17</td>\n",
       "      <td>89.523293</td>\n",
       "      <td>19.303722</td>\n",
       "      <td>63.276967</td>\n",
       "      <td>-93.966083</td>\n",
       "      <td>49.306077</td>\n",
       "      <td>4999.952391</td>\n",
       "      <td>-140.561051</td>\n",
       "      <td>53.080814</td>\n",
       "      <td>35.966480</td>\n",
       "      <td>22.098269</td>\n",
       "      <td>48.415704</td>\n",
       "      <td>46.661446</td>\n",
       "    </tr>\n",
       "    <tr>\n",
       "      <th>...</th>\n",
       "      <td>...</td>\n",
       "      <td>...</td>\n",
       "      <td>...</td>\n",
       "      <td>...</td>\n",
       "      <td>...</td>\n",
       "      <td>...</td>\n",
       "      <td>...</td>\n",
       "      <td>...</td>\n",
       "      <td>...</td>\n",
       "      <td>...</td>\n",
       "      <td>...</td>\n",
       "      <td>...</td>\n",
       "      <td>...</td>\n",
       "      <td>...</td>\n",
       "    </tr>\n",
       "    <tr>\n",
       "      <th>107291</th>\n",
       "      <td>294</td>\n",
       "      <td>413</td>\n",
       "      <td>1.209628</td>\n",
       "      <td>33.383425</td>\n",
       "      <td>63.491825</td>\n",
       "      <td>0.937007</td>\n",
       "      <td>56.593806</td>\n",
       "      <td>-0.002081</td>\n",
       "      <td>-2.000242</td>\n",
       "      <td>1.098096</td>\n",
       "      <td>48.028519</td>\n",
       "      <td>23.549694</td>\n",
       "      <td>0.000490</td>\n",
       "      <td>68.339319</td>\n",
       "    </tr>\n",
       "    <tr>\n",
       "      <th>107292</th>\n",
       "      <td>294</td>\n",
       "      <td>414</td>\n",
       "      <td>1.373009</td>\n",
       "      <td>33.292696</td>\n",
       "      <td>64.357120</td>\n",
       "      <td>0.805124</td>\n",
       "      <td>57.470843</td>\n",
       "      <td>-0.000615</td>\n",
       "      <td>-2.000626</td>\n",
       "      <td>1.096763</td>\n",
       "      <td>48.792651</td>\n",
       "      <td>23.536386</td>\n",
       "      <td>0.000637</td>\n",
       "      <td>68.415773</td>\n",
       "    </tr>\n",
       "    <tr>\n",
       "      <th>107293</th>\n",
       "      <td>294</td>\n",
       "      <td>415</td>\n",
       "      <td>1.253125</td>\n",
       "      <td>33.530957</td>\n",
       "      <td>65.188994</td>\n",
       "      <td>0.945592</td>\n",
       "      <td>57.760254</td>\n",
       "      <td>0.005464</td>\n",
       "      <td>-2.001140</td>\n",
       "      <td>1.099104</td>\n",
       "      <td>49.292459</td>\n",
       "      <td>23.582271</td>\n",
       "      <td>0.000930</td>\n",
       "      <td>68.457560</td>\n",
       "    </tr>\n",
       "    <tr>\n",
       "      <th>107294</th>\n",
       "      <td>294</td>\n",
       "      <td>416</td>\n",
       "      <td>1.280524</td>\n",
       "      <td>33.316147</td>\n",
       "      <td>65.655702</td>\n",
       "      <td>0.884900</td>\n",
       "      <td>58.414420</td>\n",
       "      <td>0.181534</td>\n",
       "      <td>-2.000844</td>\n",
       "      <td>1.100347</td>\n",
       "      <td>49.338983</td>\n",
       "      <td>23.576428</td>\n",
       "      <td>0.001775</td>\n",
       "      <td>68.608494</td>\n",
       "    </tr>\n",
       "    <tr>\n",
       "      <th>107295</th>\n",
       "      <td>294</td>\n",
       "      <td>417</td>\n",
       "      <td>1.741882</td>\n",
       "      <td>33.399353</td>\n",
       "      <td>67.058682</td>\n",
       "      <td>0.759594</td>\n",
       "      <td>58.948974</td>\n",
       "      <td>9.746636</td>\n",
       "      <td>-2.028591</td>\n",
       "      <td>1.221659</td>\n",
       "      <td>49.456784</td>\n",
       "      <td>23.583417</td>\n",
       "      <td>0.090318</td>\n",
       "      <td>68.716733</td>\n",
       "    </tr>\n",
       "  </tbody>\n",
       "</table>\n",
       "<p>107296 rows × 14 columns</p>\n",
       "</div>"
      ],
      "text/plain": [
       "        session_id  rank        u_q    coolant  stator_winding        u_d  \\\n",
       "0                0    13  89.396964  18.755619       64.267929 -94.043390   \n",
       "1                0    14  88.838611  19.222207       63.970372 -94.502894   \n",
       "2                0    15  89.518317  18.891216       63.708574 -93.920111   \n",
       "3                0    16  89.073602  19.005388       63.449170 -94.518250   \n",
       "4                0    17  89.523293  19.303722       63.276967 -93.966083   \n",
       "...            ...   ...        ...        ...             ...        ...   \n",
       "107291         294   413   1.209628  33.383425       63.491825   0.937007   \n",
       "107292         294   414   1.373009  33.292696       64.357120   0.805124   \n",
       "107293         294   415   1.253125  33.530957       65.188994   0.945592   \n",
       "107294         294   416   1.280524  33.316147       65.655702   0.884900   \n",
       "107295         294   417   1.741882  33.399353       67.058682   0.759594   \n",
       "\n",
       "        stator_tooth  motor_speed         i_d        i_q  stator_yoke  \\\n",
       "0          49.644433  4999.957225 -140.333256  53.092959    36.357005   \n",
       "1          49.637457  4999.951532 -140.101997  53.141117    36.271015   \n",
       "2          49.539251  4999.952468 -140.406027  53.099484    36.224037   \n",
       "3          49.323337  4999.956231 -139.980127  53.173162    36.100438   \n",
       "4          49.306077  4999.952391 -140.561051  53.080814    35.966480   \n",
       "...              ...          ...         ...        ...          ...   \n",
       "107291     56.593806    -0.002081   -2.000242   1.098096    48.028519   \n",
       "107292     57.470843    -0.000615   -2.000626   1.096763    48.792651   \n",
       "107293     57.760254     0.005464   -2.001140   1.099104    49.292459   \n",
       "107294     58.414420     0.181534   -2.000844   1.100347    49.338983   \n",
       "107295     58.948974     9.746636   -2.028591   1.221659    49.456784   \n",
       "\n",
       "          ambient     torque         pm  \n",
       "0       21.537047  48.330039  47.584192  \n",
       "1       21.621879  48.547166  47.383591  \n",
       "2       21.728331  48.295140  47.146833  \n",
       "3       21.707387  48.406753  46.897395  \n",
       "4       22.098269  48.415704  46.661446  \n",
       "...           ...        ...        ...  \n",
       "107291  23.549694   0.000490  68.339319  \n",
       "107292  23.536386   0.000637  68.415773  \n",
       "107293  23.582271   0.000930  68.457560  \n",
       "107294  23.576428   0.001775  68.608494  \n",
       "107295  23.583417   0.090318  68.716733  \n",
       "\n",
       "[107296 rows x 14 columns]"
      ]
     },
     "execution_count": 3,
     "metadata": {},
     "output_type": "execute_result"
    }
   ],
   "source": [
    "train"
   ]
  },
  {
   "cell_type": "code",
   "execution_count": 5,
   "metadata": {},
   "outputs": [
    {
     "data": {
      "text/html": [
       "<div>\n",
       "<style scoped>\n",
       "    .dataframe tbody tr th:only-of-type {\n",
       "        vertical-align: middle;\n",
       "    }\n",
       "\n",
       "    .dataframe tbody tr th {\n",
       "        vertical-align: top;\n",
       "    }\n",
       "\n",
       "    .dataframe thead th {\n",
       "        text-align: right;\n",
       "    }\n",
       "</style>\n",
       "<table border=\"1\" class=\"dataframe\">\n",
       "  <thead>\n",
       "    <tr style=\"text-align: right;\">\n",
       "      <th></th>\n",
       "      <th>session_id</th>\n",
       "      <th>rank</th>\n",
       "      <th>pm</th>\n",
       "    </tr>\n",
       "  </thead>\n",
       "  <tbody>\n",
       "    <tr>\n",
       "      <th>0</th>\n",
       "      <td>0</td>\n",
       "      <td>13</td>\n",
       "      <td>47.584192</td>\n",
       "    </tr>\n",
       "    <tr>\n",
       "      <th>1</th>\n",
       "      <td>0</td>\n",
       "      <td>14</td>\n",
       "      <td>47.383591</td>\n",
       "    </tr>\n",
       "    <tr>\n",
       "      <th>2</th>\n",
       "      <td>0</td>\n",
       "      <td>15</td>\n",
       "      <td>47.146833</td>\n",
       "    </tr>\n",
       "    <tr>\n",
       "      <th>3</th>\n",
       "      <td>0</td>\n",
       "      <td>16</td>\n",
       "      <td>46.897395</td>\n",
       "    </tr>\n",
       "    <tr>\n",
       "      <th>4</th>\n",
       "      <td>0</td>\n",
       "      <td>17</td>\n",
       "      <td>46.661446</td>\n",
       "    </tr>\n",
       "    <tr>\n",
       "      <th>...</th>\n",
       "      <td>...</td>\n",
       "      <td>...</td>\n",
       "      <td>...</td>\n",
       "    </tr>\n",
       "    <tr>\n",
       "      <th>107291</th>\n",
       "      <td>294</td>\n",
       "      <td>413</td>\n",
       "      <td>68.339319</td>\n",
       "    </tr>\n",
       "    <tr>\n",
       "      <th>107292</th>\n",
       "      <td>294</td>\n",
       "      <td>414</td>\n",
       "      <td>68.415773</td>\n",
       "    </tr>\n",
       "    <tr>\n",
       "      <th>107293</th>\n",
       "      <td>294</td>\n",
       "      <td>415</td>\n",
       "      <td>68.457560</td>\n",
       "    </tr>\n",
       "    <tr>\n",
       "      <th>107294</th>\n",
       "      <td>294</td>\n",
       "      <td>416</td>\n",
       "      <td>68.608494</td>\n",
       "    </tr>\n",
       "    <tr>\n",
       "      <th>107295</th>\n",
       "      <td>294</td>\n",
       "      <td>417</td>\n",
       "      <td>68.716733</td>\n",
       "    </tr>\n",
       "  </tbody>\n",
       "</table>\n",
       "<p>107296 rows × 3 columns</p>\n",
       "</div>"
      ],
      "text/plain": [
       "        session_id  rank         pm\n",
       "0                0    13  47.584192\n",
       "1                0    14  47.383591\n",
       "2                0    15  47.146833\n",
       "3                0    16  46.897395\n",
       "4                0    17  46.661446\n",
       "...            ...   ...        ...\n",
       "107291         294   413  68.339319\n",
       "107292         294   414  68.415773\n",
       "107293         294   415  68.457560\n",
       "107294         294   416  68.608494\n",
       "107295         294   417  68.716733\n",
       "\n",
       "[107296 rows x 3 columns]"
      ]
     },
     "execution_count": 5,
     "metadata": {},
     "output_type": "execute_result"
    }
   ],
   "source": [
    "data = train[['session_id','rank','pm']]\n",
    "data"
   ]
  },
  {
   "cell_type": "code",
   "execution_count": 6,
   "metadata": {},
   "outputs": [
    {
     "data": {
      "text/plain": [
       "count    295.000000\n",
       "mean     363.715254\n",
       "std      100.043529\n",
       "min       37.000000\n",
       "25%      405.000000\n",
       "50%      405.000000\n",
       "75%      405.000000\n",
       "max      736.000000\n",
       "Name: rank, dtype: float64"
      ]
     },
     "execution_count": 6,
     "metadata": {},
     "output_type": "execute_result"
    }
   ],
   "source": [
    "data.groupby('session_id')['rank'].count().describe()"
   ]
  },
  {
   "cell_type": "code",
   "execution_count": 7,
   "metadata": {},
   "outputs": [
    {
     "data": {
      "text/html": [
       "<div>\n",
       "<style scoped>\n",
       "    .dataframe tbody tr th:only-of-type {\n",
       "        vertical-align: middle;\n",
       "    }\n",
       "\n",
       "    .dataframe tbody tr th {\n",
       "        vertical-align: top;\n",
       "    }\n",
       "\n",
       "    .dataframe thead th {\n",
       "        text-align: right;\n",
       "    }\n",
       "</style>\n",
       "<table border=\"1\" class=\"dataframe\">\n",
       "  <thead>\n",
       "    <tr style=\"text-align: right;\">\n",
       "      <th></th>\n",
       "      <th>session_id</th>\n",
       "      <th>rank</th>\n",
       "      <th>pm</th>\n",
       "    </tr>\n",
       "  </thead>\n",
       "  <tbody>\n",
       "    <tr>\n",
       "      <th>0</th>\n",
       "      <td>0</td>\n",
       "      <td>13</td>\n",
       "      <td>47.584192</td>\n",
       "    </tr>\n",
       "    <tr>\n",
       "      <th>1</th>\n",
       "      <td>0</td>\n",
       "      <td>14</td>\n",
       "      <td>47.383591</td>\n",
       "    </tr>\n",
       "    <tr>\n",
       "      <th>2</th>\n",
       "      <td>0</td>\n",
       "      <td>15</td>\n",
       "      <td>47.146833</td>\n",
       "    </tr>\n",
       "    <tr>\n",
       "      <th>3</th>\n",
       "      <td>0</td>\n",
       "      <td>16</td>\n",
       "      <td>46.897395</td>\n",
       "    </tr>\n",
       "    <tr>\n",
       "      <th>4</th>\n",
       "      <td>0</td>\n",
       "      <td>17</td>\n",
       "      <td>46.661446</td>\n",
       "    </tr>\n",
       "    <tr>\n",
       "      <th>...</th>\n",
       "      <td>...</td>\n",
       "      <td>...</td>\n",
       "      <td>...</td>\n",
       "    </tr>\n",
       "    <tr>\n",
       "      <th>64</th>\n",
       "      <td>0</td>\n",
       "      <td>77</td>\n",
       "      <td>24.896908</td>\n",
       "    </tr>\n",
       "    <tr>\n",
       "      <th>65</th>\n",
       "      <td>0</td>\n",
       "      <td>78</td>\n",
       "      <td>24.320442</td>\n",
       "    </tr>\n",
       "    <tr>\n",
       "      <th>66</th>\n",
       "      <td>0</td>\n",
       "      <td>79</td>\n",
       "      <td>24.462605</td>\n",
       "    </tr>\n",
       "    <tr>\n",
       "      <th>67</th>\n",
       "      <td>0</td>\n",
       "      <td>80</td>\n",
       "      <td>24.460167</td>\n",
       "    </tr>\n",
       "    <tr>\n",
       "      <th>68</th>\n",
       "      <td>0</td>\n",
       "      <td>81</td>\n",
       "      <td>24.554696</td>\n",
       "    </tr>\n",
       "  </tbody>\n",
       "</table>\n",
       "<p>69 rows × 3 columns</p>\n",
       "</div>"
      ],
      "text/plain": [
       "    session_id  rank         pm\n",
       "0            0    13  47.584192\n",
       "1            0    14  47.383591\n",
       "2            0    15  47.146833\n",
       "3            0    16  46.897395\n",
       "4            0    17  46.661446\n",
       "..         ...   ...        ...\n",
       "64           0    77  24.896908\n",
       "65           0    78  24.320442\n",
       "66           0    79  24.462605\n",
       "67           0    80  24.460167\n",
       "68           0    81  24.554696\n",
       "\n",
       "[69 rows x 3 columns]"
      ]
     },
     "execution_count": 7,
     "metadata": {},
     "output_type": "execute_result"
    }
   ],
   "source": [
    "data[data['session_id'] == 0]"
   ]
  },
  {
   "cell_type": "code",
   "execution_count": 8,
   "metadata": {},
   "outputs": [
    {
     "data": {
      "text/plain": [
       "['accuracy',\n",
       " 'adjusted_mutual_info_score',\n",
       " 'adjusted_rand_score',\n",
       " 'average_precision',\n",
       " 'balanced_accuracy',\n",
       " 'completeness_score',\n",
       " 'explained_variance',\n",
       " 'f1',\n",
       " 'f1_macro',\n",
       " 'f1_micro',\n",
       " 'f1_samples',\n",
       " 'f1_weighted',\n",
       " 'fowlkes_mallows_score',\n",
       " 'homogeneity_score',\n",
       " 'jaccard',\n",
       " 'jaccard_macro',\n",
       " 'jaccard_micro',\n",
       " 'jaccard_samples',\n",
       " 'jaccard_weighted',\n",
       " 'matthews_corrcoef',\n",
       " 'max_error',\n",
       " 'mutual_info_score',\n",
       " 'neg_brier_score',\n",
       " 'neg_log_loss',\n",
       " 'neg_mean_absolute_error',\n",
       " 'neg_mean_absolute_percentage_error',\n",
       " 'neg_mean_gamma_deviance',\n",
       " 'neg_mean_poisson_deviance',\n",
       " 'neg_mean_squared_error',\n",
       " 'neg_mean_squared_log_error',\n",
       " 'neg_median_absolute_error',\n",
       " 'neg_root_mean_squared_error',\n",
       " 'normalized_mutual_info_score',\n",
       " 'precision',\n",
       " 'precision_macro',\n",
       " 'precision_micro',\n",
       " 'precision_samples',\n",
       " 'precision_weighted',\n",
       " 'r2',\n",
       " 'rand_score',\n",
       " 'recall',\n",
       " 'recall_macro',\n",
       " 'recall_micro',\n",
       " 'recall_samples',\n",
       " 'recall_weighted',\n",
       " 'roc_auc',\n",
       " 'roc_auc_ovo',\n",
       " 'roc_auc_ovo_weighted',\n",
       " 'roc_auc_ovr',\n",
       " 'roc_auc_ovr_weighted',\n",
       " 'top_k_accuracy',\n",
       " 'v_measure_score']"
      ]
     },
     "execution_count": 8,
     "metadata": {},
     "output_type": "execute_result"
    }
   ],
   "source": [
    "import sklearn\n",
    "sklearn.metrics.get_scorer_names()"
   ]
  },
  {
   "cell_type": "markdown",
   "metadata": {},
   "source": [
    "lgbm"
   ]
  },
  {
   "cell_type": "code",
   "execution_count": 10,
   "metadata": {},
   "outputs": [
    {
     "data": {
      "text/plain": [
       "0    0.341548\n",
       "dtype: float64"
      ]
     },
     "execution_count": 10,
     "metadata": {},
     "output_type": "execute_result"
    }
   ],
   "source": [
    "from lightgbm import LGBMRegressor\n",
    "from sklearn.model_selection import cross_validate,KFold,cross_val_score\n",
    "from sklearn.model_selection import train_test_split\n",
    "\n",
    "cv_score=[] \n",
    "for i in range(0,294):\n",
    "    X = data[data['session_id'] == i]['rank'].to_numpy().reshape(-1,1)\n",
    "    y = data[data['session_id'] == i]['pm'].to_numpy().reshape(-1,1)\n",
    "    train_x,test_x,train_y,test_y = train_test_split(X,y,test_size=0.9)\n",
    "    lgb = LGBMRegressor(\n",
    "        random_state=2022\n",
    "    )\n",
    "    lgb = lgb.fit(train_x, train_y)\n",
    "    lgb_cv=cross_val_score(lgb,X=test_x,y=test_y,cv=5,scoring='neg_mean_absolute_error')\n",
    "    cv_score.append(lgb_cv.mean())\n",
    "-pd.DataFrame(cv_score).mean()"
   ]
  },
  {
   "cell_type": "code",
   "execution_count": 81,
   "metadata": {},
   "outputs": [
    {
     "data": {
      "text/plain": [
       "'\\n0.34345\\n\\n\\n\\n'"
      ]
     },
     "execution_count": 81,
     "metadata": {},
     "output_type": "execute_result"
    }
   ],
   "source": [
    "\"\"\"\n",
    "0.34345\n",
    "1.26\n",
    "0.341565\n",
    "\"\"\""
   ]
  },
  {
   "cell_type": "code",
   "execution_count": 22,
   "metadata": {},
   "outputs": [],
   "source": [
    "for i in range(0,294):\n",
    "    X = data[data['session_id'] == i]['rank'].to_numpy().reshape(-1,1)\n",
    "    y = data[data['session_id'] == i]['pm'].to_numpy().reshape(-1,1)\n",
    "    test_X = test[test['session_id'] == i]['rank'].to_numpy().reshape(-1,1)[::-1]\n",
    "    lgb = LGBMRegressor(\n",
    "        random_state=2022\n",
    "    )\n",
    "    lgb = lgb.fit(X,y)\n",
    "    y_pred=lgb.predict(test_X)\n",
    "    sample_submit.loc[sample_submit['session_id']==i,'pm'] = y_pred"
   ]
  },
  {
   "cell_type": "code",
   "execution_count": 23,
   "metadata": {},
   "outputs": [
    {
     "data": {
      "text/html": [
       "<div>\n",
       "<style scoped>\n",
       "    .dataframe tbody tr th:only-of-type {\n",
       "        vertical-align: middle;\n",
       "    }\n",
       "\n",
       "    .dataframe tbody tr th {\n",
       "        vertical-align: top;\n",
       "    }\n",
       "\n",
       "    .dataframe thead th {\n",
       "        text-align: right;\n",
       "    }\n",
       "</style>\n",
       "<table border=\"1\" class=\"dataframe\">\n",
       "  <thead>\n",
       "    <tr style=\"text-align: right;\">\n",
       "      <th></th>\n",
       "      <th>session_id</th>\n",
       "      <th>rank</th>\n",
       "      <th>pm</th>\n",
       "    </tr>\n",
       "  </thead>\n",
       "  <tbody>\n",
       "    <tr>\n",
       "      <th>0</th>\n",
       "      <td>0</td>\n",
       "      <td>1</td>\n",
       "      <td>45.000516</td>\n",
       "    </tr>\n",
       "    <tr>\n",
       "      <th>1</th>\n",
       "      <td>0</td>\n",
       "      <td>2</td>\n",
       "      <td>45.000516</td>\n",
       "    </tr>\n",
       "    <tr>\n",
       "      <th>2</th>\n",
       "      <td>0</td>\n",
       "      <td>3</td>\n",
       "      <td>45.000516</td>\n",
       "    </tr>\n",
       "    <tr>\n",
       "      <th>3</th>\n",
       "      <td>0</td>\n",
       "      <td>4</td>\n",
       "      <td>45.000516</td>\n",
       "    </tr>\n",
       "    <tr>\n",
       "      <th>4</th>\n",
       "      <td>0</td>\n",
       "      <td>5</td>\n",
       "      <td>45.000516</td>\n",
       "    </tr>\n",
       "    <tr>\n",
       "      <th>...</th>\n",
       "      <td>...</td>\n",
       "      <td>...</td>\n",
       "      <td>...</td>\n",
       "    </tr>\n",
       "    <tr>\n",
       "      <th>3535</th>\n",
       "      <td>294</td>\n",
       "      <td>8</td>\n",
       "      <td>0.000000</td>\n",
       "    </tr>\n",
       "    <tr>\n",
       "      <th>3536</th>\n",
       "      <td>294</td>\n",
       "      <td>9</td>\n",
       "      <td>0.000000</td>\n",
       "    </tr>\n",
       "    <tr>\n",
       "      <th>3537</th>\n",
       "      <td>294</td>\n",
       "      <td>10</td>\n",
       "      <td>0.000000</td>\n",
       "    </tr>\n",
       "    <tr>\n",
       "      <th>3538</th>\n",
       "      <td>294</td>\n",
       "      <td>11</td>\n",
       "      <td>0.000000</td>\n",
       "    </tr>\n",
       "    <tr>\n",
       "      <th>3539</th>\n",
       "      <td>294</td>\n",
       "      <td>12</td>\n",
       "      <td>0.000000</td>\n",
       "    </tr>\n",
       "  </tbody>\n",
       "</table>\n",
       "<p>3540 rows × 3 columns</p>\n",
       "</div>"
      ],
      "text/plain": [
       "      session_id  rank         pm\n",
       "0              0     1  45.000516\n",
       "1              0     2  45.000516\n",
       "2              0     3  45.000516\n",
       "3              0     4  45.000516\n",
       "4              0     5  45.000516\n",
       "...          ...   ...        ...\n",
       "3535         294     8   0.000000\n",
       "3536         294     9   0.000000\n",
       "3537         294    10   0.000000\n",
       "3538         294    11   0.000000\n",
       "3539         294    12   0.000000\n",
       "\n",
       "[3540 rows x 3 columns]"
      ]
     },
     "execution_count": 23,
     "metadata": {},
     "output_type": "execute_result"
    }
   ],
   "source": [
    "sample_submit.to_csv('result3.csv', index=False)\n",
    "pd.read_csv('result3.csv')"
   ]
  },
  {
   "cell_type": "code",
   "execution_count": 35,
   "metadata": {},
   "outputs": [
    {
     "data": {
      "text/plain": [
       "0.044238107565861655"
      ]
     },
     "execution_count": 35,
     "metadata": {},
     "output_type": "execute_result"
    }
   ],
   "source": [
    "\n",
    "i=3\n",
    "X = data[data['session_id'] == i]['rank'].to_numpy().reshape(-1,1)\n",
    "y = data[data['session_id'] == i]['pm'].to_numpy().reshape(-1,1)\n",
    "train_x,test_x,train_y,test_y = train_test_split(X,y,test_size=0.9)\n",
    "test_X = test[test['session_id'] == i]['rank'].to_numpy().reshape(-1,1)[::-1]\n",
    "lgb = LGBMRegressor(\n",
    "    random_state=2022\n",
    ")\n",
    "lgb = lgb.fit(train_x, train_y)\n",
    "lgb_cv=cross_val_score(lgb,X=test_x,y=test_y,cv=5,scoring='neg_mean_absolute_error').mean()\n",
    "-lgb_cv"
   ]
  },
  {
   "cell_type": "code",
   "execution_count": 50,
   "metadata": {},
   "outputs": [
    {
     "data": {
      "text/plain": [
       "array([47.13641165])"
      ]
     },
     "execution_count": 50,
     "metadata": {},
     "output_type": "execute_result"
    }
   ],
   "source": [
    "i=29\n",
    "X = data[data['session_id'] == i]['rank'].to_numpy().reshape(-1,1)\n",
    "y = data[data['session_id'] == i]['pm'].to_numpy().reshape(-1,1)\n",
    "test_X = test[test['session_id'] == i]['rank'].to_numpy().reshape(-1,1)[::-1]\n",
    "lgb = LGBMRegressor(\n",
    "    random_state=2022\n",
    ")\n",
    "lgb = lgb.fit(X,y)\n",
    "y_pred=lgb.predict([[140,]])\n",
    "y_pred"
   ]
  },
  {
   "cell_type": "code",
   "execution_count": 29,
   "metadata": {},
   "outputs": [
    {
     "data": {
      "text/plain": [
       "array([[12],\n",
       "       [11],\n",
       "       [10],\n",
       "       [ 9],\n",
       "       [ 8],\n",
       "       [ 7],\n",
       "       [ 6],\n",
       "       [ 5],\n",
       "       [ 4],\n",
       "       [ 3],\n",
       "       [ 2],\n",
       "       [ 1]], dtype=int64)"
      ]
     },
     "execution_count": 29,
     "metadata": {},
     "output_type": "execute_result"
    }
   ],
   "source": [
    "test_X"
   ]
  },
  {
   "cell_type": "code",
   "execution_count": 48,
   "metadata": {},
   "outputs": [
    {
     "data": {
      "text/plain": [
       "<AxesSubplot:xlabel='rank', ylabel='pm'>"
      ]
     },
     "execution_count": 48,
     "metadata": {},
     "output_type": "execute_result"
    },
    {
     "data": {
      "image/png": "[encoded data removed]",
      "text/plain": [
       "<Figure size 432x288 with 1 Axes>"
      ]
     },
     "metadata": {
      "needs_background": "light"
     },
     "output_type": "display_data"
    }
   ],
   "source": [
    "sns.lineplot(data=data[data['session_id']==0],x = 'rank',y='pm')"
   ]
  },
  {
   "cell_type": "code",
   "execution_count": 45,
   "metadata": {},
   "outputs": [
    {
     "data": {
      "text/plain": [
       "<AxesSubplot:xlabel='rank', ylabel='pm'>"
      ]
     },
     "execution_count": 45,
     "metadata": {},
     "output_type": "execute_result"
    },
    {
     "data": {
      "image/png": "[encoded data removed]",
      "text/plain": [
       "<Figure size 432x288 with 1 Axes>"
      ]
     },
     "metadata": {
      "needs_background": "light"
     },
     "output_type": "display_data"
    }
   ],
   "source": [
    "sns.lineplot(data=data[data['session_id']==1],x = 'rank',y='pm')"
   ]
  },
  {
   "cell_type": "code",
   "execution_count": 36,
   "metadata": {},
   "outputs": [
    {
     "data": {
      "text/plain": [
       "<AxesSubplot:xlabel='rank', ylabel='pm'>"
      ]
     },
     "execution_count": 36,
     "metadata": {},
     "output_type": "execute_result"
    },
    {
     "data": {
      "image/png": "[encoded data removed]",
      "text/plain": [
       "<Figure size 432x288 with 1 Axes>"
      ]
     },
     "metadata": {
      "needs_background": "light"
     },
     "output_type": "display_data"
    }
   ],
   "source": [
    "sns.lineplot(data=data[data['session_id']==2],x = 'rank',y='pm')"
   ]
  },
  {
   "cell_type": "code",
   "execution_count": 37,
   "metadata": {},
   "outputs": [
    {
     "data": {
      "text/plain": [
       "<AxesSubplot:xlabel='rank', ylabel='pm'>"
      ]
     },
     "execution_count": 37,
     "metadata": {},
     "output_type": "execute_result"
    },
    {
     "data": {
      "image/png": "[encoded data removed]",
      "text/plain": [
       "<Figure size 432x288 with 1 Axes>"
      ]
     },
     "metadata": {
      "needs_background": "light"
     },
     "output_type": "display_data"
    }
   ],
   "source": [
    "sns.lineplot(data=data[data['session_id']==3],x = 'rank',y='pm')"
   ]
  },
  {
   "cell_type": "code",
   "execution_count": 40,
   "metadata": {},
   "outputs": [
    {
     "data": {
      "text/plain": [
       "<AxesSubplot:xlabel='rank', ylabel='pm'>"
      ]
     },
     "execution_count": 40,
     "metadata": {},
     "output_type": "execute_result"
    },
    {
     "data": {
      "image/png": "[encoded data removed]",
      "text/plain": [
       "<Figure size 432x288 with 1 Axes>"
      ]
     },
     "metadata": {
      "needs_background": "light"
     },
     "output_type": "display_data"
    }
   ],
   "source": [
    "sns.lineplot(data=data[data['session_id']==5],x = 'rank',y='pm')"
   ]
  },
  {
   "cell_type": "code",
   "execution_count": 43,
   "metadata": {},
   "outputs": [
    {
     "data": {
      "text/plain": [
       "<AxesSubplot:xlabel='rank', ylabel='pm'>"
      ]
     },
     "execution_count": 43,
     "metadata": {},
     "output_type": "execute_result"
    },
    {
     "data": {
      "image/png": "[encoded data removed]",
      "text/plain": [
       "<Figure size 432x288 with 1 Axes>"
      ]
     },
     "metadata": {
      "needs_background": "light"
     },
     "output_type": "display_data"
    }
   ],
   "source": [
    "sns.lineplot(data=data[data['session_id']==292],x = 'rank',y='pm')"
   ]
  },
  {
   "cell_type": "code",
   "execution_count": 42,
   "metadata": {},
   "outputs": [
    {
     "data": {
      "text/plain": [
       "<AxesSubplot:xlabel='rank', ylabel='pm'>"
      ]
     },
     "execution_count": 42,
     "metadata": {},
     "output_type": "execute_result"
    },
    {
     "data": {
      "image/png": "[encoded data removed]",
      "text/plain": [
       "<Figure size 432x288 with 1 Axes>"
      ]
     },
     "metadata": {
      "needs_background": "light"
     },
     "output_type": "display_data"
    }
   ],
   "source": [
    "sns.lineplot(data=data[data['session_id']==293],x = 'rank',y='pm')"
   ]
  },
  {
   "cell_type": "code",
   "execution_count": 41,
   "metadata": {},
   "outputs": [
    {
     "data": {
      "text/plain": [
       "<AxesSubplot:xlabel='rank', ylabel='pm'>"
      ]
     },
     "execution_count": 41,
     "metadata": {},
     "output_type": "execute_result"
    },
    {
     "data": {
      "image/png": "[encoded data removed]",
      "text/plain": [
       "<Figure size 432x288 with 1 Axes>"
      ]
     },
     "metadata": {
      "needs_background": "light"
     },
     "output_type": "display_data"
    }
   ],
   "source": [
    "sns.lineplot(data=data[data['session_id']==294],x = 'rank',y='pm')"
   ]
  },
  {
   "cell_type": "code",
   "execution_count": 11,
   "metadata": {},
   "outputs": [
    {
     "data": {
      "text/plain": [
       "<AxesSubplot:>"
      ]
     },
     "execution_count": 11,
     "metadata": {},
     "output_type": "execute_result"
    },
    {
     "data": {
      "image/png": "[encoded data removed]",
      "text/plain": [
       "<Figure size 720x720 with 2 Axes>"
      ]
     },
     "metadata": {
      "needs_background": "light"
     },
     "output_type": "display_data"
    }
   ],
   "source": [
    "fig = plt.figure(1, figsize = (10,10))\n",
    "corr = train.corr()\n",
    "sns.heatmap(corr,cmap=\"YlGnBu\")"
   ]
  },
  {
   "cell_type": "markdown",
   "metadata": {},
   "source": [
    "auto_arima"
   ]
  },
  {
   "cell_type": "code",
   "execution_count": 4,
   "metadata": {},
   "outputs": [
    {
     "name": "stderr",
     "output_type": "stream",
     "text": [
      "100%|██████████| 295/295 [15:11<00:00,  3.09s/it]\n"
     ]
    }
   ],
   "source": [
    "# 分测量会话session_id进行预测\n",
    "for session_id in tqdm(sample_submit['session_id'].unique()):\n",
    "    # 获取对应session_id的pm，并按rank从大到小排序\n",
    "    train_y = train[train['session_id']==session_id]['pm'].tolist()[::-1]\n",
    "\n",
    "    # 训练模型\n",
    "    model = auto_arima(train_y, start_p=1, start_q=1, max_p=9, max_q=6, max_d=3,\n",
    "    mseasonal=False, m=1, test='adf', trace=False,\n",
    "    error_action='ignore',\n",
    "    suppress_warnings=True,\n",
    "    stepwise=True, information_criterion='bic', njob=-1)\n",
    "    # 把训练数据放入auto_arima得到最优模型，ARIMA里的三个参数PDQ都是可以进行自动调参的，就\n",
    "    # 它会自动对这三个参数进行调整，这里m=1的意思是不考虑季节性。\n",
    "    # 预测未来12个单位的pm\n",
    "    pred_res = model.predict(12)\n",
    "    # 保存对于session_id的pm\n",
    "    sample_submit.loc[sample_submit['session_id']==session_id, 'pm'] = pred_res\n",
    "\n",
    "sample_submit.to_csv('result.csv', index=False)\n"
   ]
  },
  {
   "cell_type": "code",
   "execution_count": 12,
   "metadata": {},
   "outputs": [],
   "source": [
    "#安装相关依赖库 如果是windows系统，cmd命令框中输入pip安装，参考上述环境配置\n",
    "#!pip install pandas\n",
    "#---------------------------------------------------\n",
    "#导入库\n",
    "#----------------数据探索----------------\n",
    "import pandas as pd\n",
    "import numpy as np\n",
    "#----------------忽略报警----------------\n",
    "import warnings\n",
    "warnings.filterwarnings('ignore')"
   ]
  },
  {
   "cell_type": "code",
   "execution_count": 13,
   "metadata": {},
   "outputs": [
    {
     "name": "stdout",
     "output_type": "stream",
     "text": [
      "<class 'pandas.core.frame.DataFrame'>\n",
      "RangeIndex: 107296 entries, 0 to 107295\n",
      "Data columns (total 14 columns):\n",
      " #   Column          Non-Null Count   Dtype  \n",
      "---  ------          --------------   -----  \n",
      " 0   session_id      107296 non-null  int64  \n",
      " 1   rank            107296 non-null  int64  \n",
      " 2   u_q             107296 non-null  float64\n",
      " 3   coolant         107296 non-null  float64\n",
      " 4   stator_winding  107296 non-null  float64\n",
      " 5   u_d             107296 non-null  float64\n",
      " 6   stator_tooth    107296 non-null  float64\n",
      " 7   motor_speed     107296 non-null  float64\n",
      " 8   i_d             107296 non-null  float64\n",
      " 9   i_q             107296 non-null  float64\n",
      " 10  stator_yoke     107296 non-null  float64\n",
      " 11  ambient         107296 non-null  float64\n",
      " 12  torque          107296 non-null  float64\n",
      " 13  pm              107296 non-null  float64\n",
      "dtypes: float64(12), int64(2)\n",
      "memory usage: 11.5 MB\n"
     ]
    }
   ],
   "source": [
    "# 读取训练数据和测试数据\n",
    "train = pd.read_csv('train.csv')\n",
    "test = pd.read_csv('test.csv')\n",
    "sample_submit = pd.read_csv('sample_submit.csv')\n",
    "\n",
    "# 数据量\n",
    "# print(train.shape, test.shape)\n",
    "\n",
    "# 训练集信息，快速了解数据基本情况，包含column（列名）、Non-Null Count（非缺失样本数）、Dtype（特征类型）等\n",
    "train.info()"
   ]
  },
  {
   "cell_type": "markdown",
   "metadata": {},
   "source": [
    "平均增长率"
   ]
  },
  {
   "cell_type": "code",
   "execution_count": 14,
   "metadata": {},
   "outputs": [],
   "source": [
    "for i in range(0,12):\n",
    "    rk = 12 - i\n",
    "    # 平均增长率计算\n",
    "    ratio = 0\n",
    "    for j in range(1,25):\n",
    "        ratio += train[train['rank']==rk+j]['pm'].values / train[train['rank']==rk+j+1]['pm'].values\n",
    "    ratio /= j\n",
    "    \n",
    "    # 当前rank结果 * 平均增长率 = 下个rank的结果\n",
    "    res = train[train['rank']==rk+1]['pm'].values * ratio\n",
    "    \n",
    "    # 将当前计算的rank结果拼接到训练数据，便于计算接下来的rank结果\n",
    "    train = train.append(pd.DataFrame({'pm':res,'rank':[rk]*test['session_id'].nunique()}))\n",
    "    \n",
    "    # 保存对于rank的pm\n",
    "    sample_submit.loc[sample_submit['rank']==rk, 'pm'] = train.loc[train['rank']==rk, 'pm'].values"
   ]
  },
  {
   "cell_type": "code",
   "execution_count": 15,
   "metadata": {},
   "outputs": [],
   "source": [
    "sample_submit.to_csv('result1.csv', index=False)"
   ]
  }
 ],
 "metadata": {
  "kernelspec": {
   "display_name": "Python 3.10.6 64-bit (windows store)",
   "language": "python",
   "name": "python3"
  },
  "language_info": {
   "codemirror_mode": {
    "name": "ipython",
    "version": 3
   },
   "file_extension": ".py",
   "mimetype": "text/x-python",
   "name": "python",
   "nbconvert_exporter": "python",
   "pygments_lexer": "ipython3",
   "version": "3.10.6"
  },
  "orig_nbformat": 4,
  "vscode": {
   "interpreter": {
    "hash": "825850a1542703e8330eb48918fb3db9db9b2154f7cb48e5f7ab1215ef3a88b8"
   }
  }
 },
 "nbformat": 4,
 "nbformat_minor": 2
}
